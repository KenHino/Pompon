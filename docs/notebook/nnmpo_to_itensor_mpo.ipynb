{
 "cells": [
  {
   "cell_type": "markdown",
   "id": "a3c357a7-ec28-47b3-88e9-834c9a2ad4a7",
   "metadata": {},
   "source": [
    "# Convert NN-MPO to ITensor MPO\n",
    "\n",
    "![](assets/nnmpo2mpo.png)\n",
    "\n",
    "- See also our [DVR(`discvar`) documentation](https://kenhino.github.io/Discvar/index.html)."
   ]
  },
  {
   "cell_type": "code",
   "execution_count": 1,
   "id": "9f7778ad-2c04-45ae-881f-f2405482b10e",
   "metadata": {},
   "outputs": [],
   "source": [
    "import matplotlib.pyplot as plt\n",
    "import numpy as np\n",
    "from discvar import HarmonicOscillator as HO\n",
    "\n",
    "import pompon\n",
    "import pompon.utils"
   ]
  },
  {
   "cell_type": "markdown",
   "id": "7e7e77e3-010d-4a53-a7e8-0b97e604f4d4",
   "metadata": {},
   "source": [
    "## Define harmonic frequencies"
   ]
  },
  {
   "cell_type": "code",
   "execution_count": 2,
   "id": "0b117971-4e0d-4e09-b929-ca5ad6bdb019",
   "metadata": {},
   "outputs": [],
   "source": [
    "freqs = [1193.495, 1264.160, 1529.535, 1863.269, 2867.313, 2926.465]"
   ]
  },
  {
   "cell_type": "markdown",
   "id": "1e712800-22f6-4711-8598-2af1e863fd7e",
   "metadata": {},
   "source": [
    "## Load trained NN-MPO\n",
    "\n",
    "![](assets/nnmpo.png)"
   ]
  },
  {
   "cell_type": "code",
   "execution_count": 3,
   "id": "cc021102-e0cd-4389-ad26-ca4a2b5a14e5",
   "metadata": {},
   "outputs": [
    {
     "name": "stderr",
     "output_type": "stream",
     "text": [
      "2024-10-18 16:14:49 - INFO:pompon.pompon.model - Model is imported from data/nnmpo_final_rmse_8.365e-04.h5\n"
     ]
    }
   ],
   "source": [
    "nnmpo = pompon.NNMPO.import_h5(\"data/nnmpo_final_rmse_8.365e-04.h5\")\n",
    "nnmpo.rescale(1.0, 1 / 27.21138)  # eV to Eh"
   ]
  },
  {
   "cell_type": "code",
   "execution_count": 4,
   "id": "42c4479a-af5f-420b-b279-e2787e7057a9",
   "metadata": {},
   "outputs": [
    {
     "data": {
      "image/png": "[encoded data removed]",
      "text/plain": [
       "<Figure size 640x480 with 2 Axes>"
      ]
     },
     "metadata": {},
     "output_type": "display_data"
    }
   ],
   "source": [
    "U = np.array(nnmpo.coordinator.U.data)\n",
    "plt.imshow(np.abs(U))\n",
    "plt.colorbar()\n",
    "plt.show()"
   ]
  },
  {
   "cell_type": "markdown",
   "id": "f095f940-16ab-480c-b024-86e7b6270363",
   "metadata": {},
   "source": [
    "$$\n",
    "Q = \\xi U\n",
    "$$\n",
    "$$\n",
    "\\frac12 \\xi \n",
    "\\begin{pmatrix}\n",
    "\\omega_1 ^2 & \\cdots & 0 \\\\\n",
    "\\vdots & \\ddots & \\vdots \\\\\n",
    "0 & \\cdots & \\omega_f^2\n",
    "\\end{pmatrix}\n",
    "\\xi^T\n",
    "= \\frac12 Q U^T \n",
    "\\begin{pmatrix}\n",
    "\\omega_1 ^2 & \\cdots & 0 \\\\\n",
    "\\vdots & \\ddots & \\vdots \\\\\n",
    "0 & \\cdots & \\omega_f^2\n",
    "\\end{pmatrix}\n",
    "U Q^T\n",
    "$$"
   ]
  },
  {
   "cell_type": "code",
   "execution_count": 5,
   "id": "267cde46-2f8f-476b-8526-a96893f8273e",
   "metadata": {},
   "outputs": [
    {
     "name": "stdout",
     "output_type": "stream",
     "text": [
      "[1193.51968001 1265.06644987 1532.43704947 1861.63527484 2867.18137401\n",
      " 2925.71361408]\n"
     ]
    }
   ],
   "source": [
    "latent_freqs = np.sqrt(np.diag((U.T @ np.diag(np.array(freqs) ** 2) @ U)))\n",
    "print(latent_freqs)"
   ]
  },
  {
   "cell_type": "markdown",
   "id": "e260b411-d610-47f7-aa92-9e0b93615763",
   "metadata": {},
   "source": [
    "## Define wavefunction basis \n",
    "\n",
    "![](assets/basis.png)\n",
    "\n",
    "`basis` = $\\left[|\\sigma_1\\rangle, |\\sigma_2\\rangle, \\cdots, |\\sigma_6\\rangle\\right]$"
   ]
  },
  {
   "cell_type": "code",
   "execution_count": 6,
   "id": "1a098364-63ac-4334-a83c-b5f2a106b5e7",
   "metadata": {},
   "outputs": [],
   "source": [
    "N = 9\n",
    "basis = [HO(ngrid=N, omega=omega, units=\"cm-1\") for omega in latent_freqs]"
   ]
  },
  {
   "cell_type": "markdown",
   "id": "2cd32f4a-fe1e-4f26-8469-e35ed6c4e781",
   "metadata": {},
   "source": [
    "## Evaluate one-dimensional integral\n",
    "\n",
    "![](assets/one-dim-integral.png)\n",
    "\n",
    "`basis_ints`=$\\left[\\langle\\sigma_1|\\phi_{\\rho_1}|\\sigma_1\\rangle, \\langle\\sigma_2|\\phi_{\\rho_2}|\\sigma_2\\rangle, \\cdots, \\langle\\sigma_6|\\phi_{\\rho_6}|\\sigma_6\\rangle\\right]$\n",
    "\n",
    "Note that off-diagnal terms are approximated to 0 by DVR."
   ]
  },
  {
   "cell_type": "code",
   "execution_count": 7,
   "id": "07430db6-207d-4de9-8f85-ec1ad0cf2764",
   "metadata": {},
   "outputs": [],
   "source": [
    "basis_ints = [\n",
    "    getattr(nnmpo.basis, f\"phi{i}\").forward(\n",
    "        np.array(basis[i].get_grids()), nnmpo.q0[:, i]\n",
    "    )\n",
    "    for i in range(6)\n",
    "]\n",
    "delta = np.eye(N, N)\n",
    "basis_ints_full = [\n",
    "    np.einsum(\"ij,ik->ijk\", basis_ints[i], delta) for i in range(6)\n",
    "]"
   ]
  },
  {
   "cell_type": "markdown",
   "id": "378ec932-e64e-4d77-9f4b-4421fd8a89d0",
   "metadata": {},
   "source": [
    "## Conversion\n",
    "\n",
    "![](assets/nnmpo2mpo.png)"
   ]
  },
  {
   "cell_type": "code",
   "execution_count": 8,
   "id": "cc1d005b-4641-4aa7-9887-b28bcb3553c1",
   "metadata": {},
   "outputs": [
    {
     "name": "stdout",
     "output_type": "stream",
     "text": [
      "(1, 9, 9, 5)\n",
      "(5, 9, 9, 14)\n",
      "(14, 9, 9, 14)\n",
      "(14, 9, 9, 14)\n",
      "(14, 9, 9, 6)\n",
      "(6, 9, 9, 1)\n"
     ]
    }
   ],
   "source": [
    "mpo = nnmpo.convert_to_mpo(basis_ints_full)\n",
    "for core in mpo:\n",
    "    print(core.shape)"
   ]
  },
  {
   "cell_type": "markdown",
   "id": "0ca0dfe9-3dc1-42db-b134-433702c8c0c4",
   "metadata": {},
   "source": [
    "## Define Kinetic MPO"
   ]
  },
  {
   "cell_type": "markdown",
   "id": "c303d798-43d7-41f4-8870-40b8ee7c13bd",
   "metadata": {},
   "source": [
    "KEO-MPO can be encoded into \n",
    "$$\n",
    "\\begin{pmatrix}\n",
    "\\frac{-\\hat{P}_1^2}{2} & 1\n",
    "\\end{pmatrix}\n",
    "\\begin{pmatrix}\n",
    "1 & 0 \\\\\n",
    "\\frac{-\\hat{P}_2^2}{2} & 1\n",
    "\\end{pmatrix}\n",
    "\\begin{pmatrix}\n",
    "1 & 0 \\\\\n",
    "\\frac{-\\hat{P}_3^2}{2} & 1\n",
    "\\end{pmatrix}\n",
    "\\begin{pmatrix}\n",
    "1 \\\\\n",
    "\\frac{-\\hat{P}_4^2}{2} \n",
    "\\end{pmatrix}\n",
    "$$"
   ]
  },
  {
   "cell_type": "code",
   "execution_count": 9,
   "id": "fc3fd1d4-ccb5-4749-be01-78dca50dcbf2",
   "metadata": {},
   "outputs": [],
   "source": [
    "kinetic_mpo = (\n",
    "    [np.zeros((1, N, N, 2))]\n",
    "    + [np.zeros((2, N, N, 2)) for _ in range(4)]\n",
    "    + [np.zeros((2, N, N, 1))]\n",
    ")\n",
    "for idof in range(6):\n",
    "    op = basis[idof].get_2nd_derivative_matrix_dvr().real * -1 / 2\n",
    "    eye = np.eye(basis[idof].ngrid)\n",
    "    if idof == 0:\n",
    "        kinetic_mpo[idof][0, :, :, 0] = op\n",
    "        kinetic_mpo[idof][0, :, :, 1] = eye\n",
    "    elif idof == 5:\n",
    "        kinetic_mpo[idof][0, :, :, 0] = eye\n",
    "        kinetic_mpo[idof][1, :, :, 0] = op\n",
    "    else:\n",
    "        kinetic_mpo[idof][0, :, :, 0] = eye\n",
    "        kinetic_mpo[idof][1, :, :, 1] = eye\n",
    "        kinetic_mpo[idof][1, :, :, 0] = op"
   ]
  },
  {
   "cell_type": "markdown",
   "id": "bd418508-4ef3-46f3-b5ba-9ba6b3e14aa8",
   "metadata": {},
   "source": [
    "## Merge KEO and PEO and save as itensor\n",
    "\n",
    "$$\n",
    "\\sum_{\\{\\beta\\}}\n",
    "V\\substack{\\sigma_1^\\prime \\\\ 1 \\beta_1 \\\\ \\sigma_1}\n",
    "V\\substack{\\sigma_2^\\prime \\\\ \\beta_1 \\beta_2 \\\\ \\sigma_2}\n",
    "\\cdots\n",
    "V\\substack{\\sigma_6^\\prime \\\\ \\beta_5 1 \\\\ \\sigma_6}\n",
    "+\n",
    "\\sum_{\\{\\gamma\\}}\n",
    "T\\substack{\\sigma_1^\\prime \\\\ 1 \\gamma_1 \\\\ \\sigma_1}\n",
    "T\\substack{\\sigma_2^\\prime \\\\ \\gamma_1 \\gamma_2 \\\\ \\sigma_2}\n",
    "\\cdots\n",
    "T\\substack{\\sigma_6^\\prime \\\\ \\gamma_5 1 \\\\ \\sigma_6}\n",
    "=\n",
    "\\sum_{\\{\\alpha\\}}\n",
    "H\\substack{\\sigma_1^\\prime \\\\ 1 \\alpha_1 \\\\ \\sigma_1}\n",
    "H\\substack{\\sigma_2^\\prime \\\\ \\alpha_1 \\alpha_2 \\\\ \\sigma_2}\n",
    "\\cdots\n",
    "H\\substack{\\sigma_6^\\prime \\\\ \\alpha_5 1 \\\\ \\sigma_6}\n",
    "$$\n",
    "\n",
    "where \n",
    "$$\n",
    "H\\substack{\\sigma_1^\\prime \\\\ 1 \\alpha_1 \\\\ \\sigma_1} = \n",
    "\\begin{pmatrix}\n",
    "V\\substack{\\sigma_1^\\prime \\\\ 1 \\beta_1 \\\\ \\sigma_1} & T\\substack{\\sigma_1^\\prime \\\\ 1 \\gamma_1 \\\\ \\sigma_1}\n",
    "\\end{pmatrix},\n",
    "H\\substack{\\sigma_2^\\prime \\\\ \\alpha_1 \\alpha_2 \\\\ \\sigma_2} = \n",
    "\\begin{pmatrix}\n",
    "V\\substack{\\sigma_2^\\prime \\\\ \\beta_1 \\beta_2 \\\\ \\sigma_2} & 0 \\\\\n",
    "0 & T\\substack{\\sigma_2^\\prime \\\\ \\gamma_1 \\gamma_2 \\\\ \\sigma_2}\n",
    "\\end{pmatrix},\n",
    "\\cdots,\n",
    "H\\substack{\\sigma_6^\\prime \\\\ \\alpha_5 1 \\\\ \\sigma_6} = \n",
    "\\begin{pmatrix}\n",
    "V\\substack{\\sigma_6^\\prime \\\\ \\beta_5 1 \\\\ \\sigma_6} \\\\\n",
    "T\\substack{\\sigma_6^\\prime \\\\ \\gamma_5 1 \\\\ \\sigma_6}\n",
    "\\end{pmatrix}\n",
    "$$\n",
    "and $\\alpha_i = \\beta_i \\oplus \\gamma_i$\n"
   ]
  },
  {
   "cell_type": "code",
   "execution_count": 10,
   "id": "28ef1349-a006-40a7-89b5-f59d394ed3b0",
   "metadata": {},
   "outputs": [
    {
     "data": {
      "text/plain": [
       "'random-mpo_filled.h5'"
      ]
     },
     "execution_count": 10,
     "metadata": {},
     "output_type": "execute_result"
    }
   ],
   "source": [
    "new_mpo = []\n",
    "for i in range(6):\n",
    "    m0, n1, np1, m1 = mpo[i].shape\n",
    "    M0, N1, Np1, M1 = kinetic_mpo[i].shape\n",
    "    assert n1 == np1 == N1 == Np1\n",
    "    if i == 0:\n",
    "        assert m0 == M0 == 1\n",
    "        new_core = np.zeros((1, n1, n1, m1 + M1))\n",
    "        new_core[:, :, :, :m1] = mpo[i]\n",
    "        new_core[:, :, :, m1:] = kinetic_mpo[i]\n",
    "    elif i == 5:\n",
    "        assert m1 == M1 == 1\n",
    "        new_core = np.zeros((m0 + M0, n1, n1, 1))\n",
    "        new_core[:m0, :, :, :] = mpo[i]\n",
    "        new_core[m0:, :, :, :] = kinetic_mpo[i]\n",
    "    else:\n",
    "        new_core = np.zeros((m0 + M0, n1, n1, m1 + M1))\n",
    "        new_core[:m0, :, :, :m1] = mpo[i]\n",
    "        new_core[m0:, :, :, m1:] = kinetic_mpo[i]\n",
    "    new_mpo.append(new_core)\n",
    "pompon.utils.export_mpo_to_itensor(new_mpo, \"random-mpo.h5\", \"H\") \n",
    "# random-mpo.h5 must be prepared in advance. See also create-random-mpo.ipynb"
   ]
  },
  {
   "cell_type": "code",
   "execution_count": 11,
   "id": "520b960d-592b-4590-87ea-b2e7984a6550",
   "metadata": {},
   "outputs": [
    {
     "name": "stderr",
     "output_type": "stream",
     "text": [
      "/opt/homebrew/Cellar/python@3.12/3.12.2_1/Frameworks/Python.framework/Versions/3.12/lib/python3.12/pty.py:95: RuntimeWarning: os.fork() was called. os.fork() is incompatible with multithreaded code, and JAX is multithreaded, so this will likely lead to a deadlock.\n",
      "  pid, fd = os.forkpty()\n"
     ]
    }
   ],
   "source": [
    "!cp random-mpo_filled.h5 nnmpo-ham.h5"
   ]
  }
 ],
 "metadata": {
  "kernelspec": {
   "display_name": "Python 3 (ipykernel)",
   "language": "python",
   "name": "python3"
  },
  "language_info": {
   "codemirror_mode": {
    "name": "ipython",
    "version": 3
   },
   "file_extension": ".py",
   "mimetype": "text/x-python",
   "name": "python",
   "nbconvert_exporter": "python",
   "pygments_lexer": "ipython3",
   "version": "3.12.2"
  }
 },
 "nbformat": 4,
 "nbformat_minor": 5
}
