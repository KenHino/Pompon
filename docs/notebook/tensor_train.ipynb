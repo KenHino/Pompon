{
 "cells": [
  {
   "cell_type": "markdown",
   "id": "5e3317e9-2877-482f-a193-fe0152c2378b",
   "metadata": {},
   "source": [
    "# Tensor & Tensor Train module\n",
    "\n",
    "See also API docs for [pompon.layers.tensor.Tensor](../reference/layers.tensor.Tensor.qmd) & [pompon.layers.tt.TensorTrain](../reference/layers.tt.TensorTrain.qmd)\n",
    "\n",
    "<img src='assets/tensor-def.png' width=400>"
   ]
  },
  {
   "cell_type": "code",
   "execution_count": 1,
   "id": "85633d37-cba6-473a-9f5b-6ba596728a69",
   "metadata": {},
   "outputs": [],
   "source": [
    "import jax.numpy as jnp\n",
    "\n",
    "from pompon import DTYPE\n",
    "from pompon.layers.tensor import Tensor\n",
    "from pompon.layers.tt import TensorTrain"
   ]
  },
  {
   "cell_type": "markdown",
   "id": "5b2960e5-5acd-4176-b3b1-1c66233cbaca",
   "metadata": {},
   "source": [
    "## Data Type\n",
    "The type of JAX Array is usually float32, but in pompon, we set float64. "
   ]
  },
  {
   "cell_type": "code",
   "execution_count": 2,
   "id": "44c39dd6-7675-4ac2-bcf1-9e149e5e6013",
   "metadata": {},
   "outputs": [
    {
     "name": "stdout",
     "output_type": "stream",
     "text": [
      "DTYPE=<class 'jax.numpy.float64'>\n"
     ]
    }
   ],
   "source": [
    "print(f\"{DTYPE=}\")"
   ]
  },
  {
   "cell_type": "markdown",
   "id": "feeceffa",
   "metadata": {},
   "source": [
    "If you want default float32, change `pompon.__dtype__.DTYPE` to `jnp.float32` before importing pompon."
   ]
  },
  {
   "cell_type": "markdown",
   "id": "cc17f1f8-fff8-4b1d-a9a4-535b4e253d87",
   "metadata": {},
   "source": [
    "## Tensor\n",
    "\n",
    "### 1d Tensor (vector) $v_i$\n"
   ]
  },
  {
   "cell_type": "code",
   "execution_count": 3,
   "id": "23287a40-d097-4b5d-9998-e1d5704faf84",
   "metadata": {},
   "outputs": [
    {
     "name": "stdout",
     "output_type": "stream",
     "text": [
      "v=Tensor(shape=(2,), leg_names=['i'], dtype=float64)\n",
      "v.data=Array([1., 1.], dtype=float64)\n"
     ]
    }
   ],
   "source": [
    "v = Tensor(data=jnp.ones((2), dtype=DTYPE), leg_names=[\"i\"])\n",
    "print(f\"{v=}\")\n",
    "print(f\"{v.data=}\")"
   ]
  },
  {
   "cell_type": "markdown",
   "id": "07e904fd-4814-4edb-89c1-743edb60051a",
   "metadata": {},
   "source": [
    "### 2d tensor (matrix) $M_{ji}$"
   ]
  },
  {
   "cell_type": "code",
   "execution_count": 4,
   "id": "02c0d9d5-f9b3-4642-9369-312216b7ee39",
   "metadata": {},
   "outputs": [
    {
     "name": "stdout",
     "output_type": "stream",
     "text": [
      "M=Tensor(shape=(3, 2), leg_names=['j', 'i'], dtype=float64)\n",
      "M.data=Array([[1., 1.],\n",
      "       [1., 1.],\n",
      "       [1., 1.]], dtype=float64)\n"
     ]
    }
   ],
   "source": [
    "M = Tensor(data=jnp.ones((3, 2), dtype=DTYPE), leg_names=[\"j\", \"i\"])\n",
    "print(f\"{M=}\")\n",
    "print(f\"{M.data=}\")"
   ]
  },
  {
   "cell_type": "markdown",
   "id": "d54bb131-c0ad-4fd2-a6f1-18670e95fc92",
   "metadata": {},
   "source": [
    "### 3d tensor $T_{ijk}$"
   ]
  },
  {
   "cell_type": "code",
   "execution_count": 5,
   "id": "beb4d14e-ebd4-4d8f-97f3-53cd224798d6",
   "metadata": {},
   "outputs": [
    {
     "name": "stdout",
     "output_type": "stream",
     "text": [
      "T=Tensor(shape=(2, 3, 4), leg_names=['i', 'j', 'k'], dtype=float64)\n",
      "T.data=Array([[[1., 1., 1., 1.],\n",
      "        [1., 1., 1., 1.],\n",
      "        [1., 1., 1., 1.]],\n",
      "\n",
      "       [[1., 1., 1., 1.],\n",
      "        [1., 1., 1., 1.],\n",
      "        [1., 1., 1., 1.]]], dtype=float64)\n"
     ]
    }
   ],
   "source": [
    "T = Tensor(data=jnp.ones((2, 3, 4), dtype=DTYPE), leg_names=[\"i\", \"j\", \"k\"])\n",
    "print(f\"{T=}\")\n",
    "print(f\"{T.data=}\")"
   ]
  },
  {
   "cell_type": "markdown",
   "id": "9917ebfc-9145-4637-abf5-0b3e571693c9",
   "metadata": {},
   "source": [
    "### tensor with batch-index $x_{Dij}$ and $y_{Di}$\n",
    "batch-index is set by `'D'`, which must be the first index."
   ]
  },
  {
   "cell_type": "code",
   "execution_count": 6,
   "id": "c0c0eff2-dba3-4c88-9322-9ecdc806aafd",
   "metadata": {},
   "outputs": [
    {
     "name": "stdout",
     "output_type": "stream",
     "text": [
      "x=Tensor(shape=(10, 2, 3), leg_names=['D', 'i', 'j'], dtype=float64)\n",
      "y=Tensor(shape=(10, 2), leg_names=['D', 'i'], dtype=float64)\n"
     ]
    }
   ],
   "source": [
    "x = Tensor(data=jnp.ones((10, 2, 3), dtype=DTYPE), leg_names=[\"D\", \"i\", \"j\"])\n",
    "y = Tensor(data=jnp.ones((10, 2), dtype=DTYPE), leg_names=[\"D\", \"i\"])\n",
    "print(f\"{x=}\")\n",
    "print(f\"{y=}\")"
   ]
  },
  {
   "cell_type": "markdown",
   "id": "50a7da36-323d-4ccd-b265-9f08c284e860",
   "metadata": {},
   "source": [
    "### Tensor contraction\n",
    "- $u_j = \\sum_{i}M_{ji}v_i$ (matrix * vector)"
   ]
  },
  {
   "cell_type": "code",
   "execution_count": 7,
   "id": "52ccfa06-5661-48d6-9b93-eb30d74ceefd",
   "metadata": {},
   "outputs": [
    {
     "name": "stdout",
     "output_type": "stream",
     "text": [
      "u=Tensor(shape=(3,), leg_names=('j',), dtype=float64)\n"
     ]
    }
   ],
   "source": [
    "u = M @ v\n",
    "print(f\"{u=}\")\n",
    "assert jnp.allclose(u.data, jnp.dot(M.data, v.data))"
   ]
  },
  {
   "cell_type": "markdown",
   "id": "ad0a9165-7349-4023-ad52-4396063c0531",
   "metadata": {},
   "source": [
    "- $u_k = \\sum_{ij} T_{ijk} M_{ji}$"
   ]
  },
  {
   "cell_type": "code",
   "execution_count": 8,
   "id": "10398a69-2b26-4abc-b565-b105c60444aa",
   "metadata": {},
   "outputs": [
    {
     "name": "stdout",
     "output_type": "stream",
     "text": [
      "u=Tensor(shape=(4,), leg_names=('k',), dtype=float64)\n"
     ]
    }
   ],
   "source": [
    "u = T @ M\n",
    "print(f\"{u=}\")"
   ]
  },
  {
   "cell_type": "markdown",
   "id": "7fb22cbb-ef02-4ae9-8ac2-ec039475b188",
   "metadata": {},
   "source": [
    "- $u_k = \\sum_{ij} T_{ijk} M_{ji} v_{i}$\n",
    "\n",
    "This is *not* the same as `T @ M @ v` = $L_{ki} = \\left(\\sum_{ij}T_{ijk} M_{ji}\\right) v_{i}$"
   ]
  },
  {
   "cell_type": "code",
   "execution_count": 9,
   "id": "aa77ed91-2828-4bdf-8894-e546915996c5",
   "metadata": {},
   "outputs": [
    {
     "name": "stdout",
     "output_type": "stream",
     "text": [
      "u=Tensor(shape=(4,), leg_names=('k',), dtype=float64)\n",
      "L=Tensor(shape=(4, 2), leg_names=('k', 'i'), dtype=float64)\n"
     ]
    }
   ],
   "source": [
    "from pompon.layers.tensor import dot\n",
    "\n",
    "u = dot(T, M, v)\n",
    "print(f\"{u=}\")\n",
    "L = T @ M @ v\n",
    "print(f\"{L=}\")"
   ]
  },
  {
   "cell_type": "markdown",
   "id": "97e2d624-1bbb-4501-a0b6-9aa28664baa2",
   "metadata": {},
   "source": [
    "- $z_{Dj} = \\sum_{i}x_{Dij}y_{Di}$ (index $D$ will remain)"
   ]
  },
  {
   "cell_type": "code",
   "execution_count": 10,
   "id": "c4bf962c-2e39-49ef-b744-08d2fab09d5f",
   "metadata": {},
   "outputs": [
    {
     "name": "stdout",
     "output_type": "stream",
     "text": [
      "z=Tensor(shape=(10, 3), leg_names=('D', 'j'), dtype=float64)\n"
     ]
    }
   ],
   "source": [
    "z = x @ y\n",
    "print(f\"{z=}\")"
   ]
  },
  {
   "cell_type": "markdown",
   "id": "2c5e8c2b-162a-456a-af56-95cfcd27282d",
   "metadata": {},
   "source": [
    "## Tensor Train\n",
    "\n",
    "Tensor train (also called matrix product states) is written by\n",
    "$$\n",
    "       A(i_1, i_2, \\cdots, i_f) = \\sum_{\\beta_1,\\beta_2,\\cdots,\\beta_{f-1}} \\\n",
    "       W^{[1]}_{i_1\\beta_1} W^{[2]}_{\\beta_1 i_2 \\beta_2} \\cdots W^{[f]}_{\\beta_{f-1}i_f}\n",
    "$$"
   ]
  },
  {
   "cell_type": "code",
   "execution_count": 11,
   "id": "6dfeab75-f336-4bb6-93f8-c1e0298fa4f0",
   "metadata": {},
   "outputs": [
    {
     "name": "stdout",
     "output_type": "stream",
     "text": [
      "[Core(shape=(1, 3, 2), leg_names=('β0', 'i1', 'β1'), dtype=float64), Core(shape=(2, 3, 2), leg_names=('β1', 'i2', 'β2'), dtype=float64), Core(shape=(2, 3, 2), leg_names=('β2', 'i3', 'β3'), dtype=float64), Core(shape=(2, 3, 1), leg_names=('β3', 'i4', 'β4'), dtype=float64), ]\n",
      "tt=TensorTrain(shape=(3, 3, 3, 3), ranks=[2, 2, 2])\n",
      "tt.ndim=4\n",
      "tt.ranks=[2, 2, 2]\n"
     ]
    }
   ],
   "source": [
    "tt = TensorTrain.set_random(shape=(3, 3, 3, 3), rank=2)\n",
    "print(tt)\n",
    "print(f\"{tt=}\")\n",
    "print(f\"{tt.ndim=}\")\n",
    "print(f\"{tt.ranks=}\")"
   ]
  },
  {
   "cell_type": "code",
   "execution_count": 12,
   "id": "401f4538-cbcd-445a-9cbf-6467ea2e1447",
   "metadata": {},
   "outputs": [
    {
     "data": {
      "text/plain": [
       "[Core(shape=(1, 3, 2), leg_names=('β0', 'i1', 'β1'), dtype=float64),\n",
       " Core(shape=(2, 3, 2), leg_names=('β1', 'i2', 'β2'), dtype=float64),\n",
       " Core(shape=(2, 3, 2), leg_names=('β2', 'i3', 'β3'), dtype=float64),\n",
       " Core(shape=(2, 3, 1), leg_names=('β3', 'i4', 'β4'), dtype=float64)]"
      ]
     },
     "execution_count": 12,
     "metadata": {},
     "output_type": "execute_result"
    }
   ],
   "source": [
    "tt.cores"
   ]
  },
  {
   "cell_type": "markdown",
   "id": "6b57777c-5f11-4d56-be17-5bbbe67e5267",
   "metadata": {},
   "source": [
    "Each core has instance [`Tensor`](../reference/layers.tensor.Tensor.qmd)"
   ]
  },
  {
   "cell_type": "code",
   "execution_count": 13,
   "id": "58c0456e-c9f6-4aeb-a516-643fe816597e",
   "metadata": {},
   "outputs": [
    {
     "data": {
      "text/plain": [
       "True"
      ]
     },
     "execution_count": 13,
     "metadata": {},
     "output_type": "execute_result"
    }
   ],
   "source": [
    "isinstance(tt[0], Tensor)"
   ]
  },
  {
   "cell_type": "markdown",
   "id": "5278cd23-1a8e-4abd-b08e-826c4da1f4c3",
   "metadata": {},
   "source": [
    "Each core can be contracted as [`TwodotCore`](../reference/layers.tensor.TwodotCore.qmd)"
   ]
  },
  {
   "cell_type": "code",
   "execution_count": 14,
   "id": "df29df4b-e237-476f-9f85-71959a3ab194",
   "metadata": {},
   "outputs": [
    {
     "name": "stdout",
     "output_type": "stream",
     "text": [
      "B=TwodotCore(shape=(1, 3, 3, 2), leg_names=('β0', 'i1', 'i2', 'β2'))\n"
     ]
    }
   ],
   "source": [
    "W0, W1 = tt[0:2]\n",
    "B = W0 @ W1\n",
    "print(f\"{B=}\")"
   ]
  },
  {
   "cell_type": "markdown",
   "id": "6c5af442-1d0b-49f2-8a87-bf8b0ed99388",
   "metadata": {},
   "source": [
    "`TwodotCore` has a method `svd()` which split into two `Cores` again"
   ]
  },
  {
   "cell_type": "code",
   "execution_count": 15,
   "id": "f1ef2993-0811-48dc-b3ae-659a50f12c45",
   "metadata": {},
   "outputs": [
    {
     "name": "stdout",
     "output_type": "stream",
     "text": [
      "W0_next=Core(shape=(1, 3, 2), leg_names=('β0', 'i1', 'β1'), dtype=float64)\n",
      "W1_next=Core(shape=(2, 3, 2), leg_names=('β1', 'i2', 'β2'), dtype=float64)\n"
     ]
    }
   ],
   "source": [
    "W0_next, W1_next = B.svd(truncation=0.99)\n",
    "print(f\"{W0_next=}\")\n",
    "print(f\"{W1_next=}\")\n",
    "# Set again\n",
    "tt.cores[0] = W0_next\n",
    "tt.cores[1] = W1_next"
   ]
  },
  {
   "cell_type": "markdown",
   "id": "b0dd1a35-80f4-41c6-ab23-040a69053b35",
   "metadata": {},
   "source": [
    "### Forward TensorTrain with basis batch"
   ]
  },
  {
   "cell_type": "code",
   "execution_count": 16,
   "id": "d13440be-5761-4199-95fc-34dd412a4d91",
   "metadata": {},
   "outputs": [
    {
     "data": {
      "text/plain": [
       "[BasisBatch(shape=(10, 3), leg_names=['D', 'i1'], dtype=float64),\n",
       " BasisBatch(shape=(10, 3), leg_names=['D', 'i2'], dtype=float64),\n",
       " BasisBatch(shape=(10, 3), leg_names=['D', 'i3'], dtype=float64),\n",
       " BasisBatch(shape=(10, 3), leg_names=['D', 'i4'], dtype=float64)]"
      ]
     },
     "execution_count": 16,
     "metadata": {},
     "output_type": "execute_result"
    }
   ],
   "source": [
    "import jax\n",
    "\n",
    "basis = [\n",
    "    Tensor(\n",
    "        data=jax.random.normal(jax.random.PRNGKey(_), (10, 3), dtype=DTYPE),\n",
    "        leg_names=[\"D\", f\"i{_}\"],\n",
    "    ).as_basis_batch()\n",
    "    for _ in range(1, 5)\n",
    "]\n",
    "basis"
   ]
  },
  {
   "cell_type": "code",
   "execution_count": 17,
   "id": "8a26dcfc-9ce6-44ad-af9d-bf2685f60c7c",
   "metadata": {},
   "outputs": [
    {
     "data": {
      "text/plain": [
       "Array([[-0.15648396],\n",
       "       [-3.02572681],\n",
       "       [-0.65708564],\n",
       "       [ 2.10014884],\n",
       "       [ 0.00536333],\n",
       "       [-0.99552358],\n",
       "       [-0.14399027],\n",
       "       [-0.24901398],\n",
       "       [-0.76588784],\n",
       "       [ 0.09033759]], dtype=float64)"
      ]
     },
     "execution_count": 17,
     "metadata": {},
     "output_type": "execute_result"
    }
   ],
   "source": [
    "y = tt.forward(basis)\n",
    "y"
   ]
  }
 ],
 "metadata": {
  "kernelspec": {
   "display_name": "Python 3 (ipykernel)",
   "language": "python",
   "name": "python3"
  },
  "language_info": {
   "codemirror_mode": {
    "name": "ipython",
    "version": 3
   },
   "file_extension": ".py",
   "mimetype": "text/x-python",
   "name": "python",
   "nbconvert_exporter": "python",
   "pygments_lexer": "ipython3",
   "version": "3.12.2"
  }
 },
 "nbformat": 4,
 "nbformat_minor": 5
}
