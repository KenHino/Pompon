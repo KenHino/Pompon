{
 "cells": [
  {
   "cell_type": "markdown",
   "id": "02cf76c8-dbee-4a74-815c-fbb990cd111d",
   "metadata": {},
   "source": [
    "# Custom neural network combined with tensor train\n",
    "\n",
    "Let's hacking `Pompon`!\n",
    "\n",
    "One will use tensor train implementaion in `Pompon` and customized neural network build by [Flax](https://flax.readthedocs.io/en/latest/)\n",
    "\n",
    "![](assets/pompon-flax.png)"
   ]
  },
  {
   "cell_type": "markdown",
   "id": "03d2c48b-e550-4ef8-a79c-7f20f81ae562",
   "metadata": {},
   "source": [
    "Before start, install `Flax`.\n",
    "In this example, we will follow [`flax.nnx`](https://flax-nnx.readthedocs.io/en/latest/) API rather than [`flax.linen`](https://flax-linen.readthedocs.io/en/latest/) API."
   ]
  },
  {
   "cell_type": "code",
   "execution_count": 1,
   "id": "b07d0cfd-e1d8-4bc8-a5af-306ba6350ecc",
   "metadata": {},
   "outputs": [],
   "source": [
    "try:\n",
    "    from flax import nnx\n",
    "except ModuleNotFoundError:\n",
    "    !uv pip install --quiet flax"
   ]
  },
  {
   "cell_type": "markdown",
   "id": "ec9dd3cd-16d5-413b-a854-e31cf0784451",
   "metadata": {},
   "source": [
    "## Import modules"
   ]
  },
  {
   "cell_type": "code",
   "execution_count": 2,
   "id": "4e8073cb-764a-4e2c-8659-9e7ddfe571c2",
   "metadata": {},
   "outputs": [],
   "source": [
    "import jax\n",
    "import jax.numpy as jnp\n",
    "import matplotlib.pyplot as plt\n",
    "import numpy as np\n",
    "import optax\n",
    "from tqdm.auto import tqdm\n",
    "\n",
    "from pompon import DTYPE\n",
    "from pompon._jittables import _forward_basis2y\n",
    "from pompon.layers.tt import TensorTrain\n",
    "from pompon.optimizer.sweeper import sweep"
   ]
  },
  {
   "cell_type": "markdown",
   "id": "1f4d25bb-3b84-42a1-9d9d-0e0d0705d35e",
   "metadata": {},
   "source": [
    "## Prepare training data\n",
    "\n",
    "We will use\n",
    "$$\n",
    "y = \\boldsymbol{x}A\\boldsymbol{x}^\\top\n",
    "$$\n",
    "as a true function"
   ]
  },
  {
   "cell_type": "code",
   "execution_count": 3,
   "id": "630e99dc-efaf-4fd9-9962-f46fe5ecde8b",
   "metadata": {},
   "outputs": [
    {
     "name": "stdout",
     "output_type": "stream",
     "text": [
      "x samples: (256, 3) float64\n",
      "y samples: (256, 1) float64\n",
      "f samples: (256, 3) float64\n"
     ]
    }
   ],
   "source": [
    "def generate_data(num_samples, key, include_f=True):\n",
    "    mean = jnp.zeros(3)\n",
    "    cov = jnp.eye(3)\n",
    "    k = 1.0\n",
    "\n",
    "    A = k * jnp.linalg.inv(cov)\n",
    "\n",
    "    x_samples = jax.random.multivariate_normal(\n",
    "        key=key, mean=mean, cov=cov, shape=(num_samples,), dtype=DTYPE\n",
    "    )\n",
    "    y_samples = jnp.einsum(\"ni,ij,nj->n\", x_samples, A, x_samples)\n",
    "\n",
    "    if include_f:\n",
    "        f_samples = -2.0 * x_samples @ A\n",
    "        return x_samples, y_samples[:, jnp.newaxis], f_samples\n",
    "    else:\n",
    "        return x_samples, y_samples[:, jnp.newaxis]\n",
    "\n",
    "\n",
    "num_samples = 256\n",
    "key = jax.random.PRNGKey(0)\n",
    "x_samples, y_samples, f_samples = generate_data(num_samples, key)\n",
    "\n",
    "print(\"x samples:\", x_samples.shape, x_samples.dtype)\n",
    "print(\"y samples:\", y_samples.shape, y_samples.dtype)\n",
    "print(\"f samples:\", f_samples.shape, f_samples.dtype)"
   ]
  },
  {
   "cell_type": "markdown",
   "id": "d2c2e696-7b51-41da-bddd-7ab0150a0b66",
   "metadata": {},
   "source": [
    "## Define Custom Network"
   ]
  },
  {
   "cell_type": "markdown",
   "id": "41d8460a-1076-4682-afd9-6f4f8f3a9097",
   "metadata": {},
   "source": [
    "### Define Basis function\n",
    "\n",
    "Define network like this;\n",
    "\n",
    "![](assets/nn-basis.png)\n",
    "\n",
    "where $\\phi_{\\rho_i}(x_i): \\mathbb{R}\\to\\mathbb{R}^d$ and $d$ is a number of basis (`chunk_size`)."
   ]
  },
  {
   "cell_type": "code",
   "execution_count": 4,
   "id": "db34c4ab-20d4-4c7f-aa7e-66e0c06af02f",
   "metadata": {},
   "outputs": [
    {
     "name": "stdout",
     "output_type": "stream",
     "text": [
      "[Array([[ 0.        ,  0.        ],\n",
      "       [-0.27816969, -0.27609677]], dtype=float64), Array([[0.16544799, 0.16702912],\n",
      "       [0.47790957, 0.3542889 ]], dtype=float64), Array([[ 0.67407335,  0.36907104],\n",
      "       [ 0.45613932, -0.21072378]], dtype=float64)]\n",
      "[Array([[ 0.        ,  0.        ],\n",
      "       [-0.27816969, -0.27609677]], dtype=float64)]\n"
     ]
    }
   ],
   "source": [
    "class CustomBasis(nnx.Module):\n",
    "    \"\"\"\n",
    "    Args:\n",
    "        num_chunks (int): degree of freedoms n\n",
    "        hidden_size (int): hidden layer size\n",
    "        chunk_size (int): number of basis for each mode\n",
    "        n_layers (int): number of hidden layers\n",
    "        rngs (nnx.Rngs): random generator\n",
    "\n",
    "    \"\"\"\n",
    "\n",
    "    def __init__(\n",
    "        self,\n",
    "        num_chunks: int,\n",
    "        hidden_size: int,\n",
    "        chunk_size: int,\n",
    "        n_layers: int,\n",
    "        x_scale: jax.Array,\n",
    "        rngs: nnx.Rngs,\n",
    "    ):\n",
    "        self.num_chunks = num_chunks\n",
    "        self.hidden_size = hidden_size\n",
    "        self.chunk_size = chunk_size\n",
    "        self.n_layers = n_layers\n",
    "        self.x_scale = x_scale\n",
    "        initializer = jax.nn.initializers.glorot_uniform()\n",
    "        self.w_ini = nnx.Param(\n",
    "            initializer(\n",
    "                rngs.params(),\n",
    "                (self.num_chunks, self.hidden_size),\n",
    "                dtype=DTYPE,\n",
    "            )\n",
    "        )\n",
    "        self.b_ini = nnx.Param(\n",
    "            jnp.zeros((self.num_chunks, self.hidden_size), dtype=DTYPE)\n",
    "        )\n",
    "\n",
    "        self.w_mid = []\n",
    "        self.b_mid = []\n",
    "        for _ in range(n_layers):\n",
    "            self.w_mid.append(\n",
    "                nnx.Param(\n",
    "                    initializer(\n",
    "                        rngs.params(),\n",
    "                        (self.hidden_size, self.hidden_size),\n",
    "                        dtype=DTYPE,\n",
    "                    )\n",
    "                )\n",
    "            )\n",
    "            self.b_mid.append(\n",
    "                nnx.Param(\n",
    "                    jnp.zeros((self.num_chunks, self.hidden_size), dtype=DTYPE)\n",
    "                )\n",
    "            )\n",
    "        self.w_fin = nnx.Param(\n",
    "            initializer(\n",
    "                rngs.params(),\n",
    "                (self.hidden_size, self.chunk_size),\n",
    "                dtype=DTYPE,\n",
    "            )\n",
    "        )\n",
    "        self.b_fin = nnx.Param(\n",
    "            jnp.zeros((self.num_chunks, self.chunk_size), dtype=DTYPE)\n",
    "        )\n",
    "\n",
    "    def __call__(self, x: jax.Array, i: int | None = None) -> list[jax.Array]:\n",
    "        r\"\"\"\n",
    "        Args:\n",
    "            x (jax.Array): input position with shape (batch_size, DOFs)\n",
    "            i (int, optional): If you need only i-th basis $\\phi_{\\rho_i}$, \n",
    "                set this integer.\n",
    "\n",
    "        Returns:\n",
    "            list[jax.Array]: list of $\\phi_{\\rho_i}$ with length `num_chunks`.\n",
    "                Each basis has shape `(chunk_size,)`.\n",
    "        \"\"\"\n",
    "\n",
    "        if i is None:\n",
    "            index: slice = slice(0, x.shape[1])\n",
    "        else:\n",
    "            index: slice = slice(i, i + 1)\n",
    "            if x.ndim == 1:\n",
    "                x = x[:, jnp.newaxis]  # batch, 1\n",
    "            elif x.ndim == 2:\n",
    "                assert x.shape[1] == 1\n",
    "            else:\n",
    "                raise ValueError(f\"{x.ndim=} is invalid\")\n",
    "        ndim = x.shape[1]\n",
    "\n",
    "        x = x / self.x_scale[jnp.newaxis, index]\n",
    "        x = (\n",
    "            self.w_ini[jnp.newaxis, index, :] * x[:, :, jnp.newaxis]\n",
    "        )  # batch, num_chunks, hidden_size\n",
    "        x = x + self.b_ini[jnp.newaxis, index, :]\n",
    "        x = nnx.swish(x)\n",
    "\n",
    "        for i in range(self.n_layers):\n",
    "            res = x\n",
    "            x = x @ self.w_mid[i]  # batch, num_chunks, hidden_size\n",
    "            x = x + self.b_mid[i][jnp.newaxis, index, :]\n",
    "            x = nnx.swish(x) + res\n",
    "\n",
    "        x = x @ self.w_fin  # batch, num_chunks, chunk_size\n",
    "        x = x + self.b_fin[jnp.newaxis, index, :]\n",
    "        x = nnx.swish(x)\n",
    "\n",
    "        phi_chunked_array = jnp.split(x, ndim, axis=1)\n",
    "        phi_chunked_list = [item.squeeze(1) for item in phi_chunked_array]\n",
    "\n",
    "        return phi_chunked_list\n",
    "\n",
    "x = jnp.arange(3 * 2).reshape(2, 3)\n",
    "\n",
    "basis = CustomBasis(\n",
    "    num_chunks=3, hidden_size=4, chunk_size=2, n_layers=3, x_scale=x.std(axis=0),rngs=nnx.Rngs(0)\n",
    ")\n",
    "print(basis(x=x))\n",
    "print(basis(x=x[:, 0:1], i=0))"
   ]
  },
  {
   "cell_type": "markdown",
   "id": "833ed24c-8697-47b0-9474-22638e7cbf97",
   "metadata": {},
   "source": [
    "### Define Custom Model including the Custom Basis"
   ]
  },
  {
   "cell_type": "code",
   "execution_count": 5,
   "id": "b51254dc-d807-4ea4-8d7c-fa122d21c19d",
   "metadata": {},
   "outputs": [
    {
     "name": "stdout",
     "output_type": "stream",
     "text": [
      "CustomModel(\n",
      "  num_chunks=3,\n",
      "  hidden_size=16,\n",
      "  chunk_size=2,\n",
      "  n_layers=16,\n",
      "  basis=CustomBasis(\n",
      "    num_chunks=3,\n",
      "    hidden_size=16,\n",
      "    chunk_size=2,\n",
      "    n_layers=16,\n",
      "    x_scale=Array(shape=(3,), dtype=float64),\n",
      "    w_ini=Param(\n",
      "      value=Array(shape=(3, 16), dtype=float64)\n",
      "    ),\n",
      "    b_ini=Param(\n",
      "      value=Array(shape=(3, 16), dtype=float64)\n",
      "    ),\n",
      "    w_mid=[Param(\n",
      "      value=Array(shape=(16, 16), dtype=float64)\n",
      "    ), Param(\n",
      "      value=Array(shape=(16, 16), dtype=float64)\n",
      "    ), Param(\n",
      "      value=Array(shape=(16, 16), dtype=float64)\n",
      "    ), Param(\n",
      "      value=Array(shape=(16, 16), dtype=float64)\n",
      "    ), Param(\n",
      "      value=Array(shape=(16, 16), dtype=float64)\n",
      "    ), Param(\n",
      "      value=Array(shape=(16, 16), dtype=float64)\n",
      "    ), Param(\n",
      "      value=Array(shape=(16, 16), dtype=float64)\n",
      "    ), Param(\n",
      "      value=Array(shape=(16, 16), dtype=float64)\n",
      "    ), Param(\n",
      "      value=Array(shape=(16, 16), dtype=float64)\n",
      "    ), Param(\n",
      "      value=Array(shape=(16, 16), dtype=float64)\n",
      "    ), Param(\n",
      "      value=Array(shape=(16, 16), dtype=float64)\n",
      "    ), Param(\n",
      "      value=Array(shape=(16, 16), dtype=float64)\n",
      "    ), Param(\n",
      "      value=Array(shape=(16, 16), dtype=float64)\n",
      "    ), Param(\n",
      "      value=Array(shape=(16, 16), dtype=float64)\n",
      "    ), Param(\n",
      "      value=Array(shape=(16, 16), dtype=float64)\n",
      "    ), Param(\n",
      "      value=Array(shape=(16, 16), dtype=float64)\n",
      "    )],\n",
      "    b_mid=[Param(\n",
      "      value=Array(shape=(3, 16), dtype=float64)\n",
      "    ), Param(\n",
      "      value=Array(shape=(3, 16), dtype=float64)\n",
      "    ), Param(\n",
      "      value=Array(shape=(3, 16), dtype=float64)\n",
      "    ), Param(\n",
      "      value=Array(shape=(3, 16), dtype=float64)\n",
      "    ), Param(\n",
      "      value=Array(shape=(3, 16), dtype=float64)\n",
      "    ), Param(\n",
      "      value=Array(shape=(3, 16), dtype=float64)\n",
      "    ), Param(\n",
      "      value=Array(shape=(3, 16), dtype=float64)\n",
      "    ), Param(\n",
      "      value=Array(shape=(3, 16), dtype=float64)\n",
      "    ), Param(\n",
      "      value=Array(shape=(3, 16), dtype=float64)\n",
      "    ), Param(\n",
      "      value=Array(shape=(3, 16), dtype=float64)\n",
      "    ), Param(\n",
      "      value=Array(shape=(3, 16), dtype=float64)\n",
      "    ), Param(\n",
      "      value=Array(shape=(3, 16), dtype=float64)\n",
      "    ), Param(\n",
      "      value=Array(shape=(3, 16), dtype=float64)\n",
      "    ), Param(\n",
      "      value=Array(shape=(3, 16), dtype=float64)\n",
      "    ), Param(\n",
      "      value=Array(shape=(3, 16), dtype=float64)\n",
      "    ), Param(\n",
      "      value=Array(shape=(3, 16), dtype=float64)\n",
      "    )],\n",
      "    w_fin=Param(\n",
      "      value=Array(shape=(16, 2), dtype=float64)\n",
      "    ),\n",
      "    b_fin=Param(\n",
      "      value=Array(shape=(3, 2), dtype=float64)\n",
      "    )\n",
      "  )\n",
      ")\n"
     ]
    }
   ],
   "source": [
    "class CustomModel(nnx.Module):\n",
    "    \"\"\"\n",
    "    Args:\n",
    "        num_chunks (int): degree of freedoms n\n",
    "        hidden_size (int): hidden layer size\n",
    "        chunk_size (int): number of basis for each mode\n",
    "        n_layers (int): number of hidden layers\n",
    "        rngs (nnx.Rngs): random generator\n",
    "\n",
    "    \"\"\"\n",
    "\n",
    "    def __init__(\n",
    "        self,\n",
    "        num_chunks: int,\n",
    "        hidden_size: int,\n",
    "        chunk_size: int,\n",
    "        n_layers: int,\n",
    "        x_scale: jax.Array,\n",
    "        rngs: nnx.Rngs,\n",
    "    ):\n",
    "        self.num_chunks = num_chunks\n",
    "        self.hidden_size = hidden_size\n",
    "        self.chunk_size = chunk_size\n",
    "        self.n_layers = n_layers\n",
    "\n",
    "        self.basis = CustomBasis(\n",
    "            num_chunks=self.num_chunks,\n",
    "            hidden_size=self.hidden_size,\n",
    "            chunk_size=self.chunk_size,\n",
    "            n_layers=self.n_layers,\n",
    "            x_scale=x_scale,\n",
    "            rngs=rngs,\n",
    "        )\n",
    "\n",
    "    def __call__(self, x: jax.Array, W: list[jax.Array], norm: jax.Array):\n",
    "        \"\"\"\n",
    "        Args:\n",
    "            x (jax.Array): input position with shape (batch_size, DOFs)\n",
    "            W (list[jax.Array]): list of tensor train core. \n",
    "                Each core has shape (bond_dim1, chunk_size, bond_dim2).\n",
    "            norm (jax.Array): Scalar which scales outputs.\n",
    "        \"\"\"\n",
    "        basis = self.basis(x)\n",
    "        return _forward_basis2y(basis=basis, W=W, norm=norm)\n",
    "\n",
    "\n",
    "model = CustomModel(\n",
    "    num_chunks=3, hidden_size=16, chunk_size=2, n_layers=16, x_scale=x_samples.std(axis=0), rngs=nnx.Rngs(0)\n",
    ")\n",
    "nnx.display(model)"
   ]
  },
  {
   "cell_type": "markdown",
   "id": "55377089-54aa-4e02-9514-beffa7f4d53b",
   "metadata": {},
   "source": [
    "### Extract required arguments from TensorTrain modules"
   ]
  },
  {
   "cell_type": "code",
   "execution_count": 6,
   "id": "3626b5e5-734b-49b2-82a6-97de35d42561",
   "metadata": {},
   "outputs": [],
   "source": [
    "def get_norm_W(tt: TensorTrain) -> tuple[jax.Array, list[jax.Array]]:\n",
    "    \"\"\"\n",
    "    Get norm & tt-cores.\n",
    "    \"\"\"\n",
    "    W = [getattr(tt, f\"W{i}\").data for i in range(len(tt))]\n",
    "    norm = tt.norm.data\n",
    "    return norm, W"
   ]
  },
  {
   "cell_type": "markdown",
   "id": "d004d38d-aa2b-4b4f-a4d1-392dfdb737fb",
   "metadata": {},
   "source": [
    "Initialize tensor train.\n",
    "\n",
    "See also [pompon.layers.tt.TensorTrain](../reference/layers.tt.TensorTrain.qmd)."
   ]
  },
  {
   "cell_type": "code",
   "execution_count": 7,
   "id": "20b4597d-3453-418b-a0e7-833ba27dc261",
   "metadata": {},
   "outputs": [
    {
     "name": "stdout",
     "output_type": "stream",
     "text": [
      "2.738025133756779 [Array([[[ 0.269559  ,  0.48521447],\n",
      "        [-0.66477019, -0.49998546]]], dtype=float64), Array([[[-2.69638259,  0.02057865],\n",
      "        [ 6.39613801, -0.46289717]],\n",
      "\n",
      "       [[-1.33265668, -0.4078536 ],\n",
      "        [ 5.44471885,  0.45414894]]], dtype=float64), Array([[[-0.47058099],\n",
      "        [ 0.88235681]],\n",
      "\n",
      "       [[-0.88235681],\n",
      "        [-0.47058099]]], dtype=float64)]\n",
      "[Array([[-1.12089883e-02,  4.54244220e-01],\n",
      "       [-3.01759052e-47,  4.94457722e+00]], dtype=float64), Array([[-2.47008425e-01, -2.40598015e-01],\n",
      "       [-2.47244541e-19, -4.38226713e-02]], dtype=float64), Array([[-8.55275875e-18,  5.79409551e-01],\n",
      "       [-8.68260031e-86, -1.70533086e-02]], dtype=float64)]\n",
      "[[ 0.71465496]\n",
      " [-0.06264489]]\n"
     ]
    }
   ],
   "source": [
    "tt = TensorTrain.set_random(\n",
    "    shape=(model.chunk_size,) * model.num_chunks, rank=2\n",
    ")\n",
    "norm, W = get_norm_W(tt)\n",
    "print(norm, W)\n",
    "x = jnp.array([[1.0, 2.0, 3.0], [4.0, 5.0, 6.0]])\n",
    "basis = model.basis(x)\n",
    "print(basis)\n",
    "y_chunked = model(x, W, norm)\n",
    "print(y_chunked)"
   ]
  },
  {
   "cell_type": "markdown",
   "id": "591ac400-336e-4a1f-bb59-43ade188777c",
   "metadata": {},
   "source": [
    "## Train with energy"
   ]
  },
  {
   "cell_type": "markdown",
   "id": "4f294e72-e359-4ff7-bc58-575880be927d",
   "metadata": {},
   "source": [
    "### Train basis with fixed tensor-train"
   ]
  },
  {
   "cell_type": "code",
   "execution_count": 8,
   "id": "9f786124-391c-4af2-9adf-0536d8eaf35e",
   "metadata": {},
   "outputs": [],
   "source": [
    "@nnx.jit  # <- not jax.jit! because model is not jax.Array\n",
    "def train_step(model, optimizer, x, y, W, norm):\n",
    "    def _loss_fn(model):\n",
    "        pred = model(x, W, norm)\n",
    "        loss = jnp.mean((pred - y) ** 2)\n",
    "        return loss\n",
    "\n",
    "    loss, grads = nnx.value_and_grad(_loss_fn)(model)\n",
    "    optimizer.update(grads)\n",
    "    return loss"
   ]
  },
  {
   "cell_type": "code",
   "execution_count": 9,
   "id": "9e0a3af8-2510-4395-8fbb-adf9efb98334",
   "metadata": {},
   "outputs": [],
   "source": [
    "optimizer = nnx.Optimizer(model, optax.adam(1e-03))\n",
    "loss = train_step(model, optimizer, x_samples, y_samples, W, norm)"
   ]
  },
  {
   "cell_type": "markdown",
   "id": "093009a9-237f-4ebe-a482-d5bd6cebe5fc",
   "metadata": {},
   "source": [
    "### Visualize basis"
   ]
  },
  {
   "cell_type": "code",
   "execution_count": 10,
   "id": "aad7c9d4-daa6-4e24-a514-692de5677600",
   "metadata": {},
   "outputs": [
    {
     "data": {
      "image/png": "[encoded data removed]",
      "text/plain": [
       "<Figure size 640x480 with 1 Axes>"
      ]
     },
     "metadata": {},
     "output_type": "display_data"
    }
   ],
   "source": [
    "def show_basis(model, tt):\n",
    "    x0 = np.linspace(-1, 1, 100)\n",
    "    x = np.zeros((100, 3))\n",
    "    x[:, 0] = x0\n",
    "    basis = model.basis(jnp.array(x))\n",
    "    for i in range(model.chunk_size):\n",
    "        plt.plot(x0, np.array(basis[0][:, i]), label=f\"basis-{i}\")\n",
    "    plt.plot(x0, x0**2, label=\"true\")\n",
    "    norm, W = get_norm_W(tt)\n",
    "    y = model(jnp.array(x), W, norm)\n",
    "    plt.plot(x0, np.array(y.squeeze(1)), label=\"prediciton\")\n",
    "    plt.legend()\n",
    "    plt.xlabel(\"$x_1$\")\n",
    "    plt.ylabel(\"Energy\")\n",
    "    plt.show()\n",
    "\n",
    "\n",
    "show_basis(model, tt)"
   ]
  },
  {
   "cell_type": "markdown",
   "id": "b6f26955-f3d7-47fb-8a5e-7eca384e5dfc",
   "metadata": {},
   "source": [
    "### Train basis iteratively"
   ]
  },
  {
   "cell_type": "code",
   "execution_count": 11,
   "id": "52568837-99e5-40f6-a0f5-1bc5a8c6d6e9",
   "metadata": {},
   "outputs": [
    {
     "data": {
      "application/vnd.jupyter.widget-view+json": {
       "model_id": "713e542edef0403faebf5d635c441e1e",
       "version_major": 2,
       "version_minor": 0
      },
      "text/plain": [
       "  0%|          | 0/1000 [00:00<?, ?it/s]"
      ]
     },
     "metadata": {},
     "output_type": "display_data"
    }
   ],
   "source": [
    "losses = []\n",
    "norm, W = get_norm_W(tt)\n",
    "for _ in tqdm(range(1000)):\n",
    "    loss = train_step(model, optimizer, x_samples, y_samples, W, norm)\n",
    "    losses.append(loss)"
   ]
  },
  {
   "cell_type": "markdown",
   "id": "0251a078-5582-4b7b-8a4e-119880e917ea",
   "metadata": {},
   "source": [
    "### Show training trace"
   ]
  },
  {
   "cell_type": "code",
   "execution_count": 12,
   "id": "09f0a787-4d20-400c-9958-3ab931187464",
   "metadata": {},
   "outputs": [
    {
     "data": {
      "image/png": "[encoded data removed]",
      "text/plain": [
       "<Figure size 640x480 with 1 Axes>"
      ]
     },
     "metadata": {},
     "output_type": "display_data"
    }
   ],
   "source": [
    "def show_trace(losses):\n",
    "    plt.plot(losses)\n",
    "    plt.xlabel(\"iteration\")\n",
    "    plt.ylabel(\"loss\")\n",
    "    plt.yscale(\"log\")\n",
    "    plt.show()\n",
    "\n",
    "\n",
    "show_trace(losses)"
   ]
  },
  {
   "cell_type": "markdown",
   "id": "329ebb97-7da9-4029-8afe-0d2da9714498",
   "metadata": {},
   "source": [
    "### Train tensor train with fixed basis\n",
    "\n",
    "See also [pompon.optimizer.sweeper.sweep](../reference/optimizer.sweeper.sweep.qmd)."
   ]
  },
  {
   "cell_type": "code",
   "execution_count": 13,
   "id": "927da322-67eb-48f3-9c54-252875adea8e",
   "metadata": {},
   "outputs": [
    {
     "data": {
      "text/plain": [
       "\u001b[0;31mSignature:\u001b[0m\n",
       "\u001b[0msweep\u001b[0m\u001b[0;34m(\u001b[0m\u001b[0;34m\u001b[0m\n",
       "\u001b[0;34m\u001b[0m    \u001b[0;34m*\u001b[0m\u001b[0;34m,\u001b[0m\u001b[0;34m\u001b[0m\n",
       "\u001b[0;34m\u001b[0m    \u001b[0mtt\u001b[0m\u001b[0;34m:\u001b[0m \u001b[0mpompon\u001b[0m\u001b[0;34m.\u001b[0m\u001b[0mlayers\u001b[0m\u001b[0;34m.\u001b[0m\u001b[0mtt\u001b[0m\u001b[0;34m.\u001b[0m\u001b[0mTensorTrain\u001b[0m\u001b[0;34m,\u001b[0m\u001b[0;34m\u001b[0m\n",
       "\u001b[0;34m\u001b[0m    \u001b[0mbasis\u001b[0m\u001b[0;34m:\u001b[0m \u001b[0mlist\u001b[0m\u001b[0;34m[\u001b[0m\u001b[0mjax\u001b[0m\u001b[0;34m.\u001b[0m\u001b[0mArray\u001b[0m\u001b[0;34m]\u001b[0m\u001b[0;34m,\u001b[0m\u001b[0;34m\u001b[0m\n",
       "\u001b[0;34m\u001b[0m    \u001b[0my\u001b[0m\u001b[0;34m:\u001b[0m \u001b[0mjax\u001b[0m\u001b[0;34m.\u001b[0m\u001b[0mArray\u001b[0m\u001b[0;34m,\u001b[0m\u001b[0;34m\u001b[0m\n",
       "\u001b[0;34m\u001b[0m    \u001b[0mnsweeps\u001b[0m\u001b[0;34m:\u001b[0m \u001b[0mint\u001b[0m \u001b[0;34m=\u001b[0m \u001b[0;36m2\u001b[0m\u001b[0;34m,\u001b[0m\u001b[0;34m\u001b[0m\n",
       "\u001b[0;34m\u001b[0m    \u001b[0mmaxdim\u001b[0m\u001b[0;34m:\u001b[0m \u001b[0mint\u001b[0m \u001b[0;34m|\u001b[0m \u001b[0mlist\u001b[0m\u001b[0;34m[\u001b[0m\u001b[0mint\u001b[0m\u001b[0;34m]\u001b[0m \u001b[0;34m|\u001b[0m \u001b[0mnumpy\u001b[0m\u001b[0;34m.\u001b[0m\u001b[0mndarray\u001b[0m \u001b[0;34m=\u001b[0m \u001b[0;36m30\u001b[0m\u001b[0;34m,\u001b[0m\u001b[0;34m\u001b[0m\n",
       "\u001b[0;34m\u001b[0m    \u001b[0mcutoff\u001b[0m\u001b[0;34m:\u001b[0m \u001b[0mfloat\u001b[0m \u001b[0;34m|\u001b[0m \u001b[0mlist\u001b[0m\u001b[0;34m[\u001b[0m\u001b[0mfloat\u001b[0m\u001b[0;34m]\u001b[0m \u001b[0;34m|\u001b[0m \u001b[0mnumpy\u001b[0m\u001b[0;34m.\u001b[0m\u001b[0mndarray\u001b[0m \u001b[0;34m=\u001b[0m \u001b[0;36m0.01\u001b[0m\u001b[0;34m,\u001b[0m\u001b[0;34m\u001b[0m\n",
       "\u001b[0;34m\u001b[0m    \u001b[0moptax_solver\u001b[0m\u001b[0;34m:\u001b[0m \u001b[0moptax\u001b[0m\u001b[0;34m.\u001b[0m\u001b[0m_src\u001b[0m\u001b[0;34m.\u001b[0m\u001b[0mbase\u001b[0m\u001b[0;34m.\u001b[0m\u001b[0mGradientTransformation\u001b[0m \u001b[0;34m|\u001b[0m \u001b[0;32mNone\u001b[0m \u001b[0;34m=\u001b[0m \u001b[0;32mNone\u001b[0m\u001b[0;34m,\u001b[0m\u001b[0;34m\u001b[0m\n",
       "\u001b[0;34m\u001b[0m    \u001b[0mopt_maxiter\u001b[0m\u001b[0;34m:\u001b[0m \u001b[0mint\u001b[0m \u001b[0;34m=\u001b[0m \u001b[0;36m1000\u001b[0m\u001b[0;34m,\u001b[0m\u001b[0;34m\u001b[0m\n",
       "\u001b[0;34m\u001b[0m    \u001b[0mopt_tol\u001b[0m\u001b[0;34m:\u001b[0m \u001b[0mfloat\u001b[0m \u001b[0;34m|\u001b[0m \u001b[0mlist\u001b[0m\u001b[0;34m[\u001b[0m\u001b[0mfloat\u001b[0m\u001b[0;34m]\u001b[0m \u001b[0;34m|\u001b[0m \u001b[0mnumpy\u001b[0m\u001b[0;34m.\u001b[0m\u001b[0mndarray\u001b[0m \u001b[0;34m|\u001b[0m \u001b[0;32mNone\u001b[0m \u001b[0;34m=\u001b[0m \u001b[0;32mNone\u001b[0m\u001b[0;34m,\u001b[0m\u001b[0;34m\u001b[0m\n",
       "\u001b[0;34m\u001b[0m    \u001b[0mopt_lambda\u001b[0m\u001b[0;34m:\u001b[0m \u001b[0mfloat\u001b[0m \u001b[0;34m=\u001b[0m \u001b[0;36m0.0\u001b[0m\u001b[0;34m,\u001b[0m\u001b[0;34m\u001b[0m\n",
       "\u001b[0;34m\u001b[0m    \u001b[0monedot\u001b[0m\u001b[0;34m:\u001b[0m \u001b[0mbool\u001b[0m \u001b[0;34m=\u001b[0m \u001b[0;32mFalse\u001b[0m\u001b[0;34m,\u001b[0m\u001b[0;34m\u001b[0m\n",
       "\u001b[0;34m\u001b[0m    \u001b[0muse_CG\u001b[0m\u001b[0;34m:\u001b[0m \u001b[0mbool\u001b[0m \u001b[0;34m=\u001b[0m \u001b[0;32mFalse\u001b[0m\u001b[0;34m,\u001b[0m\u001b[0;34m\u001b[0m\n",
       "\u001b[0;34m\u001b[0m    \u001b[0muse_scipy\u001b[0m\u001b[0;34m:\u001b[0m \u001b[0mbool\u001b[0m \u001b[0;34m=\u001b[0m \u001b[0;32mFalse\u001b[0m\u001b[0;34m,\u001b[0m\u001b[0;34m\u001b[0m\n",
       "\u001b[0;34m\u001b[0m    \u001b[0muse_jax_scipy\u001b[0m\u001b[0;34m:\u001b[0m \u001b[0mbool\u001b[0m \u001b[0;34m=\u001b[0m \u001b[0;32mFalse\u001b[0m\u001b[0;34m,\u001b[0m\u001b[0;34m\u001b[0m\n",
       "\u001b[0;34m\u001b[0m    \u001b[0mmethod\u001b[0m\u001b[0;34m:\u001b[0m \u001b[0mstr\u001b[0m \u001b[0;34m=\u001b[0m \u001b[0;34m'L-BFGS-B'\u001b[0m\u001b[0;34m,\u001b[0m\u001b[0;34m\u001b[0m\n",
       "\u001b[0;34m\u001b[0m    \u001b[0mord\u001b[0m\u001b[0;34m:\u001b[0m \u001b[0mstr\u001b[0m \u001b[0;34m=\u001b[0m \u001b[0;34m'fro'\u001b[0m\u001b[0;34m,\u001b[0m\u001b[0;34m\u001b[0m\n",
       "\u001b[0;34m\u001b[0m    \u001b[0mauto_onedot\u001b[0m\u001b[0;34m:\u001b[0m \u001b[0mbool\u001b[0m \u001b[0;34m=\u001b[0m \u001b[0;32mTrue\u001b[0m\u001b[0;34m,\u001b[0m\u001b[0;34m\u001b[0m\n",
       "\u001b[0;34m\u001b[0m\u001b[0;34m)\u001b[0m\u001b[0;34m\u001b[0m\u001b[0;34m\u001b[0m\u001b[0m\n",
       "\u001b[0;31mDocstring:\u001b[0m\n",
       "Tensor-train sweep optimization\n",
       "\n",
       "Args:\n",
       "    tt (TensorTrain): the tensor-train model.\n",
       "    basis (list[Array]): the basis functions.\n",
       "    y (Array): the target values.\n",
       "    nsweeps (int): The number of sweeps.\n",
       "    maxdim (int, list[int]): the maximum rank of TT-sweep.\n",
       "    cutoff (float, list[float]): the ratio of truncated singular values for TT-sweep.\n",
       "        When one-dot core is optimized, this parameter is not used.\n",
       "    optax_solver (optax.GradientTransformation): the optimizer for TT-sweep.\n",
       "        Defaults to None. If None, the optimizer is not used.\n",
       "    opt_maxiter (int): the maximum number of iterations for TT-sweep.\n",
       "    opt_tol (float, list[float]): the convergence criterion of gradient for TT-sweep.\n",
       "        Defaults to None, i.e., opt_tol = cutoff.\n",
       "    opt_lambda (float): the L2 regularization parameter for TT-sweep.\n",
       "        Only use_CG=True is supported.\n",
       "    onedot (bool, optional): whether to optimize one-dot or two-dot core.\n",
       "        Defaults to False, i.e. two-dot core optimization.\n",
       "    use_CG (bool, optional): whether to use conjugate gradient method for TT-sweep.\n",
       "        Defaults to False. CG is suitable for one-dot core optimization.\n",
       "    use_scipy (bool, optional): whether to use scipy.optimize.minimize for TT-sweep.\n",
       "        Defaults to False and use L-BFGS-B method. GPU is not supported.\n",
       "    use_jax_scipy (bool, optional): whether to use jax.scipy.optimize.minimize for TT-sweep.\n",
       "        Defaults to False. This optimizer is only supports BFGS method, which exhausts GPU memory.\n",
       "    method (str, optional): the optimization method for scipy.optimize.minimize.\n",
       "        Defaults to 'L-BFGS-B'. Note that jax.scipy.optimize.minimize only supports 'BFGS'.\n",
       "    ord (str, optional): the norm for scaling the initial core. \n",
       "        Defaults to 'fro', Frobenuis norm.\n",
       "        'max`, maximum absolute value, 'fro', Frobenius norm, are supported.\n",
       "    auto_onedot (bool, optional): whether to switch to one-dot core optimization automatically once\n",
       "        the maximum rank is reached. Defaults to True.\n",
       "        This will cause overfitting in the beginning of the optimization.\n",
       "\u001b[0;31mFile:\u001b[0m      ~/GitHub/Pompon/pompon/optimizer/sweeper.py\n",
       "\u001b[0;31mType:\u001b[0m      function"
      ]
     },
     "metadata": {},
     "output_type": "display_data"
    }
   ],
   "source": [
    "sweep?"
   ]
  },
  {
   "cell_type": "code",
   "execution_count": 14,
   "id": "9a311f9b-636b-42fe-b84a-e3a86ccd9d52",
   "metadata": {
    "scrolled": true
   },
   "outputs": [
    {
     "data": {
      "text/plain": [
       "(256, 2)"
      ]
     },
     "execution_count": 14,
     "metadata": {},
     "output_type": "execute_result"
    }
   ],
   "source": [
    "norm, W = get_norm_W(tt)\n",
    "basis = model.basis(x_samples)\n",
    "basis[0].shape"
   ]
  },
  {
   "cell_type": "code",
   "execution_count": 15,
   "id": "fde52d24-b486-4843-beee-90995de63bf5",
   "metadata": {},
   "outputs": [
    {
     "data": {
      "text/plain": [
       "(256, 1)"
      ]
     },
     "execution_count": 15,
     "metadata": {},
     "output_type": "execute_result"
    }
   ],
   "source": [
    "y_samples.shape"
   ]
  },
  {
   "cell_type": "code",
   "execution_count": 16,
   "id": "06d50889-ca8a-4889-a9c8-90c77c6757cb",
   "metadata": {},
   "outputs": [
    {
     "data": {
      "application/vnd.jupyter.widget-view+json": {
       "model_id": "76916009b37e4b4d8d1ca1f42ec1e32c",
       "version_major": 2,
       "version_minor": 0
      },
      "text/plain": [
       "  0%|          | 0/2 [00:00<?, ?it/s]"
      ]
     },
     "metadata": {},
     "output_type": "display_data"
    }
   ],
   "source": [
    "sweep(\n",
    "    tt=tt,\n",
    "    basis=basis,\n",
    "    y=y_samples,\n",
    "    nsweeps=2,\n",
    "    maxdim=2,\n",
    "    opt_maxiter=100,\n",
    "    optax_solver=optax.adam(1.0e-03),\n",
    "    # use_CG=True,\n",
    "    onedot=False,\n",
    "    auto_onedot=False,\n",
    ")"
   ]
  },
  {
   "cell_type": "markdown",
   "id": "838d8920-a906-4d9e-a550-c7d5477f79b4",
   "metadata": {},
   "source": [
    "### Repeat tensor train optimization & basis optimization"
   ]
  },
  {
   "cell_type": "code",
   "execution_count": 17,
   "id": "62691d71-4899-43ba-b6c0-5db028769e98",
   "metadata": {
    "scrolled": true
   },
   "outputs": [
    {
     "data": {
      "application/vnd.jupyter.widget-view+json": {
       "model_id": "81d91f6aee1946699cad3b94c4b69aa7",
       "version_major": 2,
       "version_minor": 0
      },
      "text/plain": [
       "  0%|          | 0/10000 [00:00<?, ?it/s]"
      ]
     },
     "metadata": {},
     "output_type": "display_data"
    },
    {
     "data": {
      "application/vnd.jupyter.widget-view+json": {
       "model_id": "16c99977d8d3405dbb5a014953ced0e3",
       "version_major": 2,
       "version_minor": 0
      },
      "text/plain": [
       "  0%|          | 0/1 [00:00<?, ?it/s]"
      ]
     },
     "metadata": {},
     "output_type": "display_data"
    },
    {
     "data": {
      "application/vnd.jupyter.widget-view+json": {
       "model_id": "becc287fca8b4c458f89fc672aa6ce09",
       "version_major": 2,
       "version_minor": 0
      },
      "text/plain": [
       "  0%|          | 0/1 [00:00<?, ?it/s]"
      ]
     },
     "metadata": {},
     "output_type": "display_data"
    },
    {
     "data": {
      "application/vnd.jupyter.widget-view+json": {
       "model_id": "8db7ba77720c41bfb86c161a1e837880",
       "version_major": 2,
       "version_minor": 0
      },
      "text/plain": [
       "  0%|          | 0/1 [00:00<?, ?it/s]"
      ]
     },
     "metadata": {},
     "output_type": "display_data"
    },
    {
     "data": {
      "application/vnd.jupyter.widget-view+json": {
       "model_id": "35f3b58063344b9ab983109a8381a88f",
       "version_major": 2,
       "version_minor": 0
      },
      "text/plain": [
       "  0%|          | 0/1 [00:00<?, ?it/s]"
      ]
     },
     "metadata": {},
     "output_type": "display_data"
    },
    {
     "data": {
      "application/vnd.jupyter.widget-view+json": {
       "model_id": "ddf2213b2a89406f91e1ff465c0efd5d",
       "version_major": 2,
       "version_minor": 0
      },
      "text/plain": [
       "  0%|          | 0/1 [00:00<?, ?it/s]"
      ]
     },
     "metadata": {},
     "output_type": "display_data"
    },
    {
     "data": {
      "application/vnd.jupyter.widget-view+json": {
       "model_id": "4a028d03f9fe4512906bd913162c8988",
       "version_major": 2,
       "version_minor": 0
      },
      "text/plain": [
       "  0%|          | 0/1 [00:00<?, ?it/s]"
      ]
     },
     "metadata": {},
     "output_type": "display_data"
    },
    {
     "data": {
      "application/vnd.jupyter.widget-view+json": {
       "model_id": "9c89db62eca8433980f26e037166b180",
       "version_major": 2,
       "version_minor": 0
      },
      "text/plain": [
       "  0%|          | 0/1 [00:00<?, ?it/s]"
      ]
     },
     "metadata": {},
     "output_type": "display_data"
    },
    {
     "data": {
      "application/vnd.jupyter.widget-view+json": {
       "model_id": "0429a08292104235b91842580f8f70ef",
       "version_major": 2,
       "version_minor": 0
      },
      "text/plain": [
       "  0%|          | 0/1 [00:00<?, ?it/s]"
      ]
     },
     "metadata": {},
     "output_type": "display_data"
    },
    {
     "data": {
      "application/vnd.jupyter.widget-view+json": {
       "model_id": "8bca2ef86abc4e03ba5139d864ed7feb",
       "version_major": 2,
       "version_minor": 0
      },
      "text/plain": [
       "  0%|          | 0/1 [00:00<?, ?it/s]"
      ]
     },
     "metadata": {},
     "output_type": "display_data"
    },
    {
     "data": {
      "application/vnd.jupyter.widget-view+json": {
       "model_id": "a7f2435edd184943a528fecfe5353799",
       "version_major": 2,
       "version_minor": 0
      },
      "text/plain": [
       "  0%|          | 0/1 [00:00<?, ?it/s]"
      ]
     },
     "metadata": {},
     "output_type": "display_data"
    },
    {
     "data": {
      "application/vnd.jupyter.widget-view+json": {
       "model_id": "26f114a54997489bb36c052836b6b16b",
       "version_major": 2,
       "version_minor": 0
      },
      "text/plain": [
       "  0%|          | 0/1 [00:00<?, ?it/s]"
      ]
     },
     "metadata": {},
     "output_type": "display_data"
    },
    {
     "data": {
      "application/vnd.jupyter.widget-view+json": {
       "model_id": "65df6908b3514114a65effbada5e98fa",
       "version_major": 2,
       "version_minor": 0
      },
      "text/plain": [
       "  0%|          | 0/1 [00:00<?, ?it/s]"
      ]
     },
     "metadata": {},
     "output_type": "display_data"
    },
    {
     "data": {
      "application/vnd.jupyter.widget-view+json": {
       "model_id": "322cd4171896447ea8343c39ea166708",
       "version_major": 2,
       "version_minor": 0
      },
      "text/plain": [
       "  0%|          | 0/1 [00:00<?, ?it/s]"
      ]
     },
     "metadata": {},
     "output_type": "display_data"
    },
    {
     "data": {
      "application/vnd.jupyter.widget-view+json": {
       "model_id": "88164af5318f435cbd4d7ffad08a0b07",
       "version_major": 2,
       "version_minor": 0
      },
      "text/plain": [
       "  0%|          | 0/1 [00:00<?, ?it/s]"
      ]
     },
     "metadata": {},
     "output_type": "display_data"
    },
    {
     "data": {
      "application/vnd.jupyter.widget-view+json": {
       "model_id": "2016c0ed228a431cb597aaff5c033f5d",
       "version_major": 2,
       "version_minor": 0
      },
      "text/plain": [
       "  0%|          | 0/1 [00:00<?, ?it/s]"
      ]
     },
     "metadata": {},
     "output_type": "display_data"
    },
    {
     "data": {
      "application/vnd.jupyter.widget-view+json": {
       "model_id": "a19e808ee04349d4a48179646140634b",
       "version_major": 2,
       "version_minor": 0
      },
      "text/plain": [
       "  0%|          | 0/1 [00:00<?, ?it/s]"
      ]
     },
     "metadata": {},
     "output_type": "display_data"
    },
    {
     "data": {
      "application/vnd.jupyter.widget-view+json": {
       "model_id": "a3aeb0864b754ee280bdc0bf47e9c388",
       "version_major": 2,
       "version_minor": 0
      },
      "text/plain": [
       "  0%|          | 0/1 [00:00<?, ?it/s]"
      ]
     },
     "metadata": {},
     "output_type": "display_data"
    },
    {
     "data": {
      "application/vnd.jupyter.widget-view+json": {
       "model_id": "102e8a1d5b6a4586b672ec1acad15b61",
       "version_major": 2,
       "version_minor": 0
      },
      "text/plain": [
       "  0%|          | 0/1 [00:00<?, ?it/s]"
      ]
     },
     "metadata": {},
     "output_type": "display_data"
    },
    {
     "data": {
      "application/vnd.jupyter.widget-view+json": {
       "model_id": "c5aa2ef3b883411a9a07a494333ba729",
       "version_major": 2,
       "version_minor": 0
      },
      "text/plain": [
       "  0%|          | 0/1 [00:00<?, ?it/s]"
      ]
     },
     "metadata": {},
     "output_type": "display_data"
    },
    {
     "data": {
      "application/vnd.jupyter.widget-view+json": {
       "model_id": "0ba8af40c2894c6bb039ddb2d5748231",
       "version_major": 2,
       "version_minor": 0
      },
      "text/plain": [
       "  0%|          | 0/1 [00:00<?, ?it/s]"
      ]
     },
     "metadata": {},
     "output_type": "display_data"
    }
   ],
   "source": [
    "tx = optax.adam(1e-5)\n",
    "optimizer = nnx.Optimizer(model, tx)\n",
    "\n",
    "for i in tqdm(range(10000)):\n",
    "    if i % 500 == 0:\n",
    "        norm, W = get_norm_W(tt)\n",
    "        basis = model.basis(x_samples)\n",
    "        sweep(\n",
    "            tt=tt,\n",
    "            basis=basis,\n",
    "            y=y_samples,\n",
    "            nsweeps=1,\n",
    "            maxdim=2,\n",
    "            opt_maxiter=200,\n",
    "            # optax_solver=optax.adam(1.e-04),\n",
    "            use_CG=True,\n",
    "            onedot=False,\n",
    "            auto_onedot=False,\n",
    "        )\n",
    "        norm, W = get_norm_W(tt)\n",
    "    loss = train_step(model, optimizer, x_samples, y_samples, W, norm)\n",
    "    losses.append(loss)"
   ]
  },
  {
   "cell_type": "code",
   "execution_count": 18,
   "id": "a9767cf0-1aa4-4803-9ae8-4b2a4236536d",
   "metadata": {},
   "outputs": [
    {
     "data": {
      "image/png": "[encoded data removed]",
      "text/plain": [
       "<Figure size 640x480 with 1 Axes>"
      ]
     },
     "metadata": {},
     "output_type": "display_data"
    }
   ],
   "source": [
    "show_trace(losses)"
   ]
  },
  {
   "cell_type": "code",
   "execution_count": 19,
   "id": "7b483724-bf9a-4824-9080-a04802dcc185",
   "metadata": {},
   "outputs": [
    {
     "data": {
      "image/png": "[encoded data removed]",
      "text/plain": [
       "<Figure size 640x480 with 1 Axes>"
      ]
     },
     "metadata": {},
     "output_type": "display_data"
    }
   ],
   "source": [
    "show_basis(model, tt)"
   ]
  },
  {
   "cell_type": "markdown",
   "id": "7b7f358a-1f52-4392-9741-f678641c4135",
   "metadata": {},
   "source": [
    "## Train with forces\n",
    "\n",
    "### Train basis with fixed tensor-train\n",
    "\n",
    "Define function that returns $-\\frac{\\partial V}{\\partial x}$ by auto differentiation"
   ]
  },
  {
   "cell_type": "code",
   "execution_count": 20,
   "id": "e8752c79-e07f-4c76-9172-de3b99631ab2",
   "metadata": {
    "scrolled": true
   },
   "outputs": [],
   "source": [
    "from functools import partial\n",
    "\n",
    "\n",
    "def get_force(x, model, norm, W):\n",
    "    def func(x, model, norm, W):\n",
    "        if x.ndim == 1:\n",
    "            # When no-batch\n",
    "            x = x[jnp.newaxis, :]\n",
    "            return -1.0 * model(x, norm=norm, W=W).squeeze(0)\n",
    "        else:\n",
    "            return -1.0 * model(x, norm=norm, W=W)\n",
    "\n",
    "    ener_fn = partial(func, model=model, norm=norm, W=W)\n",
    "    jacobian = jax.vmap(jax.jacrev(ener_fn))(x)  # (batch, out, in)\n",
    "    return jacobian.squeeze(-2)  # (batch, in)"
   ]
  },
  {
   "cell_type": "markdown",
   "id": "5d99abda-3240-4cba-8320-610abb643cba",
   "metadata": {},
   "source": [
    "Define train_step which has a loss function\n",
    "$$\n",
    "\\mathcal{L} = \\frac{1}{2|\\mathcal{D}|} \\sum_{\\boldsymbol{x}, E, \\boldsymbol{F} \\in \\mathcal{D}} \\left[\\left(\\hat{V}(\\boldsymbol{x})-V\\right)^2 + \\left(\\hat{\\mathbf{F}}(\\boldsymbol{x})-\\mathbf{F}\\right)^2\\right]\n",
    "$$"
   ]
  },
  {
   "cell_type": "code",
   "execution_count": 21,
   "id": "cc905982-8ac2-47c4-937a-0bee1342af94",
   "metadata": {},
   "outputs": [],
   "source": [
    "@nnx.jit\n",
    "def train_step(model, optimizer, x, y, f, W, norm):\n",
    "    def _loss_fn(model):\n",
    "        pred = model(x, W, norm)\n",
    "        loss = jnp.mean((pred - y) ** 2)\n",
    "        pred_force = get_force(x, model, norm, W)\n",
    "        loss += (\n",
    "            jnp.sum((pred_force.flatten() - f.flatten()) ** 2)\n",
    "            / pred_force.shape[0]\n",
    "        )\n",
    "        return loss\n",
    "\n",
    "    loss, grads = nnx.value_and_grad(_loss_fn)(model)\n",
    "    optimizer.update(grads)\n",
    "    return loss"
   ]
  },
  {
   "cell_type": "markdown",
   "id": "5d4a6cbf-de1a-40b1-85b0-ac9a501d82a9",
   "metadata": {},
   "source": [
    "Check `train_step` works"
   ]
  },
  {
   "cell_type": "code",
   "execution_count": 22,
   "id": "9302ec8a-9ee2-4eba-ad20-a9973e2a0590",
   "metadata": {},
   "outputs": [
    {
     "data": {
      "text/plain": [
       "Array(0.38388169, dtype=float64)"
      ]
     },
     "execution_count": 22,
     "metadata": {},
     "output_type": "execute_result"
    }
   ],
   "source": [
    "norm, W = get_norm_W(tt)\n",
    "loss = train_step(model, optimizer, x_samples, y_samples, f_samples, W, norm)\n",
    "loss"
   ]
  },
  {
   "cell_type": "markdown",
   "id": "c3bc1595-9632-4800-a8a7-2e66b3037a12",
   "metadata": {},
   "source": [
    "### Train basis iteratively"
   ]
  },
  {
   "cell_type": "code",
   "execution_count": 23,
   "id": "462955c1-0b8c-4b82-93ce-848f9a2678bb",
   "metadata": {},
   "outputs": [
    {
     "data": {
      "application/vnd.jupyter.widget-view+json": {
       "model_id": "50434c14e88f4f3293bc871e8b840dd4",
       "version_major": 2,
       "version_minor": 0
      },
      "text/plain": [
       "  0%|          | 0/1000 [00:00<?, ?it/s]"
      ]
     },
     "metadata": {},
     "output_type": "display_data"
    }
   ],
   "source": [
    "for _ in tqdm(range(1000)):\n",
    "    # lax while loop may be fast\n",
    "    loss = train_step(\n",
    "        model, optimizer, x_samples, y_samples, f_samples, W, norm\n",
    "    )\n",
    "    losses.append(loss)"
   ]
  },
  {
   "cell_type": "code",
   "execution_count": 24,
   "id": "83e4dd9c-d2fc-4061-a2e0-9603f9ced7ee",
   "metadata": {},
   "outputs": [
    {
     "data": {
      "image/png": "[encoded data removed]",
      "text/plain": [
       "<Figure size 640x480 with 1 Axes>"
      ]
     },
     "metadata": {},
     "output_type": "display_data"
    }
   ],
   "source": [
    "show_trace(losses)"
   ]
  },
  {
   "cell_type": "code",
   "execution_count": 25,
   "id": "b399d91a-10e7-4255-9d12-139d6c8cac1c",
   "metadata": {},
   "outputs": [
    {
     "data": {
      "image/png": "[encoded data removed]",
      "text/plain": [
       "<Figure size 640x480 with 1 Axes>"
      ]
     },
     "metadata": {},
     "output_type": "display_data"
    }
   ],
   "source": [
    "show_basis(model, tt)"
   ]
  },
  {
   "cell_type": "markdown",
   "id": "3dba5c41-091d-4a69-9642-75f803f06a88",
   "metadata": {},
   "source": [
    "### Train tensor train with fixed basis\n",
    "\n",
    "Prepare basis gradient $-\\frac{\\partial \\Phi}{\\partial x_i}$"
   ]
  },
  {
   "cell_type": "code",
   "execution_count": 26,
   "id": "5539cd36-b0ae-484b-a7a0-90e773067b1f",
   "metadata": {
    "scrolled": true
   },
   "outputs": [],
   "source": [
    "def get_partial_basis(x, i, model):\n",
    "    assert x.ndim == 2  # batch, dim\n",
    "    x = x[:, i : i + 1]\n",
    "\n",
    "    def func(x, model):\n",
    "        if x.ndim == 1:\n",
    "            x = x[jnp.newaxis, :]\n",
    "            return -1.0 * model.basis(x, i)[0].squeeze(0)\n",
    "        else:\n",
    "            return -1.0 * model.basis(x, i)[0]\n",
    "\n",
    "    basis_fn = partial(func, model=model)\n",
    "    # since in=1 < out=number of basis, we should use forward differentiation\n",
    "    jacobian = jax.vmap(jax.jacfwd(basis_fn))(x)  # batch, out, in\n",
    "    return jacobian.squeeze(2)  # batch, out\n",
    "\n",
    "\n",
    "partial_basis_i = get_partial_basis(x_samples, 0, model)"
   ]
  },
  {
   "cell_type": "markdown",
   "id": "6d21a5a2-37d3-4474-9663-d935e046c974",
   "metadata": {},
   "source": [
    "`partial_basis=`\n",
    "$\n",
    "\\left[\n",
    "-\\frac{\\partial \\phi_{\\rho_1}}{\\partial x_1}, -\\frac{\\partial \\phi_{\\rho_2}}{\\partial x_2}, \\cdots, -\\frac{\\partial \\phi_{\\rho_n}}{\\partial x_n}\n",
    "\\right]\n",
    "$"
   ]
  },
  {
   "cell_type": "code",
   "execution_count": 27,
   "id": "4dcaa419-f2a0-4979-8866-d99859752cbc",
   "metadata": {},
   "outputs": [],
   "source": [
    "partial_basis = [\n",
    "    get_partial_basis(x_samples, i, model) for i in range(x_samples.shape[1])\n",
    "]"
   ]
  },
  {
   "cell_type": "markdown",
   "id": "edd03c7a-d852-4804-bf9d-63005ed907c2",
   "metadata": {},
   "source": [
    "`basis=`\n",
    "$\\left[\\phi_{\\rho_1}, \\phi_{\\rho_2}, \\cdots, \\phi_{\\rho_n} \\right]$"
   ]
  },
  {
   "cell_type": "code",
   "execution_count": 28,
   "id": "7c310283-3e2d-49f5-81ea-f36a9842dc18",
   "metadata": {},
   "outputs": [],
   "source": [
    "basis = model.basis(x_samples)"
   ]
  },
  {
   "cell_type": "markdown",
   "id": "7c7edb60-b4f3-4c6d-8064-3d8737587304",
   "metadata": {},
   "source": [
    "`concat_y=`$y_p$\n",
    "where $p=k \\otimes i$\n",
    "$$\n",
    "y_p = y_i^{(k)} = \n",
    "\\begin{cases}\n",
    "\\boldsymbol{F}_i^{(k)} & \\mathrm{for} \\quad i \\leq n \\\\\n",
    "E^{(k)} & \\mathrm{for} \\quad i = n+1\n",
    "\\end{cases}\n",
    "$$"
   ]
  },
  {
   "cell_type": "code",
   "execution_count": 29,
   "id": "a04a06cb-355b-4252-8ac1-b83b25ef00b6",
   "metadata": {},
   "outputs": [
    {
     "name": "stdout",
     "output_type": "stream",
     "text": [
      "(1024, 1)\n"
     ]
    }
   ],
   "source": [
    "concat_y = jnp.vstack(\n",
    "    [f_samples[:, i : i + 1] for i in range(len(basis))] + [y_samples]\n",
    ")\n",
    "print(concat_y.shape)"
   ]
  },
  {
   "cell_type": "markdown",
   "id": "59a38c7b-9fa9-4c17-a576-4bf8afdf8656",
   "metadata": {},
   "source": [
    "`basis_list=`\n",
    "$$\n",
    "\\begin{bmatrix}\n",
    "[\\partial_{x_1}\\phi_{\\rho_1} & \\phi_{\\rho_2} & \\cdots & \\phi_{\\rho_n} ], \\\\\n",
    "[\\phi_{\\rho_1} & \\partial_{x_2}\\phi_{\\rho_2} & \\cdots & \\phi_{\\rho_n} ], \\\\\n",
    "& & \\vdots & & \\\\\n",
    "[\\phi_{\\rho_1} & \\phi_{\\rho_2} & \\cdots & \\partial_{x_n}\\phi_{\\rho_n} ], \\\\\n",
    "[\\phi_{\\rho_1} & \\phi_{\\rho_2} & \\cdots & \\phi_{\\rho_n} ]\n",
    "\\end{bmatrix}\n",
    "$$\n",
    "\n",
    "\n",
    "`concat_basis=`\n",
    "$\n",
    "\\left[\\varphi_{\\rho_1}, \\varphi_{\\rho_2}, \\cdots, \\varphi_{\\rho_n}\\right]\n",
    "$\n",
    "where\n",
    "$$\n",
    "\\varphi_{\\rho_j}^p = \\varphi_{i, \\rho_i}^{(k)} = \n",
    "\\begin{cases}\n",
    "-\\partial_{x_j}\\phi_{\\rho_j} & \\mathrm{for} \\quad i=j \\\\\n",
    "\\phi_{\\rho_j} & \\mathrm{otherwise}\n",
    "\\end{cases}\n",
    "$$"
   ]
  },
  {
   "cell_type": "code",
   "execution_count": 30,
   "id": "325896c3-e971-4631-96f1-c4d7fc7ec06b",
   "metadata": {},
   "outputs": [
    {
     "name": "stdout",
     "output_type": "stream",
     "text": [
      "(1024, 2)\n"
     ]
    }
   ],
   "source": [
    "def get_concat_basis(x: jax.Array, model: CustomModel) -> list[jax.Array]:\n",
    "    \"\"\"\n",
    "    Args:\n",
    "        x (jax.Array): postions\n",
    "        model (CustomModel): model\n",
    "\n",
    "    Returns:\n",
    "        list[jax.Array]: derivative concatenated basis\n",
    "    \"\"\"\n",
    "    partial_basis = [get_partial_basis(x, i, model) for i in range(x.shape[1])]\n",
    "    basis = model.basis(x)\n",
    "    basis_list = []\n",
    "    for i in range(len(basis)):\n",
    "        basis_row = [\n",
    "            ϕ.copy() if k != i else dϕ.copy()\n",
    "            for k, (ϕ, dϕ) in enumerate(zip(basis, partial_basis, strict=True))\n",
    "        ]\n",
    "        basis_list.append(basis_row)\n",
    "    basis_list.append(basis)\n",
    "    concat_basis = [\n",
    "        jnp.vstack([φ[i] for φ in basis_list]) for i in range(len(basis))\n",
    "    ]\n",
    "    return concat_basis\n",
    "\n",
    "\n",
    "concat_basis = get_concat_basis(x_samples, model)\n",
    "print(concat_basis[0].shape)"
   ]
  },
  {
   "cell_type": "markdown",
   "id": "14a5166d-8fcc-433f-af6b-a98dbd7a7199",
   "metadata": {},
   "source": [
    "### Train tensor train with fixed basis\n",
    "\n",
    "Only `basis` & `y` are changed from energy optimization."
   ]
  },
  {
   "cell_type": "code",
   "execution_count": 31,
   "id": "ab74bfa1-a4e0-4158-9bcf-34d48be58389",
   "metadata": {},
   "outputs": [
    {
     "data": {
      "application/vnd.jupyter.widget-view+json": {
       "model_id": "c1f38260f2d54d30aa4249b08a5f7896",
       "version_major": 2,
       "version_minor": 0
      },
      "text/plain": [
       "  0%|          | 0/10 [00:00<?, ?it/s]"
      ]
     },
     "metadata": {},
     "output_type": "display_data"
    }
   ],
   "source": [
    "sweep(\n",
    "    tt=tt,\n",
    "    basis=concat_basis,  # <- changed!!\n",
    "    y=concat_y,  # <- changed!!\n",
    "    nsweeps=10,\n",
    "    maxdim=2,\n",
    "    opt_maxiter=200,\n",
    "    # optax_solver=optax.adam(1.e-04),\n",
    "    use_CG=True,\n",
    "    onedot=True,\n",
    "    auto_onedot=False,\n",
    ")"
   ]
  },
  {
   "cell_type": "code",
   "execution_count": 32,
   "id": "d956a244-003c-46a3-884b-cb0e7b0978b6",
   "metadata": {},
   "outputs": [
    {
     "data": {
      "image/png": "[encoded data removed]",
      "text/plain": [
       "<Figure size 640x480 with 1 Axes>"
      ]
     },
     "metadata": {},
     "output_type": "display_data"
    }
   ],
   "source": [
    "show_basis(model, tt)"
   ]
  },
  {
   "cell_type": "markdown",
   "id": "20b013a7-ab18-4182-b322-ded8898acdcd",
   "metadata": {},
   "source": [
    "### Repeat tensor train optimization & basis optimization"
   ]
  },
  {
   "cell_type": "code",
   "execution_count": 33,
   "id": "f3790849-e5b1-4515-a3d6-f07714369a30",
   "metadata": {
    "scrolled": true
   },
   "outputs": [
    {
     "data": {
      "application/vnd.jupyter.widget-view+json": {
       "model_id": "06b8730e619c460c92f26f2fafd6a3b8",
       "version_major": 2,
       "version_minor": 0
      },
      "text/plain": [
       "  0%|          | 0/10000 [00:00<?, ?it/s]"
      ]
     },
     "metadata": {},
     "output_type": "display_data"
    },
    {
     "data": {
      "application/vnd.jupyter.widget-view+json": {
       "model_id": "57f83386cdc245648fe8ad0cdccb45e5",
       "version_major": 2,
       "version_minor": 0
      },
      "text/plain": [
       "  0%|          | 0/1 [00:00<?, ?it/s]"
      ]
     },
     "metadata": {},
     "output_type": "display_data"
    },
    {
     "data": {
      "application/vnd.jupyter.widget-view+json": {
       "model_id": "c261a388f16f4077a3a6a67751da70d7",
       "version_major": 2,
       "version_minor": 0
      },
      "text/plain": [
       "  0%|          | 0/1 [00:00<?, ?it/s]"
      ]
     },
     "metadata": {},
     "output_type": "display_data"
    },
    {
     "data": {
      "application/vnd.jupyter.widget-view+json": {
       "model_id": "7edd893082c340bf9423e903264569aa",
       "version_major": 2,
       "version_minor": 0
      },
      "text/plain": [
       "  0%|          | 0/1 [00:00<?, ?it/s]"
      ]
     },
     "metadata": {},
     "output_type": "display_data"
    },
    {
     "data": {
      "application/vnd.jupyter.widget-view+json": {
       "model_id": "44935ff4a1144a19b46c08e7291dc53f",
       "version_major": 2,
       "version_minor": 0
      },
      "text/plain": [
       "  0%|          | 0/1 [00:00<?, ?it/s]"
      ]
     },
     "metadata": {},
     "output_type": "display_data"
    },
    {
     "data": {
      "application/vnd.jupyter.widget-view+json": {
       "model_id": "526a81dae47a4275b887f210bbf6062c",
       "version_major": 2,
       "version_minor": 0
      },
      "text/plain": [
       "  0%|          | 0/1 [00:00<?, ?it/s]"
      ]
     },
     "metadata": {},
     "output_type": "display_data"
    },
    {
     "data": {
      "application/vnd.jupyter.widget-view+json": {
       "model_id": "fe11dbff282e47ecb04c6efff74b611f",
       "version_major": 2,
       "version_minor": 0
      },
      "text/plain": [
       "  0%|          | 0/1 [00:00<?, ?it/s]"
      ]
     },
     "metadata": {},
     "output_type": "display_data"
    },
    {
     "data": {
      "application/vnd.jupyter.widget-view+json": {
       "model_id": "5bd408cfe5bb4ad988a53fb7b73fb844",
       "version_major": 2,
       "version_minor": 0
      },
      "text/plain": [
       "  0%|          | 0/1 [00:00<?, ?it/s]"
      ]
     },
     "metadata": {},
     "output_type": "display_data"
    },
    {
     "data": {
      "application/vnd.jupyter.widget-view+json": {
       "model_id": "042644f2abbf4422b62ddb1e05b74685",
       "version_major": 2,
       "version_minor": 0
      },
      "text/plain": [
       "  0%|          | 0/1 [00:00<?, ?it/s]"
      ]
     },
     "metadata": {},
     "output_type": "display_data"
    },
    {
     "data": {
      "application/vnd.jupyter.widget-view+json": {
       "model_id": "191e310ff0e2438d883f58a80775681d",
       "version_major": 2,
       "version_minor": 0
      },
      "text/plain": [
       "  0%|          | 0/1 [00:00<?, ?it/s]"
      ]
     },
     "metadata": {},
     "output_type": "display_data"
    },
    {
     "data": {
      "application/vnd.jupyter.widget-view+json": {
       "model_id": "6322e01b59184c28aa9f0637862f2b67",
       "version_major": 2,
       "version_minor": 0
      },
      "text/plain": [
       "  0%|          | 0/1 [00:00<?, ?it/s]"
      ]
     },
     "metadata": {},
     "output_type": "display_data"
    },
    {
     "data": {
      "application/vnd.jupyter.widget-view+json": {
       "model_id": "5a6ada6a285c4d6483f1171448f10f9e",
       "version_major": 2,
       "version_minor": 0
      },
      "text/plain": [
       "  0%|          | 0/1 [00:00<?, ?it/s]"
      ]
     },
     "metadata": {},
     "output_type": "display_data"
    },
    {
     "data": {
      "application/vnd.jupyter.widget-view+json": {
       "model_id": "7f2e71e2dbbb4ab6ae40638b0e16f78b",
       "version_major": 2,
       "version_minor": 0
      },
      "text/plain": [
       "  0%|          | 0/1 [00:00<?, ?it/s]"
      ]
     },
     "metadata": {},
     "output_type": "display_data"
    },
    {
     "data": {
      "application/vnd.jupyter.widget-view+json": {
       "model_id": "fd7433c4639a4fd0a1d6073db3368c74",
       "version_major": 2,
       "version_minor": 0
      },
      "text/plain": [
       "  0%|          | 0/1 [00:00<?, ?it/s]"
      ]
     },
     "metadata": {},
     "output_type": "display_data"
    },
    {
     "data": {
      "application/vnd.jupyter.widget-view+json": {
       "model_id": "e92ce6581b1940dba21de3523cbb3931",
       "version_major": 2,
       "version_minor": 0
      },
      "text/plain": [
       "  0%|          | 0/1 [00:00<?, ?it/s]"
      ]
     },
     "metadata": {},
     "output_type": "display_data"
    },
    {
     "data": {
      "application/vnd.jupyter.widget-view+json": {
       "model_id": "a7c697c7777f48b79dde1719bbfa4def",
       "version_major": 2,
       "version_minor": 0
      },
      "text/plain": [
       "  0%|          | 0/1 [00:00<?, ?it/s]"
      ]
     },
     "metadata": {},
     "output_type": "display_data"
    },
    {
     "data": {
      "application/vnd.jupyter.widget-view+json": {
       "model_id": "9085d45d5d214d1fafcd17562ad8e0af",
       "version_major": 2,
       "version_minor": 0
      },
      "text/plain": [
       "  0%|          | 0/1 [00:00<?, ?it/s]"
      ]
     },
     "metadata": {},
     "output_type": "display_data"
    },
    {
     "data": {
      "application/vnd.jupyter.widget-view+json": {
       "model_id": "e21dba454e2c40168b08a608153ef101",
       "version_major": 2,
       "version_minor": 0
      },
      "text/plain": [
       "  0%|          | 0/1 [00:00<?, ?it/s]"
      ]
     },
     "metadata": {},
     "output_type": "display_data"
    },
    {
     "data": {
      "application/vnd.jupyter.widget-view+json": {
       "model_id": "59c689429d90473cb7985871868edf24",
       "version_major": 2,
       "version_minor": 0
      },
      "text/plain": [
       "  0%|          | 0/1 [00:00<?, ?it/s]"
      ]
     },
     "metadata": {},
     "output_type": "display_data"
    },
    {
     "data": {
      "application/vnd.jupyter.widget-view+json": {
       "model_id": "ab3ffa6a7e424be897f4465e426fb483",
       "version_major": 2,
       "version_minor": 0
      },
      "text/plain": [
       "  0%|          | 0/1 [00:00<?, ?it/s]"
      ]
     },
     "metadata": {},
     "output_type": "display_data"
    },
    {
     "data": {
      "application/vnd.jupyter.widget-view+json": {
       "model_id": "d94e993817674d63a007af2ef07e9b45",
       "version_major": 2,
       "version_minor": 0
      },
      "text/plain": [
       "  0%|          | 0/1 [00:00<?, ?it/s]"
      ]
     },
     "metadata": {},
     "output_type": "display_data"
    }
   ],
   "source": [
    "tx = optax.adam(1e-5)\n",
    "optimizer = nnx.Optimizer(model, tx)\n",
    "for i in tqdm(range(10000)):\n",
    "    if i % 500 == 0:\n",
    "        norm, W = get_norm_W(tt)\n",
    "        concat_basis = get_concat_basis(x_samples, model)\n",
    "        sweep(\n",
    "            tt=tt,\n",
    "            basis=concat_basis,\n",
    "            y=concat_y,\n",
    "            nsweeps=1,\n",
    "            maxdim=2,\n",
    "            opt_maxiter=200,\n",
    "            # optax_solver=optax.adam(1.e-04),\n",
    "            use_CG=True,\n",
    "            onedot=True,\n",
    "            auto_onedot=False,\n",
    "        )\n",
    "        norm, W = get_norm_W(tt)\n",
    "    loss = train_step(\n",
    "        model, optimizer, x_samples, y_samples, f_samples, W, norm\n",
    "    )\n",
    "    losses.append(loss)"
   ]
  },
  {
   "cell_type": "code",
   "execution_count": 34,
   "id": "e31b40c0-d3b7-4069-9607-1e7cf1420c37",
   "metadata": {},
   "outputs": [
    {
     "data": {
      "image/png": "[encoded data removed]",
      "text/plain": [
       "<Figure size 640x480 with 1 Axes>"
      ]
     },
     "metadata": {},
     "output_type": "display_data"
    }
   ],
   "source": [
    "show_trace(losses)"
   ]
  },
  {
   "cell_type": "code",
   "execution_count": 35,
   "id": "831a2357-bf88-4506-b732-494f9e29bfd3",
   "metadata": {},
   "outputs": [
    {
     "data": {
      "image/png": "[encoded data removed]",
      "text/plain": [
       "<Figure size 640x480 with 1 Axes>"
      ]
     },
     "metadata": {},
     "output_type": "display_data"
    }
   ],
   "source": [
    "show_basis(model, tt)"
   ]
  },
  {
   "cell_type": "markdown",
   "id": "5c96a594-cba7-4696-b42e-86fd2d99c661",
   "metadata": {},
   "source": [
    "## Access optimized tensor train cores"
   ]
  },
  {
   "cell_type": "code",
   "execution_count": 36,
   "id": "5690e0ac-ea22-4663-aa50-2ec0b26f5277",
   "metadata": {},
   "outputs": [
    {
     "name": "stdout",
     "output_type": "stream",
     "text": [
      "0 Core(shape=(1, 2, 2), leg_names=('β0', 'i1', 'β1'), dtype=float64)\n",
      "[[[-0.23738906 -0.24130501]\n",
      "  [-0.93898443  0.06104555]]]\n",
      "1 Core(shape=(2, 2, 2), leg_names=('β1', 'i2', 'β2'), dtype=float64)\n",
      "[[[-0.58550331  0.05419654]\n",
      "  [ 0.80821735  0.03214547]]\n",
      "\n",
      " [[-0.8099358  -0.07141367]\n",
      "  [-0.57994308 -0.05069637]]]\n",
      "2 Core(shape=(2, 2, 1), leg_names=('β2', 'i3', 'β3'), dtype=float64)\n",
      "[[[-0.99307731]\n",
      "  [ 0.11746261]]\n",
      "\n",
      " [[ 0.11746261]\n",
      "  [ 0.99307731]]]\n"
     ]
    }
   ],
   "source": [
    "for i, core in enumerate(tt):\n",
    "    print(i, core)\n",
    "    print(core.data)"
   ]
  }
 ],
 "metadata": {
  "kernelspec": {
   "display_name": "Python 3 (ipykernel)",
   "language": "python",
   "name": "python3"
  },
  "language_info": {
   "codemirror_mode": {
    "name": "ipython",
    "version": 3
   },
   "file_extension": ".py",
   "mimetype": "text/x-python",
   "name": "python",
   "nbconvert_exporter": "python",
   "pygments_lexer": "ipython3",
   "version": "3.12.2"
  }
 },
 "nbformat": 4,
 "nbformat_minor": 5
}
