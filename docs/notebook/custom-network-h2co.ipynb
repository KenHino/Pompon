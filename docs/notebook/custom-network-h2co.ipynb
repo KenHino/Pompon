{
 "cells": [
  {
   "cell_type": "markdown",
   "id": "02cf76c8-dbee-4a74-815c-fbb990cd111d",
   "metadata": {},
   "source": [
    "# Custom neural network combined with tensor train\n",
    "\n",
    "Let's hacking `Pompon`!\n",
    "\n",
    "One will use tensor train implementaion in `Pompon` and customized neural network build by [Flax](https://flax.readthedocs.io/en/latest/)\n",
    "\n",
    "![](assets/pompon-flax.png)"
   ]
  },
  {
   "cell_type": "markdown",
   "id": "03d2c48b-e550-4ef8-a79c-7f20f81ae562",
   "metadata": {},
   "source": [
    "Before start, install `Flax`.\n",
    "In this example, we will follow [`flax.nnx`](https://flax-nnx.readthedocs.io/en/latest/) API rather than [`flax.linen`](https://flax-linen.readthedocs.io/en/latest/) API."
   ]
  },
  {
   "cell_type": "code",
   "execution_count": 1,
   "id": "b07d0cfd-e1d8-4bc8-a5af-306ba6350ecc",
   "metadata": {},
   "outputs": [],
   "source": [
    "try:\n",
    "    from flax import nnx\n",
    "except ModuleNotFoundError:\n",
    "    !uv pip install --quiet flax"
   ]
  },
  {
   "cell_type": "markdown",
   "id": "ec9dd3cd-16d5-413b-a854-e31cf0784451",
   "metadata": {},
   "source": [
    "## Import modules"
   ]
  },
  {
   "cell_type": "code",
   "execution_count": 2,
   "id": "4e8073cb-764a-4e2c-8659-9e7ddfe571c2",
   "metadata": {},
   "outputs": [],
   "source": [
    "from functools import partial\n",
    "\n",
    "import jax\n",
    "import jax.numpy as jnp\n",
    "import matplotlib.pyplot as plt\n",
    "import numpy as np\n",
    "import optax\n",
    "from tqdm.auto import tqdm\n",
    "\n",
    "from pompon import DTYPE\n",
    "from pompon._jittables import _forward_basis2y\n",
    "from pompon.layers.tt import TensorTrain\n",
    "from pompon.optimizer.sweeper import sweep"
   ]
  },
  {
   "cell_type": "code",
   "execution_count": 3,
   "id": "3c0115ca-8e51-47ba-a7b4-f69ec5dcfb05",
   "metadata": {},
   "outputs": [
    {
     "name": "stdout",
     "output_type": "stream",
     "text": [
      "[23.44059217 20.32924692 18.231819   14.57556216 11.2422871  11.1158607 ]\n"
     ]
    }
   ],
   "source": [
    "x_train = jnp.array(np.load('data/x_train.npy'))\n",
    "y_train = jnp.array(np.load('data/y_train.npy'))\n",
    "f_train = jnp.array(np.load('data/f_train.npy'))\n",
    "\n",
    "x_valid = jnp.array(np.load('data/x_validation.npy'))\n",
    "y_valid = jnp.array(np.load('data/y_validation.npy'))\n",
    "f_valid = jnp.array(np.load('data/f_validation.npy'))\n",
    "\n",
    "x_test = np.load('data/x_test.npy')\n",
    "y_test = np.load('data/y_test.npy')\n",
    "f_test = np.load('data/f_test.npy')\n",
    "\n",
    "x_scale = x_train.std(axis=0)\n",
    "print(x_scale)"
   ]
  },
  {
   "cell_type": "markdown",
   "id": "d2c2e696-7b51-41da-bddd-7ab0150a0b66",
   "metadata": {},
   "source": [
    "## Define Custom Network"
   ]
  },
  {
   "cell_type": "markdown",
   "id": "41d8460a-1076-4682-afd9-6f4f8f3a9097",
   "metadata": {},
   "source": [
    "### Define Basis function\n",
    "\n",
    "Define network like this;\n",
    "\n",
    "![](assets/nn-basis.png)\n",
    "\n",
    "where $\\phi_{\\rho_i}(x_i): \\mathbb{R}\\to\\mathbb{R}^d$ and $d$ is a number of basis (`chunk_size`)."
   ]
  },
  {
   "cell_type": "code",
   "execution_count": 4,
   "id": "db34c4ab-20d4-4c7f-aa7e-66e0c06af02f",
   "metadata": {},
   "outputs": [],
   "source": [
    "class CustomBasis(nnx.Module):\n",
    "    \"\"\"\n",
    "    Args:\n",
    "        num_chunks (int): degree of freedoms n\n",
    "        hidden_size (int): hidden layer size\n",
    "        chunk_size (int): number of basis for each mode\n",
    "        n_layers (int): number of hidden layers\n",
    "        rngs (nnx.Rngs): random generator\n",
    "\n",
    "    \"\"\"\n",
    "\n",
    "    def __init__(\n",
    "        self,\n",
    "        num_chunks: int,\n",
    "        hidden_size: int,\n",
    "        chunk_size: int,\n",
    "        n_layers: int,\n",
    "        x_scale: jax.Array,\n",
    "        rngs: nnx.Rngs,\n",
    "    ):\n",
    "        self.num_chunks = num_chunks\n",
    "        self.hidden_size = hidden_size\n",
    "        self.chunk_size = chunk_size\n",
    "        self.n_layers = n_layers\n",
    "        self.x_scale = x_scale\n",
    "        assert x_scale.shape == (num_chunks,)\n",
    "        initializer = jax.nn.initializers.glorot_uniform()\n",
    "        \n",
    "        self.w_ini = nnx.Param(\n",
    "            initializer(\n",
    "                rngs.params(),\n",
    "                (self.num_chunks, self.hidden_size),\n",
    "                dtype=DTYPE,\n",
    "            )\n",
    "        )\n",
    "        self.b_ini = nnx.Param(\n",
    "            jnp.zeros((self.num_chunks, self.hidden_size), dtype=DTYPE)\n",
    "        )\n",
    "\n",
    "        self.w_mid = []\n",
    "        self.b_mid = []\n",
    "        for _ in range(n_layers):\n",
    "            self.w_mid.append(\n",
    "                nnx.Param(\n",
    "                    initializer(\n",
    "                        rngs.params(),\n",
    "                        (self.hidden_size, self.hidden_size),\n",
    "                        dtype=DTYPE,\n",
    "                    )\n",
    "                )\n",
    "            )\n",
    "            self.b_mid.append(\n",
    "                nnx.Param(\n",
    "                    jnp.zeros((self.num_chunks, self.hidden_size), dtype=DTYPE)\n",
    "                )\n",
    "            )\n",
    "        self.w_fin = nnx.Param(\n",
    "            initializer(\n",
    "                rngs.params(),\n",
    "                (self.hidden_size, self.chunk_size),\n",
    "                dtype=DTYPE,\n",
    "            )\n",
    "        )\n",
    "        self.b_fin = nnx.Param(\n",
    "            jnp.zeros((self.num_chunks, self.chunk_size), dtype=DTYPE)\n",
    "        )\n",
    "        self.dropout = nnx.Dropout(0.9, rngs=rngs)\n",
    "\n",
    "    def __call__(self, x: jax.Array, i: int | None = None) -> list[jax.Array]:\n",
    "        r\"\"\"\n",
    "        Args:\n",
    "            x (jax.Array): input position with shape (batch_size, DOFs)\n",
    "            i (int, optional): If you need only i-th basis $\\phi_{\\rho_i}$, \n",
    "                set this integer.\n",
    "\n",
    "        Returns:\n",
    "            list[jax.Array]: list of $\\phi_{\\rho_i}$ with length `num_chunks`.\n",
    "                Each basis has shape `(chunk_size,)`.\n",
    "        \"\"\"\n",
    "        if i is None:\n",
    "            index: slice = slice(0, x.shape[1])\n",
    "        else:\n",
    "            index: slice = slice(i, i + 1)\n",
    "            if x.ndim == 1:\n",
    "                x = x[:, jnp.newaxis]  # batch, 1\n",
    "            elif x.ndim == 2:\n",
    "                assert x.shape[1] == 1\n",
    "            else:\n",
    "                raise ValueError(f\"{x.ndim=} is invalid\")\n",
    "        ndim = x.shape[1]\n",
    "\n",
    "        x = x / self.x_scale[jnp.newaxis, index]\n",
    "\n",
    "        x = (\n",
    "            self.w_ini[jnp.newaxis, index, :] * x[:, :, jnp.newaxis]\n",
    "        )  # batch, num_chunks, hidden_size\n",
    "        x = x + self.b_ini[jnp.newaxis, index, :]\n",
    "        x = nnx.swish(x)\n",
    "\n",
    "        for i in range(self.n_layers):\n",
    "            res = x\n",
    "            x = x @ self.w_mid[i]  # batch, num_chunks, hidden_size\n",
    "            x = x + self.b_mid[i][jnp.newaxis, index, :]\n",
    "            x = nnx.swish(x) + res\n",
    "\n",
    "        x = x @ self.w_fin  # batch, num_chunks, chunk_size\n",
    "        x = x + self.b_fin[jnp.newaxis, index, :]\n",
    "        x = nnx.swish(x)\n",
    "        #x = (1.0 - jnp.exp(-x))**2 # morse\n",
    "\n",
    "        phi_chunked_array = jnp.split(x, ndim, axis=1)\n",
    "        phi_chunked_list = [item.squeeze(1) for item in phi_chunked_array]\n",
    "\n",
    "        return phi_chunked_list"
   ]
  },
  {
   "cell_type": "markdown",
   "id": "833ed24c-8697-47b0-9474-22638e7cbf97",
   "metadata": {},
   "source": [
    "### Define Custom Model including the Custom Basis"
   ]
  },
  {
   "cell_type": "code",
   "execution_count": 5,
   "id": "b51254dc-d807-4ea4-8d7c-fa122d21c19d",
   "metadata": {},
   "outputs": [
    {
     "name": "stdout",
     "output_type": "stream",
     "text": [
      "CustomModel(\n",
      "  num_chunks=6,\n",
      "  hidden_size=16,\n",
      "  chunk_size=8,\n",
      "  n_layers=8,\n",
      "  basis=CustomBasis(\n",
      "    num_chunks=6,\n",
      "    hidden_size=16,\n",
      "    chunk_size=8,\n",
      "    n_layers=8,\n",
      "    x_scale=Array(shape=(6,), dtype=float64),\n",
      "    w_ini=Param(\n",
      "      value=Array(shape=(6, 16), dtype=float64)\n",
      "    ),\n",
      "    b_ini=Param(\n",
      "      value=Array(shape=(6, 16), dtype=float64)\n",
      "    ),\n",
      "    w_mid=[Param(\n",
      "      value=Array(shape=(16, 16), dtype=float64)\n",
      "    ), Param(\n",
      "      value=Array(shape=(16, 16), dtype=float64)\n",
      "    ), Param(\n",
      "      value=Array(shape=(16, 16), dtype=float64)\n",
      "    ), Param(\n",
      "      value=Array(shape=(16, 16), dtype=float64)\n",
      "    ), Param(\n",
      "      value=Array(shape=(16, 16), dtype=float64)\n",
      "    ), Param(\n",
      "      value=Array(shape=(16, 16), dtype=float64)\n",
      "    ), Param(\n",
      "      value=Array(shape=(16, 16), dtype=float64)\n",
      "    ), Param(\n",
      "      value=Array(shape=(16, 16), dtype=float64)\n",
      "    )],\n",
      "    b_mid=[Param(\n",
      "      value=Array(shape=(6, 16), dtype=float64)\n",
      "    ), Param(\n",
      "      value=Array(shape=(6, 16), dtype=float64)\n",
      "    ), Param(\n",
      "      value=Array(shape=(6, 16), dtype=float64)\n",
      "    ), Param(\n",
      "      value=Array(shape=(6, 16), dtype=float64)\n",
      "    ), Param(\n",
      "      value=Array(shape=(6, 16), dtype=float64)\n",
      "    ), Param(\n",
      "      value=Array(shape=(6, 16), dtype=float64)\n",
      "    ), Param(\n",
      "      value=Array(shape=(6, 16), dtype=float64)\n",
      "    ), Param(\n",
      "      value=Array(shape=(6, 16), dtype=float64)\n",
      "    )],\n",
      "    w_fin=Param(\n",
      "      value=Array(shape=(16, 8), dtype=float64)\n",
      "    ),\n",
      "    b_fin=Param(\n",
      "      value=Array(shape=(6, 8), dtype=float64)\n",
      "    ),\n",
      "    dropout=Dropout(rate=0.9, broadcast_dims=(), deterministic=False, rng_collection='dropout', rngs=Rngs(\n",
      "      default=RngStream(\n",
      "        key=RngKey(\n",
      "          value=Array((), dtype=key<fry>) overlaying:\n",
      "          [0 0],\n",
      "          tag='default'\n",
      "        ),\n",
      "        count=RngCount(\n",
      "          value=Array(10, dtype=uint32),\n",
      "          tag='default'\n",
      "        )\n",
      "      )\n",
      "    ))\n",
      "  )\n",
      ")\n"
     ]
    }
   ],
   "source": [
    "class CustomModel(nnx.Module):\n",
    "    \"\"\"\n",
    "    Args:\n",
    "        num_chunks (int): degree of freedoms n\n",
    "        hidden_size (int): hidden layer size\n",
    "        chunk_size (int): number of basis for each mode\n",
    "        n_layers (int): number of hidden layers\n",
    "        rngs (nnx.Rngs): random generator\n",
    "\n",
    "    \"\"\"\n",
    "\n",
    "    def __init__(\n",
    "        self,\n",
    "        num_chunks: int,\n",
    "        hidden_size: int,\n",
    "        chunk_size: int,\n",
    "        n_layers: int,\n",
    "        x_scale: jax.Array,\n",
    "        rngs: nnx.Rngs,\n",
    "    ):\n",
    "        self.num_chunks = num_chunks\n",
    "        self.hidden_size = hidden_size\n",
    "        self.chunk_size = chunk_size\n",
    "        self.n_layers = n_layers\n",
    "\n",
    "        self.basis = CustomBasis(\n",
    "            num_chunks=self.num_chunks,\n",
    "            hidden_size=self.hidden_size,\n",
    "            chunk_size=self.chunk_size,\n",
    "            n_layers=self.n_layers,\n",
    "            x_scale=x_scale,\n",
    "            rngs=rngs,\n",
    "        )\n",
    "\n",
    "    def __call__(self, x: jax.Array, W: list[jax.Array], norm: jax.Array):\n",
    "        \"\"\"\n",
    "        Args:\n",
    "            x (jax.Array): input position with shape (batch_size, DOFs)\n",
    "            W (list[jax.Array]): list of tensor train core. \n",
    "                Each core has shape (bond_dim1, chunk_size, bond_dim2).\n",
    "            norm (jax.Array): Scalar which scales outputs.\n",
    "        \"\"\"\n",
    "        basis = self.basis(x)\n",
    "        return _forward_basis2y(basis=basis, W=W, norm=norm)\n",
    "\n",
    "\n",
    "model = CustomModel(\n",
    "    num_chunks=6, hidden_size=16, chunk_size=8, n_layers=8, x_scale=x_scale, rngs=nnx.Rngs(0)\n",
    ")\n",
    "nnx.display(model)"
   ]
  },
  {
   "cell_type": "markdown",
   "id": "55377089-54aa-4e02-9514-beffa7f4d53b",
   "metadata": {},
   "source": [
    "### Extract required arguments from TensorTrain modules"
   ]
  },
  {
   "cell_type": "code",
   "execution_count": 6,
   "id": "3626b5e5-734b-49b2-82a6-97de35d42561",
   "metadata": {},
   "outputs": [],
   "source": [
    "def get_norm_W(tt: TensorTrain) -> tuple[jax.Array, list[jax.Array]]:\n",
    "    \"\"\"\n",
    "    Get norm & tt-cores.\n",
    "    \"\"\"\n",
    "    W = [getattr(tt, f\"W{i}\").data for i in range(len(tt))]\n",
    "    norm = tt.norm.data\n",
    "    return norm, W"
   ]
  },
  {
   "cell_type": "markdown",
   "id": "d004d38d-aa2b-4b4f-a4d1-392dfdb737fb",
   "metadata": {},
   "source": [
    "Initialize tensor train.\n",
    "\n",
    "See also [pompon.layers.tt.TensorTrain](../reference/layers.tt.TensorTrain.qmd)."
   ]
  },
  {
   "cell_type": "code",
   "execution_count": 7,
   "id": "20b4597d-3453-418b-a0e7-833ba27dc261",
   "metadata": {},
   "outputs": [],
   "source": [
    "tt = TensorTrain.set_random(\n",
    "    shape=(model.chunk_size,) * model.num_chunks, rank=4\n",
    ")"
   ]
  },
  {
   "cell_type": "markdown",
   "id": "591ac400-336e-4a1f-bb59-43ade188777c",
   "metadata": {},
   "source": [
    "## Train with energy"
   ]
  },
  {
   "cell_type": "code",
   "execution_count": 8,
   "id": "aad7c9d4-daa6-4e24-a514-692de5677600",
   "metadata": {},
   "outputs": [
    {
     "data": {
      "image/png": "[encoded data removed]",
      "text/plain": [
       "<Figure size 640x480 with 1 Axes>"
      ]
     },
     "metadata": {},
     "output_type": "display_data"
    }
   ],
   "source": [
    "def show_basis(model, tt):\n",
    "    x0 = np.linspace(-x_scale[0], x_scale[0], 100)\n",
    "    x = np.zeros((100, model.num_chunks))\n",
    "    x[:, 0] = x0\n",
    "    basis = model.basis(jnp.array(x))\n",
    "    for i in range(model.chunk_size):\n",
    "        plt.plot(x0, np.array(basis[0][:, i]), label=f\"basis-{i}\")\n",
    "    norm, W = get_norm_W(tt)\n",
    "    y = model(jnp.array(x), W, norm)\n",
    "    plt.plot(x0, np.array(y.squeeze(1)), label=\"prediciton\")\n",
    "    plt.legend()\n",
    "    plt.xlabel(\"$x_1$\")\n",
    "    plt.ylabel(\"Energy\")\n",
    "    plt.show()\n",
    "\n",
    "show_basis(model, tt)"
   ]
  },
  {
   "cell_type": "markdown",
   "id": "0251a078-5582-4b7b-8a4e-119880e917ea",
   "metadata": {},
   "source": [
    "### Show training trace"
   ]
  },
  {
   "cell_type": "code",
   "execution_count": 9,
   "id": "09f0a787-4d20-400c-9958-3ab931187464",
   "metadata": {},
   "outputs": [],
   "source": [
    "def show_trace(losses_train, losses_valid):\n",
    "    plt.plot(losses_train, label='train')\n",
    "    plt.plot(losses_valid, label='valid')\n",
    "    plt.xlabel(\"iteration\")\n",
    "    plt.ylabel(\"loss\")\n",
    "    plt.yscale(\"log\")\n",
    "    plt.legend()\n",
    "    plt.show()\n",
    "losses_train = []\n",
    "losses_valid = []"
   ]
  },
  {
   "cell_type": "markdown",
   "id": "329ebb97-7da9-4029-8afe-0d2da9714498",
   "metadata": {},
   "source": [
    "### Train tensor train with fixed basis\n",
    "\n",
    "See also [pompon.optimizer.sweeper.sweep](../reference/optimizer.sweeper.sweep.qmd)."
   ]
  },
  {
   "cell_type": "code",
   "execution_count": 10,
   "id": "927da322-67eb-48f3-9c54-252875adea8e",
   "metadata": {},
   "outputs": [
    {
     "data": {
      "text/plain": [
       "\u001b[0;31mSignature:\u001b[0m\n",
       "\u001b[0msweep\u001b[0m\u001b[0;34m(\u001b[0m\u001b[0;34m\u001b[0m\n",
       "\u001b[0;34m\u001b[0m    \u001b[0;34m*\u001b[0m\u001b[0;34m,\u001b[0m\u001b[0;34m\u001b[0m\n",
       "\u001b[0;34m\u001b[0m    \u001b[0mtt\u001b[0m\u001b[0;34m:\u001b[0m \u001b[0mpompon\u001b[0m\u001b[0;34m.\u001b[0m\u001b[0mlayers\u001b[0m\u001b[0;34m.\u001b[0m\u001b[0mtt\u001b[0m\u001b[0;34m.\u001b[0m\u001b[0mTensorTrain\u001b[0m\u001b[0;34m,\u001b[0m\u001b[0;34m\u001b[0m\n",
       "\u001b[0;34m\u001b[0m    \u001b[0mbasis\u001b[0m\u001b[0;34m:\u001b[0m \u001b[0mlist\u001b[0m\u001b[0;34m[\u001b[0m\u001b[0mjax\u001b[0m\u001b[0;34m.\u001b[0m\u001b[0mArray\u001b[0m\u001b[0;34m]\u001b[0m\u001b[0;34m,\u001b[0m\u001b[0;34m\u001b[0m\n",
       "\u001b[0;34m\u001b[0m    \u001b[0my\u001b[0m\u001b[0;34m:\u001b[0m \u001b[0mjax\u001b[0m\u001b[0;34m.\u001b[0m\u001b[0mArray\u001b[0m\u001b[0;34m,\u001b[0m\u001b[0;34m\u001b[0m\n",
       "\u001b[0;34m\u001b[0m    \u001b[0mnsweeps\u001b[0m\u001b[0;34m:\u001b[0m \u001b[0mint\u001b[0m \u001b[0;34m=\u001b[0m \u001b[0;36m2\u001b[0m\u001b[0;34m,\u001b[0m\u001b[0;34m\u001b[0m\n",
       "\u001b[0;34m\u001b[0m    \u001b[0mmaxdim\u001b[0m\u001b[0;34m:\u001b[0m \u001b[0mint\u001b[0m \u001b[0;34m|\u001b[0m \u001b[0mlist\u001b[0m\u001b[0;34m[\u001b[0m\u001b[0mint\u001b[0m\u001b[0;34m]\u001b[0m \u001b[0;34m|\u001b[0m \u001b[0mnumpy\u001b[0m\u001b[0;34m.\u001b[0m\u001b[0mndarray\u001b[0m \u001b[0;34m=\u001b[0m \u001b[0;36m30\u001b[0m\u001b[0;34m,\u001b[0m\u001b[0;34m\u001b[0m\n",
       "\u001b[0;34m\u001b[0m    \u001b[0mcutoff\u001b[0m\u001b[0;34m:\u001b[0m \u001b[0mfloat\u001b[0m \u001b[0;34m|\u001b[0m \u001b[0mlist\u001b[0m\u001b[0;34m[\u001b[0m\u001b[0mfloat\u001b[0m\u001b[0;34m]\u001b[0m \u001b[0;34m|\u001b[0m \u001b[0mnumpy\u001b[0m\u001b[0;34m.\u001b[0m\u001b[0mndarray\u001b[0m \u001b[0;34m=\u001b[0m \u001b[0;36m0.01\u001b[0m\u001b[0;34m,\u001b[0m\u001b[0;34m\u001b[0m\n",
       "\u001b[0;34m\u001b[0m    \u001b[0moptax_solver\u001b[0m\u001b[0;34m:\u001b[0m \u001b[0moptax\u001b[0m\u001b[0;34m.\u001b[0m\u001b[0m_src\u001b[0m\u001b[0;34m.\u001b[0m\u001b[0mbase\u001b[0m\u001b[0;34m.\u001b[0m\u001b[0mGradientTransformation\u001b[0m \u001b[0;34m|\u001b[0m \u001b[0;32mNone\u001b[0m \u001b[0;34m=\u001b[0m \u001b[0;32mNone\u001b[0m\u001b[0;34m,\u001b[0m\u001b[0;34m\u001b[0m\n",
       "\u001b[0;34m\u001b[0m    \u001b[0mopt_maxiter\u001b[0m\u001b[0;34m:\u001b[0m \u001b[0mint\u001b[0m \u001b[0;34m=\u001b[0m \u001b[0;36m1000\u001b[0m\u001b[0;34m,\u001b[0m\u001b[0;34m\u001b[0m\n",
       "\u001b[0;34m\u001b[0m    \u001b[0mopt_tol\u001b[0m\u001b[0;34m:\u001b[0m \u001b[0mfloat\u001b[0m \u001b[0;34m|\u001b[0m \u001b[0mlist\u001b[0m\u001b[0;34m[\u001b[0m\u001b[0mfloat\u001b[0m\u001b[0;34m]\u001b[0m \u001b[0;34m|\u001b[0m \u001b[0mnumpy\u001b[0m\u001b[0;34m.\u001b[0m\u001b[0mndarray\u001b[0m \u001b[0;34m|\u001b[0m \u001b[0;32mNone\u001b[0m \u001b[0;34m=\u001b[0m \u001b[0;32mNone\u001b[0m\u001b[0;34m,\u001b[0m\u001b[0;34m\u001b[0m\n",
       "\u001b[0;34m\u001b[0m    \u001b[0mopt_lambda\u001b[0m\u001b[0;34m:\u001b[0m \u001b[0mfloat\u001b[0m \u001b[0;34m=\u001b[0m \u001b[0;36m0.0\u001b[0m\u001b[0;34m,\u001b[0m\u001b[0;34m\u001b[0m\n",
       "\u001b[0;34m\u001b[0m    \u001b[0monedot\u001b[0m\u001b[0;34m:\u001b[0m \u001b[0mbool\u001b[0m \u001b[0;34m=\u001b[0m \u001b[0;32mFalse\u001b[0m\u001b[0;34m,\u001b[0m\u001b[0;34m\u001b[0m\n",
       "\u001b[0;34m\u001b[0m    \u001b[0muse_CG\u001b[0m\u001b[0;34m:\u001b[0m \u001b[0mbool\u001b[0m \u001b[0;34m=\u001b[0m \u001b[0;32mFalse\u001b[0m\u001b[0;34m,\u001b[0m\u001b[0;34m\u001b[0m\n",
       "\u001b[0;34m\u001b[0m    \u001b[0muse_scipy\u001b[0m\u001b[0;34m:\u001b[0m \u001b[0mbool\u001b[0m \u001b[0;34m=\u001b[0m \u001b[0;32mFalse\u001b[0m\u001b[0;34m,\u001b[0m\u001b[0;34m\u001b[0m\n",
       "\u001b[0;34m\u001b[0m    \u001b[0muse_jax_scipy\u001b[0m\u001b[0;34m:\u001b[0m \u001b[0mbool\u001b[0m \u001b[0;34m=\u001b[0m \u001b[0;32mFalse\u001b[0m\u001b[0;34m,\u001b[0m\u001b[0;34m\u001b[0m\n",
       "\u001b[0;34m\u001b[0m    \u001b[0mmethod\u001b[0m\u001b[0;34m:\u001b[0m \u001b[0mstr\u001b[0m \u001b[0;34m=\u001b[0m \u001b[0;34m'L-BFGS-B'\u001b[0m\u001b[0;34m,\u001b[0m\u001b[0;34m\u001b[0m\n",
       "\u001b[0;34m\u001b[0m    \u001b[0mord\u001b[0m\u001b[0;34m:\u001b[0m \u001b[0mstr\u001b[0m \u001b[0;34m=\u001b[0m \u001b[0;34m'fro'\u001b[0m\u001b[0;34m,\u001b[0m\u001b[0;34m\u001b[0m\n",
       "\u001b[0;34m\u001b[0m    \u001b[0mauto_onedot\u001b[0m\u001b[0;34m:\u001b[0m \u001b[0mbool\u001b[0m \u001b[0;34m=\u001b[0m \u001b[0;32mTrue\u001b[0m\u001b[0;34m,\u001b[0m\u001b[0;34m\u001b[0m\n",
       "\u001b[0;34m\u001b[0m\u001b[0;34m)\u001b[0m\u001b[0;34m\u001b[0m\u001b[0;34m\u001b[0m\u001b[0m\n",
       "\u001b[0;31mDocstring:\u001b[0m\n",
       "Tensor-train sweep optimization\n",
       "\n",
       "Args:\n",
       "    tt (TensorTrain): the tensor-train model.\n",
       "    basis (list[Array]): the basis functions.\n",
       "    y (Array): the target values.\n",
       "    nsweeps (int): The number of sweeps.\n",
       "    maxdim (int, list[int]): the maximum rank of TT-sweep.\n",
       "    cutoff (float, list[float]): the ratio of truncated singular values for TT-sweep.\n",
       "        When one-dot core is optimized, this parameter is not used.\n",
       "    optax_solver (optax.GradientTransformation): the optimizer for TT-sweep.\n",
       "        Defaults to None. If None, the optimizer is not used.\n",
       "    opt_maxiter (int): the maximum number of iterations for TT-sweep.\n",
       "    opt_tol (float, list[float]): the convergence criterion of gradient for TT-sweep.\n",
       "        Defaults to None, i.e., opt_tol = cutoff.\n",
       "    opt_lambda (float): the L2 regularization parameter for TT-sweep.\n",
       "        Only use_CG=True is supported.\n",
       "    onedot (bool, optional): whether to optimize one-dot or two-dot core.\n",
       "        Defaults to False, i.e. two-dot core optimization.\n",
       "    use_CG (bool, optional): whether to use conjugate gradient method for TT-sweep.\n",
       "        Defaults to False. CG is suitable for one-dot core optimization.\n",
       "    use_scipy (bool, optional): whether to use scipy.optimize.minimize for TT-sweep.\n",
       "        Defaults to False and use L-BFGS-B method. GPU is not supported.\n",
       "    use_jax_scipy (bool, optional): whether to use jax.scipy.optimize.minimize for TT-sweep.\n",
       "        Defaults to False. This optimizer is only supports BFGS method, which exhausts GPU memory.\n",
       "    method (str, optional): the optimization method for scipy.optimize.minimize.\n",
       "        Defaults to 'L-BFGS-B'. Note that jax.scipy.optimize.minimize only supports 'BFGS'.\n",
       "    ord (str, optional): the norm for scaling the initial core. Defaults to 'fro'. (Frobenuis norm)\n",
       "        'max` (maximum absolute value), 'fro' (Frobenius norm) are supported.\n",
       "    auto_onedot (bool, optional): whether to switch to one-dot core optimization automatically once             the maximum rank is reached. Defaults to True.\n",
       "        This will cause overfitting in the beginning of the optimization.\n",
       "\u001b[0;31mFile:\u001b[0m      ~/GitHub/Pompon/pompon/optimizer/sweeper.py\n",
       "\u001b[0;31mType:\u001b[0m      function"
      ]
     },
     "metadata": {},
     "output_type": "display_data"
    }
   ],
   "source": [
    "sweep?"
   ]
  },
  {
   "cell_type": "markdown",
   "id": "7b7f358a-1f52-4392-9741-f678641c4135",
   "metadata": {},
   "source": [
    "## Train with forces\n",
    "\n",
    "### Train basis with fixed tensor-train\n",
    "\n",
    "Define function that returns $-\\frac{\\partial V}{\\partial x}$ by auto differentiation"
   ]
  },
  {
   "cell_type": "code",
   "execution_count": 11,
   "id": "e8752c79-e07f-4c76-9172-de3b99631ab2",
   "metadata": {
    "scrolled": true
   },
   "outputs": [],
   "source": [
    "def get_force(x, model, norm, W):\n",
    "    def func(x, model, norm, W):\n",
    "        if x.ndim == 1:\n",
    "            # When no-batch\n",
    "            x = x[jnp.newaxis, :]\n",
    "            return -1.0 * model(x, norm=norm, W=W).squeeze(0)\n",
    "        else:\n",
    "            return -1.0 * model(x, norm=norm, W=W)\n",
    "\n",
    "    ener_fn = partial(func, model=model, norm=norm, W=W)\n",
    "    jacobian = jax.vmap(jax.jacrev(ener_fn))(x)  # (batch, out, in)\n",
    "    return jacobian.squeeze(-2)  # (batch, in)"
   ]
  },
  {
   "cell_type": "markdown",
   "id": "5d99abda-3240-4cba-8320-610abb643cba",
   "metadata": {},
   "source": [
    "Define train_step which has a loss function\n",
    "$$\n",
    "\\mathcal{L} = \\frac{1}{2|\\mathcal{D}|} \\sum_{\\boldsymbol{x}, E, \\boldsymbol{F} \\in \\mathcal{D}} \\left[\\left(\\hat{V}(\\boldsymbol{x})-V\\right)^2 + \\left(\\hat{\\mathbf{F}}(\\boldsymbol{x})-\\mathbf{F}\\right)^2\\right]\n",
    "$$"
   ]
  },
  {
   "cell_type": "code",
   "execution_count": 12,
   "id": "cc905982-8ac2-47c4-937a-0bee1342af94",
   "metadata": {},
   "outputs": [],
   "source": [
    "def loss_fn(model, x, y, f, W, norm):\n",
    "    pred = model(x, W, norm)\n",
    "    loss = jnp.mean((pred - y) ** 2)\n",
    "    pred_force = get_force(x, model, norm, W)\n",
    "    loss += (\n",
    "        jnp.sum((pred_force.flatten() - f.flatten()) ** 2)\n",
    "        / pred_force.shape[0]\n",
    "    )\n",
    "    return loss\n",
    "\n",
    "@nnx.jit\n",
    "def train_step(model, optimizer, x, y, f, W, norm):\n",
    "    loss, grads = nnx.value_and_grad(loss_fn)(model, x, y, f, W, norm)\n",
    "    optimizer.update(grads)\n",
    "    return loss"
   ]
  },
  {
   "cell_type": "markdown",
   "id": "ae89df06-7b29-42ca-8df7-7b9bf5c01a8b",
   "metadata": {},
   "source": [
    "Sample force and energy"
   ]
  },
  {
   "cell_type": "markdown",
   "id": "5d4a6cbf-de1a-40b1-85b0-ac9a501d82a9",
   "metadata": {},
   "source": [
    "Check `train_step` works"
   ]
  },
  {
   "cell_type": "code",
   "execution_count": 13,
   "id": "9302ec8a-9ee2-4eba-ad20-a9973e2a0590",
   "metadata": {},
   "outputs": [
    {
     "data": {
      "text/plain": [
       "Array(0.18589966, dtype=float64)"
      ]
     },
     "execution_count": 13,
     "metadata": {},
     "output_type": "execute_result"
    }
   ],
   "source": [
    "norm, W = get_norm_W(tt)\n",
    "tx = optax.adam(1e-3)\n",
    "optimizer = nnx.Optimizer(model, tx)\n",
    "loss = train_step(model, optimizer, x_train, y_train, f_train, W, norm)\n",
    "loss"
   ]
  },
  {
   "cell_type": "markdown",
   "id": "c3bc1595-9632-4800-a8a7-2e66b3037a12",
   "metadata": {},
   "source": [
    "### Train basis iteratively"
   ]
  },
  {
   "cell_type": "markdown",
   "id": "3dba5c41-091d-4a69-9642-75f803f06a88",
   "metadata": {},
   "source": [
    "### Train tensor train with fixed basis\n",
    "\n",
    "Prepare basis gradient $-\\frac{\\partial \\Phi}{\\partial x_i}$"
   ]
  },
  {
   "cell_type": "code",
   "execution_count": 14,
   "id": "5539cd36-b0ae-484b-a7a0-90e773067b1f",
   "metadata": {
    "scrolled": true
   },
   "outputs": [],
   "source": [
    "def get_partial_basis(x, i, model):\n",
    "    assert x.ndim == 2  # batch, dim\n",
    "    x = x[:, i : i + 1]\n",
    "\n",
    "    def func(x, model):\n",
    "        if x.ndim == 1:\n",
    "            x = x[jnp.newaxis, :]\n",
    "            return -1.0 * model.basis(x, i)[0].squeeze(0)\n",
    "        else:\n",
    "            return -1.0 * model.basis(x, i)[0]\n",
    "\n",
    "    basis_fn = partial(func, model=model)\n",
    "    # since in=1 < out=number of basis, we should use forward differentiation\n",
    "    jacobian = jax.vmap(jax.jacfwd(basis_fn))(x)  # batch, out, in\n",
    "    return jacobian.squeeze(2)  # batch, out"
   ]
  },
  {
   "cell_type": "markdown",
   "id": "6d21a5a2-37d3-4474-9663-d935e046c974",
   "metadata": {},
   "source": [
    "`partial_basis=`\n",
    "$\n",
    "\\left[\n",
    "-\\frac{\\partial \\phi_{\\rho_1}}{\\partial x_1}, -\\frac{\\partial \\phi_{\\rho_2}}{\\partial x_2}, \\cdots, -\\frac{\\partial \\phi_{\\rho_n}}{\\partial x_n}\n",
    "\\right]\n",
    "$"
   ]
  },
  {
   "cell_type": "code",
   "execution_count": 15,
   "id": "4dcaa419-f2a0-4979-8866-d99859752cbc",
   "metadata": {},
   "outputs": [],
   "source": [
    "partial_basis = [\n",
    "    get_partial_basis(x_train, i, model) for i in range(x_train.shape[1])\n",
    "]"
   ]
  },
  {
   "cell_type": "markdown",
   "id": "edd03c7a-d852-4804-bf9d-63005ed907c2",
   "metadata": {},
   "source": [
    "`basis=`\n",
    "$\\left[\\phi_{\\rho_1}, \\phi_{\\rho_2}, \\cdots, \\phi_{\\rho_n} \\right]$"
   ]
  },
  {
   "cell_type": "code",
   "execution_count": 16,
   "id": "7c310283-3e2d-49f5-81ea-f36a9842dc18",
   "metadata": {},
   "outputs": [],
   "source": [
    "basis = model.basis(x_train)"
   ]
  },
  {
   "cell_type": "markdown",
   "id": "7c7edb60-b4f3-4c6d-8064-3d8737587304",
   "metadata": {},
   "source": [
    "`concat_y=`$y_p$\n",
    "where $p=k \\otimes i$\n",
    "$$\n",
    "y_p = y_i^{(k)} = \n",
    "\\begin{cases}\n",
    "\\boldsymbol{F}_i^{(k)} & \\mathrm{for} \\quad i \\leq n \\\\\n",
    "E^{(k)} & \\mathrm{for} \\quad i = n+1\n",
    "\\end{cases}\n",
    "$$"
   ]
  },
  {
   "cell_type": "code",
   "execution_count": 17,
   "id": "a04a06cb-355b-4252-8ac1-b83b25ef00b6",
   "metadata": {},
   "outputs": [
    {
     "name": "stdout",
     "output_type": "stream",
     "text": [
      "(4375, 1)\n"
     ]
    }
   ],
   "source": [
    "concat_y = jnp.vstack(\n",
    "    [f_train[:, i : i + 1] for i in range(len(basis))] + [y_train]\n",
    ")\n",
    "print(concat_y.shape)"
   ]
  },
  {
   "cell_type": "markdown",
   "id": "59a38c7b-9fa9-4c17-a576-4bf8afdf8656",
   "metadata": {},
   "source": [
    "`basis_list=`\n",
    "$$\n",
    "\\begin{bmatrix}\n",
    "[\\partial_{x_1}\\phi_{\\rho_1} & \\phi_{\\rho_2} & \\cdots & \\phi_{\\rho_n} ], \\\\\n",
    "[\\phi_{\\rho_1} & \\partial_{x_2}\\phi_{\\rho_2} & \\cdots & \\phi_{\\rho_n} ], \\\\\n",
    "& & \\vdots & & \\\\\n",
    "[\\phi_{\\rho_1} & \\phi_{\\rho_2} & \\cdots & \\partial_{x_n}\\phi_{\\rho_n} ], \\\\\n",
    "[\\phi_{\\rho_1} & \\phi_{\\rho_2} & \\cdots & \\phi_{\\rho_n} ]\n",
    "\\end{bmatrix}\n",
    "$$\n",
    "\n",
    "\n",
    "`concat_basis=`\n",
    "$\n",
    "\\left[\\varphi_{\\rho_1}, \\varphi_{\\rho_2}, \\cdots, \\varphi_{\\rho_n}\\right]\n",
    "$\n",
    "where\n",
    "$$\n",
    "\\varphi_{\\rho_j}^p = \\varphi_{i, \\rho_i}^{(k)} = \n",
    "\\begin{cases}\n",
    "-\\partial_{x_j}\\phi_{\\rho_j} & \\mathrm{for} \\quad i=j \\\\\n",
    "\\phi_{\\rho_j} & \\mathrm{otherwise}\n",
    "\\end{cases}\n",
    "$$"
   ]
  },
  {
   "cell_type": "code",
   "execution_count": 18,
   "id": "325896c3-e971-4631-96f1-c4d7fc7ec06b",
   "metadata": {},
   "outputs": [
    {
     "name": "stdout",
     "output_type": "stream",
     "text": [
      "(4375, 8)\n"
     ]
    }
   ],
   "source": [
    "def get_concat_basis(x: jax.Array, model: CustomModel) -> list[jax.Array]:\n",
    "    \"\"\"\n",
    "    Args:\n",
    "        x (jax.Array): postions\n",
    "        model (CustomModel): model\n",
    "\n",
    "    Returns:\n",
    "        list[jax.Array]: derivative concatenated basis\n",
    "    \"\"\"\n",
    "    partial_basis = [get_partial_basis(x, i, model) for i in range(x.shape[1])]\n",
    "    basis = model.basis(x)\n",
    "    basis_list = []\n",
    "    for i in range(len(basis)):\n",
    "        basis_row = [\n",
    "            ϕ.copy() if k != i else dϕ.copy()\n",
    "            for k, (ϕ, dϕ) in enumerate(zip(basis, partial_basis, strict=True))\n",
    "        ]\n",
    "        basis_list.append(basis_row)\n",
    "    basis_list.append(basis)\n",
    "    concat_basis = [\n",
    "        jnp.vstack([φ[i] for φ in basis_list]) for i in range(len(basis))\n",
    "    ]\n",
    "    return concat_basis\n",
    "\n",
    "\n",
    "concat_basis = get_concat_basis(x_train, model)\n",
    "print(concat_basis[0].shape)"
   ]
  },
  {
   "cell_type": "markdown",
   "id": "14a5166d-8fcc-433f-af6b-a98dbd7a7199",
   "metadata": {},
   "source": [
    "### Train tensor train with fixed basis\n",
    "\n",
    "Only `basis` & `y` are changed from energy optimization."
   ]
  },
  {
   "cell_type": "code",
   "execution_count": 19,
   "id": "d956a244-003c-46a3-884b-cb0e7b0978b6",
   "metadata": {},
   "outputs": [
    {
     "data": {
      "image/png": "[encoded data removed]",
      "text/plain": [
       "<Figure size 640x480 with 1 Axes>"
      ]
     },
     "metadata": {},
     "output_type": "display_data"
    }
   ],
   "source": [
    "show_basis(model, tt)"
   ]
  },
  {
   "cell_type": "markdown",
   "id": "20b013a7-ab18-4182-b322-ded8898acdcd",
   "metadata": {},
   "source": [
    "### Repeat tensor train optimization & basis optimization"
   ]
  },
  {
   "cell_type": "code",
   "execution_count": 20,
   "id": "17a664c4-8af7-4ae4-81c5-3ba295246e25",
   "metadata": {
    "scrolled": true
   },
   "outputs": [
    {
     "data": {
      "application/vnd.jupyter.widget-view+json": {
       "model_id": "8817eea6008844c79e7b76db58466074",
       "version_major": 2,
       "version_minor": 0
      },
      "text/plain": [
       "  0%|          | 0/1500 [00:00<?, ?it/s]"
      ]
     },
     "metadata": {},
     "output_type": "display_data"
    },
    {
     "data": {
      "application/vnd.jupyter.widget-view+json": {
       "model_id": "601cf61fae014851a0d8aa42e6589a96",
       "version_major": 2,
       "version_minor": 0
      },
      "text/plain": [
       "0it [00:00, ?it/s]"
      ]
     },
     "metadata": {},
     "output_type": "display_data"
    },
    {
     "name": "stderr",
     "output_type": "stream",
     "text": [
      "2024-10-08 19:00:22 - INFO:pompon.optimizer - BEGIN TT-sweep 1/1\n",
      "2024-10-08 19:00:22 - INFO:pompon.optimizer - Maxdim=4, Cutoff=1.00e-03, Opt_tol=1.00e-03, Opt_maxiter=100\n",
      "2024-10-08 19:00:22 - INFO:pompon.optimizer - DONE TT-sweep 1/1\n"
     ]
    },
    {
     "data": {
      "application/vnd.jupyter.widget-view+json": {
       "model_id": "75b266ca2df7465c9bc1ec259994c82d",
       "version_major": 2,
       "version_minor": 0
      },
      "text/plain": [
       "0it [00:00, ?it/s]"
      ]
     },
     "metadata": {},
     "output_type": "display_data"
    },
    {
     "name": "stderr",
     "output_type": "stream",
     "text": [
      "2024-10-08 19:00:27 - INFO:pompon.optimizer - BEGIN TT-sweep 1/1\n",
      "2024-10-08 19:00:27 - INFO:pompon.optimizer - Maxdim=4, Cutoff=1.00e-03, Opt_tol=1.00e-03, Opt_maxiter=100\n",
      "2024-10-08 19:00:27 - INFO:pompon.optimizer - DONE TT-sweep 1/1\n"
     ]
    },
    {
     "data": {
      "application/vnd.jupyter.widget-view+json": {
       "model_id": "58b6fb607b68444b856cbd9f79f61c69",
       "version_major": 2,
       "version_minor": 0
      },
      "text/plain": [
       "0it [00:00, ?it/s]"
      ]
     },
     "metadata": {},
     "output_type": "display_data"
    },
    {
     "name": "stderr",
     "output_type": "stream",
     "text": [
      "2024-10-08 19:00:30 - INFO:pompon.optimizer - BEGIN TT-sweep 1/1\n",
      "2024-10-08 19:00:30 - INFO:pompon.optimizer - Maxdim=4, Cutoff=1.00e-03, Opt_tol=1.00e-03, Opt_maxiter=100\n",
      "2024-10-08 19:00:31 - INFO:pompon.optimizer - DONE TT-sweep 1/1\n"
     ]
    },
    {
     "data": {
      "application/vnd.jupyter.widget-view+json": {
       "model_id": "6d18ea4373c9491ea28abe4de4014ed2",
       "version_major": 2,
       "version_minor": 0
      },
      "text/plain": [
       "0it [00:00, ?it/s]"
      ]
     },
     "metadata": {},
     "output_type": "display_data"
    },
    {
     "name": "stderr",
     "output_type": "stream",
     "text": [
      "2024-10-08 19:00:35 - INFO:pompon.optimizer - BEGIN TT-sweep 1/1\n",
      "2024-10-08 19:00:35 - INFO:pompon.optimizer - Maxdim=4, Cutoff=1.00e-03, Opt_tol=1.00e-03, Opt_maxiter=100\n",
      "2024-10-08 19:00:35 - INFO:pompon.optimizer - DONE TT-sweep 1/1\n"
     ]
    },
    {
     "data": {
      "application/vnd.jupyter.widget-view+json": {
       "model_id": "d491fa79124042ea8de33ffefee3259c",
       "version_major": 2,
       "version_minor": 0
      },
      "text/plain": [
       "0it [00:00, ?it/s]"
      ]
     },
     "metadata": {},
     "output_type": "display_data"
    },
    {
     "name": "stderr",
     "output_type": "stream",
     "text": [
      "2024-10-08 19:00:38 - INFO:pompon.optimizer - BEGIN TT-sweep 1/1\n",
      "2024-10-08 19:00:38 - INFO:pompon.optimizer - Maxdim=4, Cutoff=1.00e-03, Opt_tol=1.00e-03, Opt_maxiter=100\n",
      "2024-10-08 19:00:39 - INFO:pompon.optimizer - DONE TT-sweep 1/1\n"
     ]
    },
    {
     "data": {
      "application/vnd.jupyter.widget-view+json": {
       "model_id": "ec44dbef3d044d5d830ce9558817fa25",
       "version_major": 2,
       "version_minor": 0
      },
      "text/plain": [
       "0it [00:00, ?it/s]"
      ]
     },
     "metadata": {},
     "output_type": "display_data"
    },
    {
     "name": "stderr",
     "output_type": "stream",
     "text": [
      "2024-10-08 19:00:42 - INFO:pompon.optimizer - BEGIN TT-sweep 1/1\n",
      "2024-10-08 19:00:42 - INFO:pompon.optimizer - Maxdim=4, Cutoff=1.00e-03, Opt_tol=1.00e-03, Opt_maxiter=100\n",
      "2024-10-08 19:00:43 - INFO:pompon.optimizer - DONE TT-sweep 1/1\n"
     ]
    },
    {
     "data": {
      "application/vnd.jupyter.widget-view+json": {
       "model_id": "0e889b7f6fb840ee80cbb754ef15a2c3",
       "version_major": 2,
       "version_minor": 0
      },
      "text/plain": [
       "0it [00:00, ?it/s]"
      ]
     },
     "metadata": {},
     "output_type": "display_data"
    },
    {
     "name": "stderr",
     "output_type": "stream",
     "text": [
      "2024-10-08 19:00:46 - INFO:pompon.optimizer - BEGIN TT-sweep 1/1\n",
      "2024-10-08 19:00:46 - INFO:pompon.optimizer - Maxdim=4, Cutoff=1.00e-03, Opt_tol=1.00e-03, Opt_maxiter=100\n",
      "2024-10-08 19:00:47 - INFO:pompon.optimizer - DONE TT-sweep 1/1\n"
     ]
    },
    {
     "data": {
      "application/vnd.jupyter.widget-view+json": {
       "model_id": "039242657ada4aa2893b971c97a1da36",
       "version_major": 2,
       "version_minor": 0
      },
      "text/plain": [
       "0it [00:00, ?it/s]"
      ]
     },
     "metadata": {},
     "output_type": "display_data"
    },
    {
     "name": "stderr",
     "output_type": "stream",
     "text": [
      "2024-10-08 19:00:50 - INFO:pompon.optimizer - BEGIN TT-sweep 1/1\n",
      "2024-10-08 19:00:50 - INFO:pompon.optimizer - Maxdim=4, Cutoff=1.00e-03, Opt_tol=1.00e-03, Opt_maxiter=100\n",
      "2024-10-08 19:00:51 - INFO:pompon.optimizer - DONE TT-sweep 1/1\n"
     ]
    },
    {
     "data": {
      "application/vnd.jupyter.widget-view+json": {
       "model_id": "bb471c19862944a797ed998916348a60",
       "version_major": 2,
       "version_minor": 0
      },
      "text/plain": [
       "0it [00:00, ?it/s]"
      ]
     },
     "metadata": {},
     "output_type": "display_data"
    },
    {
     "name": "stderr",
     "output_type": "stream",
     "text": [
      "2024-10-08 19:00:54 - INFO:pompon.optimizer - BEGIN TT-sweep 1/1\n",
      "2024-10-08 19:00:54 - INFO:pompon.optimizer - Maxdim=4, Cutoff=1.00e-03, Opt_tol=1.00e-03, Opt_maxiter=100\n",
      "2024-10-08 19:00:54 - INFO:pompon.optimizer - DONE TT-sweep 1/1\n"
     ]
    },
    {
     "data": {
      "application/vnd.jupyter.widget-view+json": {
       "model_id": "5d9fe8c5fa914c0bb75344aee9ed390c",
       "version_major": 2,
       "version_minor": 0
      },
      "text/plain": [
       "0it [00:00, ?it/s]"
      ]
     },
     "metadata": {},
     "output_type": "display_data"
    },
    {
     "name": "stderr",
     "output_type": "stream",
     "text": [
      "2024-10-08 19:00:58 - INFO:pompon.optimizer - BEGIN TT-sweep 1/1\n",
      "2024-10-08 19:00:58 - INFO:pompon.optimizer - Maxdim=4, Cutoff=1.00e-03, Opt_tol=1.00e-03, Opt_maxiter=100\n",
      "2024-10-08 19:00:59 - INFO:pompon.optimizer - DONE TT-sweep 1/1\n"
     ]
    },
    {
     "data": {
      "application/vnd.jupyter.widget-view+json": {
       "model_id": "de6917c4c4a341e8b4380311c6499cb9",
       "version_major": 2,
       "version_minor": 0
      },
      "text/plain": [
       "0it [00:00, ?it/s]"
      ]
     },
     "metadata": {},
     "output_type": "display_data"
    },
    {
     "name": "stderr",
     "output_type": "stream",
     "text": [
      "2024-10-08 19:01:02 - INFO:pompon.optimizer - BEGIN TT-sweep 1/1\n",
      "2024-10-08 19:01:02 - INFO:pompon.optimizer - Maxdim=4, Cutoff=1.00e-03, Opt_tol=1.00e-03, Opt_maxiter=100\n",
      "2024-10-08 19:01:03 - INFO:pompon.optimizer - DONE TT-sweep 1/1\n"
     ]
    },
    {
     "data": {
      "application/vnd.jupyter.widget-view+json": {
       "model_id": "da2764a2a89742cba44ebd4f379fae5f",
       "version_major": 2,
       "version_minor": 0
      },
      "text/plain": [
       "0it [00:00, ?it/s]"
      ]
     },
     "metadata": {},
     "output_type": "display_data"
    },
    {
     "name": "stderr",
     "output_type": "stream",
     "text": [
      "2024-10-08 19:01:06 - INFO:pompon.optimizer - BEGIN TT-sweep 1/1\n",
      "2024-10-08 19:01:06 - INFO:pompon.optimizer - Maxdim=4, Cutoff=1.00e-03, Opt_tol=1.00e-03, Opt_maxiter=100\n",
      "2024-10-08 19:01:07 - INFO:pompon.optimizer - DONE TT-sweep 1/1\n"
     ]
    },
    {
     "data": {
      "application/vnd.jupyter.widget-view+json": {
       "model_id": "06cb954382544382a6a98aafec51a38b",
       "version_major": 2,
       "version_minor": 0
      },
      "text/plain": [
       "0it [00:00, ?it/s]"
      ]
     },
     "metadata": {},
     "output_type": "display_data"
    },
    {
     "name": "stderr",
     "output_type": "stream",
     "text": [
      "2024-10-08 19:01:10 - INFO:pompon.optimizer - BEGIN TT-sweep 1/1\n",
      "2024-10-08 19:01:10 - INFO:pompon.optimizer - Maxdim=4, Cutoff=1.00e-03, Opt_tol=1.00e-03, Opt_maxiter=100\n",
      "2024-10-08 19:01:11 - INFO:pompon.optimizer - DONE TT-sweep 1/1\n"
     ]
    },
    {
     "data": {
      "application/vnd.jupyter.widget-view+json": {
       "model_id": "84dfa9fbf76742e98ce139980c07d5cd",
       "version_major": 2,
       "version_minor": 0
      },
      "text/plain": [
       "0it [00:00, ?it/s]"
      ]
     },
     "metadata": {},
     "output_type": "display_data"
    },
    {
     "name": "stderr",
     "output_type": "stream",
     "text": [
      "2024-10-08 19:01:14 - INFO:pompon.optimizer - BEGIN TT-sweep 1/1\n",
      "2024-10-08 19:01:14 - INFO:pompon.optimizer - Maxdim=4, Cutoff=1.00e-03, Opt_tol=1.00e-03, Opt_maxiter=100\n",
      "2024-10-08 19:01:15 - INFO:pompon.optimizer - DONE TT-sweep 1/1\n"
     ]
    },
    {
     "data": {
      "application/vnd.jupyter.widget-view+json": {
       "model_id": "629bd94bde1240f5894f79e257bebf73",
       "version_major": 2,
       "version_minor": 0
      },
      "text/plain": [
       "0it [00:00, ?it/s]"
      ]
     },
     "metadata": {},
     "output_type": "display_data"
    },
    {
     "name": "stderr",
     "output_type": "stream",
     "text": [
      "2024-10-08 19:01:18 - INFO:pompon.optimizer - BEGIN TT-sweep 1/1\n",
      "2024-10-08 19:01:18 - INFO:pompon.optimizer - Maxdim=4, Cutoff=1.00e-03, Opt_tol=1.00e-03, Opt_maxiter=100\n",
      "2024-10-08 19:01:19 - INFO:pompon.optimizer - DONE TT-sweep 1/1\n"
     ]
    }
   ],
   "source": [
    "tx = optax.adam(1e-3)\n",
    "optimizer = nnx.Optimizer(model, tx)\n",
    "progress_bar = tqdm(range(1500))\n",
    "for i in progress_bar:\n",
    "    if i % 100 == 0:\n",
    "        norm, W = get_norm_W(tt)\n",
    "        concat_basis = get_concat_basis(x_train, model)\n",
    "        sweep(\n",
    "            tt=tt,\n",
    "            basis=concat_basis,\n",
    "            y=concat_y,\n",
    "            nsweeps=1,\n",
    "            maxdim=4,\n",
    "            opt_maxiter=100,\n",
    "            cutoff=1.e-03,\n",
    "            optax_solver=optax.adam(1.e-03),\n",
    "            #use_CG=True,\n",
    "            onedot=True,\n",
    "            auto_onedot=False,\n",
    "        )\n",
    "        norm, W = get_norm_W(tt)\n",
    "    loss_train = train_step(\n",
    "        model, optimizer, x_train, y_train, f_train, W, norm\n",
    "    )\n",
    "    loss_valid = loss_fn(\n",
    "        model, x_valid, y_valid, f_valid, W, norm\n",
    "    )\n",
    "    losses_train.append(loss_train)\n",
    "    losses_valid.append(loss_valid)\n",
    "    progress_bar.set_postfix({\"train\": f\"{losses_train[-1]:.2e}\", \"valid\":f\"{losses_valid[-1]:.2e}\", \"ranks\": f\"{tt.ranks}\"})"
   ]
  },
  {
   "cell_type": "code",
   "execution_count": 21,
   "id": "45ec132f-b9bb-4950-8cf8-f2e90b798c66",
   "metadata": {},
   "outputs": [
    {
     "data": {
      "image/png": "[encoded data removed]",
      "text/plain": [
       "<Figure size 640x480 with 1 Axes>"
      ]
     },
     "metadata": {},
     "output_type": "display_data"
    },
    {
     "data": {
      "image/png": "[encoded data removed]",
      "text/plain": [
       "<Figure size 640x480 with 1 Axes>"
      ]
     },
     "metadata": {},
     "output_type": "display_data"
    }
   ],
   "source": [
    "show_trace(losses_train, losses_valid)\n",
    "show_basis(model, tt)"
   ]
  },
  {
   "cell_type": "code",
   "execution_count": 22,
   "id": "f3790849-e5b1-4515-a3d6-f07714369a30",
   "metadata": {
    "scrolled": true
   },
   "outputs": [
    {
     "data": {
      "application/vnd.jupyter.widget-view+json": {
       "model_id": "5d80482958224bd49393cfbcc0c643e4",
       "version_major": 2,
       "version_minor": 0
      },
      "text/plain": [
       "  0%|          | 0/1500 [00:00<?, ?it/s]"
      ]
     },
     "metadata": {},
     "output_type": "display_data"
    },
    {
     "data": {
      "application/vnd.jupyter.widget-view+json": {
       "model_id": "f529885729544aee8c80b709a60e3066",
       "version_major": 2,
       "version_minor": 0
      },
      "text/plain": [
       "0it [00:00, ?it/s]"
      ]
     },
     "metadata": {},
     "output_type": "display_data"
    },
    {
     "name": "stderr",
     "output_type": "stream",
     "text": [
      "2024-10-08 19:01:23 - INFO:pompon.optimizer - BEGIN TT-sweep 1/3\n",
      "2024-10-08 19:01:23 - INFO:pompon.optimizer - Maxdim=8, Cutoff=1.00e-02, Opt_tol=1.00e-02, Opt_maxiter=150\n",
      "2024-10-08 19:01:23 - INFO:pompon.optimizer - DONE TT-sweep 1/3\n",
      "2024-10-08 19:01:23 - INFO:pompon.optimizer - BEGIN TT-sweep 2/3\n",
      "2024-10-08 19:01:23 - INFO:pompon.optimizer - Maxdim=8, Cutoff=1.00e-02, Opt_tol=1.00e-02, Opt_maxiter=150\n",
      "2024-10-08 19:01:23 - INFO:pompon.optimizer - Maxdim is reached. Switch to one-dot core optimization\n",
      "2024-10-08 19:01:24 - INFO:pompon.optimizer - DONE TT-sweep 2/3\n",
      "2024-10-08 19:01:24 - INFO:pompon.optimizer - BEGIN TT-sweep 3/3\n",
      "2024-10-08 19:01:24 - INFO:pompon.optimizer - Maxdim=8, Cutoff=1.00e-02, Opt_tol=1.00e-02, Opt_maxiter=150\n",
      "2024-10-08 19:01:24 - INFO:pompon.optimizer - DONE TT-sweep 3/3\n"
     ]
    },
    {
     "data": {
      "application/vnd.jupyter.widget-view+json": {
       "model_id": "d1a3dcb4c1fe4d508f3d019a65896635",
       "version_major": 2,
       "version_minor": 0
      },
      "text/plain": [
       "0it [00:00, ?it/s]"
      ]
     },
     "metadata": {},
     "output_type": "display_data"
    },
    {
     "name": "stderr",
     "output_type": "stream",
     "text": [
      "2024-10-08 19:01:31 - INFO:pompon.optimizer - BEGIN TT-sweep 1/3\n",
      "2024-10-08 19:01:31 - INFO:pompon.optimizer - Maxdim=8, Cutoff=1.00e-02, Opt_tol=1.00e-02, Opt_maxiter=150\n",
      "2024-10-08 19:01:31 - INFO:pompon.optimizer - Maxdim is reached. Switch to one-dot core optimization\n",
      "2024-10-08 19:01:31 - INFO:pompon.optimizer - DONE TT-sweep 1/3\n",
      "2024-10-08 19:01:31 - INFO:pompon.optimizer - BEGIN TT-sweep 2/3\n",
      "2024-10-08 19:01:31 - INFO:pompon.optimizer - Maxdim=8, Cutoff=1.00e-02, Opt_tol=1.00e-02, Opt_maxiter=150\n",
      "2024-10-08 19:01:31 - INFO:pompon.optimizer - DONE TT-sweep 2/3\n",
      "2024-10-08 19:01:31 - INFO:pompon.optimizer - BEGIN TT-sweep 3/3\n",
      "2024-10-08 19:01:31 - INFO:pompon.optimizer - Maxdim=8, Cutoff=1.00e-02, Opt_tol=1.00e-02, Opt_maxiter=150\n",
      "2024-10-08 19:01:31 - INFO:pompon.optimizer - DONE TT-sweep 3/3\n"
     ]
    },
    {
     "data": {
      "application/vnd.jupyter.widget-view+json": {
       "model_id": "b6762d13e22d45e29b771812190ef82a",
       "version_major": 2,
       "version_minor": 0
      },
      "text/plain": [
       "0it [00:00, ?it/s]"
      ]
     },
     "metadata": {},
     "output_type": "display_data"
    },
    {
     "name": "stderr",
     "output_type": "stream",
     "text": [
      "2024-10-08 19:01:37 - INFO:pompon.optimizer - BEGIN TT-sweep 1/3\n",
      "2024-10-08 19:01:37 - INFO:pompon.optimizer - Maxdim=8, Cutoff=1.00e-02, Opt_tol=1.00e-02, Opt_maxiter=150\n",
      "2024-10-08 19:01:37 - INFO:pompon.optimizer - Maxdim is reached. Switch to one-dot core optimization\n",
      "2024-10-08 19:01:38 - INFO:pompon.optimizer - DONE TT-sweep 1/3\n",
      "2024-10-08 19:01:38 - INFO:pompon.optimizer - BEGIN TT-sweep 2/3\n",
      "2024-10-08 19:01:38 - INFO:pompon.optimizer - Maxdim=8, Cutoff=1.00e-02, Opt_tol=1.00e-02, Opt_maxiter=150\n",
      "2024-10-08 19:01:38 - INFO:pompon.optimizer - DONE TT-sweep 2/3\n",
      "2024-10-08 19:01:38 - INFO:pompon.optimizer - BEGIN TT-sweep 3/3\n",
      "2024-10-08 19:01:38 - INFO:pompon.optimizer - Maxdim=8, Cutoff=1.00e-02, Opt_tol=1.00e-02, Opt_maxiter=150\n",
      "2024-10-08 19:01:38 - INFO:pompon.optimizer - DONE TT-sweep 3/3\n"
     ]
    },
    {
     "data": {
      "application/vnd.jupyter.widget-view+json": {
       "model_id": "484fc485b8584ad184872124bd1a7280",
       "version_major": 2,
       "version_minor": 0
      },
      "text/plain": [
       "0it [00:00, ?it/s]"
      ]
     },
     "metadata": {},
     "output_type": "display_data"
    },
    {
     "name": "stderr",
     "output_type": "stream",
     "text": [
      "2024-10-08 19:01:44 - INFO:pompon.optimizer - BEGIN TT-sweep 1/3\n",
      "2024-10-08 19:01:44 - INFO:pompon.optimizer - Maxdim=8, Cutoff=1.00e-02, Opt_tol=1.00e-02, Opt_maxiter=150\n",
      "2024-10-08 19:01:44 - INFO:pompon.optimizer - Maxdim is reached. Switch to one-dot core optimization\n",
      "2024-10-08 19:01:45 - INFO:pompon.optimizer - DONE TT-sweep 1/3\n",
      "2024-10-08 19:01:45 - INFO:pompon.optimizer - BEGIN TT-sweep 2/3\n",
      "2024-10-08 19:01:45 - INFO:pompon.optimizer - Maxdim=8, Cutoff=1.00e-02, Opt_tol=1.00e-02, Opt_maxiter=150\n",
      "2024-10-08 19:01:45 - INFO:pompon.optimizer - DONE TT-sweep 2/3\n",
      "2024-10-08 19:01:45 - INFO:pompon.optimizer - BEGIN TT-sweep 3/3\n",
      "2024-10-08 19:01:45 - INFO:pompon.optimizer - Maxdim=8, Cutoff=1.00e-02, Opt_tol=1.00e-02, Opt_maxiter=150\n",
      "2024-10-08 19:01:45 - INFO:pompon.optimizer - DONE TT-sweep 3/3\n"
     ]
    },
    {
     "data": {
      "application/vnd.jupyter.widget-view+json": {
       "model_id": "63fc2c2c66d84860958227997165c5ed",
       "version_major": 2,
       "version_minor": 0
      },
      "text/plain": [
       "0it [00:00, ?it/s]"
      ]
     },
     "metadata": {},
     "output_type": "display_data"
    },
    {
     "name": "stderr",
     "output_type": "stream",
     "text": [
      "2024-10-08 19:01:51 - INFO:pompon.optimizer - BEGIN TT-sweep 1/3\n",
      "2024-10-08 19:01:51 - INFO:pompon.optimizer - Maxdim=8, Cutoff=1.00e-02, Opt_tol=1.00e-02, Opt_maxiter=150\n",
      "2024-10-08 19:01:51 - INFO:pompon.optimizer - Maxdim is reached. Switch to one-dot core optimization\n",
      "2024-10-08 19:01:52 - INFO:pompon.optimizer - DONE TT-sweep 1/3\n",
      "2024-10-08 19:01:52 - INFO:pompon.optimizer - BEGIN TT-sweep 2/3\n",
      "2024-10-08 19:01:52 - INFO:pompon.optimizer - Maxdim=8, Cutoff=1.00e-02, Opt_tol=1.00e-02, Opt_maxiter=150\n",
      "2024-10-08 19:01:52 - INFO:pompon.optimizer - DONE TT-sweep 2/3\n",
      "2024-10-08 19:01:52 - INFO:pompon.optimizer - BEGIN TT-sweep 3/3\n",
      "2024-10-08 19:01:52 - INFO:pompon.optimizer - Maxdim=8, Cutoff=1.00e-02, Opt_tol=1.00e-02, Opt_maxiter=150\n",
      "2024-10-08 19:01:52 - INFO:pompon.optimizer - DONE TT-sweep 3/3\n"
     ]
    },
    {
     "data": {
      "application/vnd.jupyter.widget-view+json": {
       "model_id": "3b08351f51af4daa9266e4964b430a39",
       "version_major": 2,
       "version_minor": 0
      },
      "text/plain": [
       "0it [00:00, ?it/s]"
      ]
     },
     "metadata": {},
     "output_type": "display_data"
    },
    {
     "name": "stderr",
     "output_type": "stream",
     "text": [
      "2024-10-08 19:01:58 - INFO:pompon.optimizer - BEGIN TT-sweep 1/3\n",
      "2024-10-08 19:01:58 - INFO:pompon.optimizer - Maxdim=8, Cutoff=1.00e-02, Opt_tol=1.00e-02, Opt_maxiter=150\n",
      "2024-10-08 19:01:58 - INFO:pompon.optimizer - Maxdim is reached. Switch to one-dot core optimization\n",
      "2024-10-08 19:01:59 - INFO:pompon.optimizer - DONE TT-sweep 1/3\n",
      "2024-10-08 19:01:59 - INFO:pompon.optimizer - BEGIN TT-sweep 2/3\n",
      "2024-10-08 19:01:59 - INFO:pompon.optimizer - Maxdim=8, Cutoff=1.00e-02, Opt_tol=1.00e-02, Opt_maxiter=150\n",
      "2024-10-08 19:01:59 - INFO:pompon.optimizer - DONE TT-sweep 2/3\n",
      "2024-10-08 19:01:59 - INFO:pompon.optimizer - BEGIN TT-sweep 3/3\n",
      "2024-10-08 19:01:59 - INFO:pompon.optimizer - Maxdim=8, Cutoff=1.00e-02, Opt_tol=1.00e-02, Opt_maxiter=150\n",
      "2024-10-08 19:01:59 - INFO:pompon.optimizer - DONE TT-sweep 3/3\n"
     ]
    },
    {
     "data": {
      "application/vnd.jupyter.widget-view+json": {
       "model_id": "5f93025bc81746e28276b2b72bd0fb3c",
       "version_major": 2,
       "version_minor": 0
      },
      "text/plain": [
       "0it [00:00, ?it/s]"
      ]
     },
     "metadata": {},
     "output_type": "display_data"
    },
    {
     "name": "stderr",
     "output_type": "stream",
     "text": [
      "2024-10-08 19:02:05 - INFO:pompon.optimizer - BEGIN TT-sweep 1/3\n",
      "2024-10-08 19:02:05 - INFO:pompon.optimizer - Maxdim=8, Cutoff=1.00e-02, Opt_tol=1.00e-02, Opt_maxiter=150\n",
      "2024-10-08 19:02:05 - INFO:pompon.optimizer - Maxdim is reached. Switch to one-dot core optimization\n",
      "2024-10-08 19:02:06 - INFO:pompon.optimizer - DONE TT-sweep 1/3\n",
      "2024-10-08 19:02:06 - INFO:pompon.optimizer - BEGIN TT-sweep 2/3\n",
      "2024-10-08 19:02:06 - INFO:pompon.optimizer - Maxdim=8, Cutoff=1.00e-02, Opt_tol=1.00e-02, Opt_maxiter=150\n",
      "2024-10-08 19:02:06 - INFO:pompon.optimizer - DONE TT-sweep 2/3\n",
      "2024-10-08 19:02:06 - INFO:pompon.optimizer - BEGIN TT-sweep 3/3\n",
      "2024-10-08 19:02:06 - INFO:pompon.optimizer - Maxdim=8, Cutoff=1.00e-02, Opt_tol=1.00e-02, Opt_maxiter=150\n",
      "2024-10-08 19:02:06 - INFO:pompon.optimizer - DONE TT-sweep 3/3\n"
     ]
    },
    {
     "data": {
      "application/vnd.jupyter.widget-view+json": {
       "model_id": "ce7756a168754d16824c2396d5068d6f",
       "version_major": 2,
       "version_minor": 0
      },
      "text/plain": [
       "0it [00:00, ?it/s]"
      ]
     },
     "metadata": {},
     "output_type": "display_data"
    },
    {
     "name": "stderr",
     "output_type": "stream",
     "text": [
      "2024-10-08 19:02:12 - INFO:pompon.optimizer - BEGIN TT-sweep 1/3\n",
      "2024-10-08 19:02:12 - INFO:pompon.optimizer - Maxdim=8, Cutoff=1.00e-02, Opt_tol=1.00e-02, Opt_maxiter=150\n",
      "2024-10-08 19:02:12 - INFO:pompon.optimizer - Maxdim is reached. Switch to one-dot core optimization\n",
      "2024-10-08 19:02:13 - INFO:pompon.optimizer - DONE TT-sweep 1/3\n",
      "2024-10-08 19:02:13 - INFO:pompon.optimizer - BEGIN TT-sweep 2/3\n",
      "2024-10-08 19:02:13 - INFO:pompon.optimizer - Maxdim=8, Cutoff=1.00e-02, Opt_tol=1.00e-02, Opt_maxiter=150\n",
      "2024-10-08 19:02:13 - INFO:pompon.optimizer - DONE TT-sweep 2/3\n",
      "2024-10-08 19:02:13 - INFO:pompon.optimizer - BEGIN TT-sweep 3/3\n",
      "2024-10-08 19:02:13 - INFO:pompon.optimizer - Maxdim=8, Cutoff=1.00e-02, Opt_tol=1.00e-02, Opt_maxiter=150\n",
      "2024-10-08 19:02:13 - INFO:pompon.optimizer - DONE TT-sweep 3/3\n"
     ]
    },
    {
     "data": {
      "application/vnd.jupyter.widget-view+json": {
       "model_id": "4e42434d5f9a4e5fab4fda715255a393",
       "version_major": 2,
       "version_minor": 0
      },
      "text/plain": [
       "0it [00:00, ?it/s]"
      ]
     },
     "metadata": {},
     "output_type": "display_data"
    },
    {
     "name": "stderr",
     "output_type": "stream",
     "text": [
      "2024-10-08 19:02:19 - INFO:pompon.optimizer - BEGIN TT-sweep 1/3\n",
      "2024-10-08 19:02:19 - INFO:pompon.optimizer - Maxdim=8, Cutoff=1.00e-02, Opt_tol=1.00e-02, Opt_maxiter=150\n",
      "2024-10-08 19:02:19 - INFO:pompon.optimizer - Maxdim is reached. Switch to one-dot core optimization\n",
      "2024-10-08 19:02:20 - INFO:pompon.optimizer - DONE TT-sweep 1/3\n",
      "2024-10-08 19:02:20 - INFO:pompon.optimizer - BEGIN TT-sweep 2/3\n",
      "2024-10-08 19:02:20 - INFO:pompon.optimizer - Maxdim=8, Cutoff=1.00e-02, Opt_tol=1.00e-02, Opt_maxiter=150\n",
      "2024-10-08 19:02:20 - INFO:pompon.optimizer - DONE TT-sweep 2/3\n",
      "2024-10-08 19:02:20 - INFO:pompon.optimizer - BEGIN TT-sweep 3/3\n",
      "2024-10-08 19:02:20 - INFO:pompon.optimizer - Maxdim=8, Cutoff=1.00e-02, Opt_tol=1.00e-02, Opt_maxiter=150\n",
      "2024-10-08 19:02:20 - INFO:pompon.optimizer - DONE TT-sweep 3/3\n"
     ]
    },
    {
     "data": {
      "application/vnd.jupyter.widget-view+json": {
       "model_id": "853de9ee0fc34ed68288e59a4e8e3f48",
       "version_major": 2,
       "version_minor": 0
      },
      "text/plain": [
       "0it [00:00, ?it/s]"
      ]
     },
     "metadata": {},
     "output_type": "display_data"
    },
    {
     "name": "stderr",
     "output_type": "stream",
     "text": [
      "2024-10-08 19:02:27 - INFO:pompon.optimizer - BEGIN TT-sweep 1/3\n",
      "2024-10-08 19:02:27 - INFO:pompon.optimizer - Maxdim=8, Cutoff=1.00e-02, Opt_tol=1.00e-02, Opt_maxiter=150\n",
      "2024-10-08 19:02:27 - INFO:pompon.optimizer - Maxdim is reached. Switch to one-dot core optimization\n",
      "2024-10-08 19:02:27 - INFO:pompon.optimizer - DONE TT-sweep 1/3\n",
      "2024-10-08 19:02:27 - INFO:pompon.optimizer - BEGIN TT-sweep 2/3\n",
      "2024-10-08 19:02:27 - INFO:pompon.optimizer - Maxdim=8, Cutoff=1.00e-02, Opt_tol=1.00e-02, Opt_maxiter=150\n",
      "2024-10-08 19:02:27 - INFO:pompon.optimizer - DONE TT-sweep 2/3\n",
      "2024-10-08 19:02:27 - INFO:pompon.optimizer - BEGIN TT-sweep 3/3\n",
      "2024-10-08 19:02:27 - INFO:pompon.optimizer - Maxdim=8, Cutoff=1.00e-02, Opt_tol=1.00e-02, Opt_maxiter=150\n",
      "2024-10-08 19:02:27 - INFO:pompon.optimizer - DONE TT-sweep 3/3\n"
     ]
    }
   ],
   "source": [
    "tx = optax.adam(1e-3)\n",
    "optimizer = nnx.Optimizer(model, tx)\n",
    "progress_bar = tqdm(range(1500))\n",
    "for i in progress_bar:\n",
    "    if i % 150 == 0:\n",
    "        norm, W = get_norm_W(tt)\n",
    "        concat_basis = get_concat_basis(x_train, model)\n",
    "        sweep(\n",
    "            tt=tt,\n",
    "            basis=concat_basis,\n",
    "            y=concat_y,\n",
    "            nsweeps=3,\n",
    "            maxdim=8,\n",
    "            opt_maxiter=150,\n",
    "            cutoff=1.e-02,\n",
    "            optax_solver=optax.adam(1.e-03),\n",
    "            #use_CG=True,\n",
    "            onedot=False,\n",
    "        )\n",
    "        norm, W = get_norm_W(tt)\n",
    "    loss_train = train_step(\n",
    "        model, optimizer, x_train, y_train, f_train, W, norm\n",
    "    )\n",
    "    loss_valid = loss_fn(\n",
    "        model, x_valid, y_valid, f_valid, W, norm\n",
    "    )\n",
    "    losses_train.append(loss_train)\n",
    "    losses_valid.append(loss_valid)\n",
    "    progress_bar.set_postfix({\"train\": f\"{losses_train[-1]:.2e}\", \"valid\":f\"{losses_valid[-1]:.2e}\", \"ranks\": f\"{tt.ranks}\"})"
   ]
  },
  {
   "cell_type": "code",
   "execution_count": 23,
   "id": "e31b40c0-d3b7-4069-9607-1e7cf1420c37",
   "metadata": {},
   "outputs": [
    {
     "data": {
      "image/png": "[encoded data removed]",
      "text/plain": [
       "<Figure size 640x480 with 1 Axes>"
      ]
     },
     "metadata": {},
     "output_type": "display_data"
    },
    {
     "data": {
      "image/png": "[encoded data removed]",
      "text/plain": [
       "<Figure size 640x480 with 1 Axes>"
      ]
     },
     "metadata": {},
     "output_type": "display_data"
    }
   ],
   "source": [
    "show_trace(losses_train, losses_valid)\n",
    "show_basis(model, tt)"
   ]
  },
  {
   "cell_type": "code",
   "execution_count": 24,
   "id": "5690e0ac-ea22-4663-aa50-2ec0b26f5277",
   "metadata": {
    "scrolled": true
   },
   "outputs": [
    {
     "data": {
      "application/vnd.jupyter.widget-view+json": {
       "model_id": "3925e93f2da94d31937aa9786edac1ab",
       "version_major": 2,
       "version_minor": 0
      },
      "text/plain": [
       "  0%|          | 0/1500 [00:00<?, ?it/s]"
      ]
     },
     "metadata": {},
     "output_type": "display_data"
    },
    {
     "data": {
      "application/vnd.jupyter.widget-view+json": {
       "model_id": "009418423c524b4296458e45668123fb",
       "version_major": 2,
       "version_minor": 0
      },
      "text/plain": [
       "0it [00:00, ?it/s]"
      ]
     },
     "metadata": {},
     "output_type": "display_data"
    },
    {
     "name": "stderr",
     "output_type": "stream",
     "text": [
      "2024-10-08 19:02:34 - INFO:pompon.optimizer - BEGIN TT-sweep 1/3\n",
      "2024-10-08 19:02:34 - INFO:pompon.optimizer - Maxdim=12, Cutoff=1.00e-03, Opt_tol=1.00e-03, Opt_maxiter=150\n",
      "2024-10-08 19:02:35 - INFO:pompon.optimizer - DONE TT-sweep 1/3\n",
      "2024-10-08 19:02:35 - INFO:pompon.optimizer - BEGIN TT-sweep 2/3\n",
      "2024-10-08 19:02:35 - INFO:pompon.optimizer - Maxdim=12, Cutoff=1.00e-03, Opt_tol=1.00e-03, Opt_maxiter=150\n",
      "2024-10-08 19:02:35 - INFO:pompon.optimizer - Maxdim is reached. Switch to one-dot core optimization\n",
      "2024-10-08 19:02:36 - INFO:pompon.optimizer - DONE TT-sweep 2/3\n",
      "2024-10-08 19:02:36 - INFO:pompon.optimizer - BEGIN TT-sweep 3/3\n",
      "2024-10-08 19:02:36 - INFO:pompon.optimizer - Maxdim=12, Cutoff=1.00e-03, Opt_tol=1.00e-03, Opt_maxiter=150\n",
      "2024-10-08 19:02:36 - INFO:pompon.optimizer - DONE TT-sweep 3/3\n"
     ]
    },
    {
     "data": {
      "application/vnd.jupyter.widget-view+json": {
       "model_id": "15c894502bb5426dafa1aeac82e4bd26",
       "version_major": 2,
       "version_minor": 0
      },
      "text/plain": [
       "0it [00:00, ?it/s]"
      ]
     },
     "metadata": {},
     "output_type": "display_data"
    },
    {
     "name": "stderr",
     "output_type": "stream",
     "text": [
      "2024-10-08 19:02:43 - INFO:pompon.optimizer - BEGIN TT-sweep 1/3\n",
      "2024-10-08 19:02:43 - INFO:pompon.optimizer - Maxdim=12, Cutoff=1.00e-03, Opt_tol=1.00e-03, Opt_maxiter=150\n",
      "2024-10-08 19:02:43 - INFO:pompon.optimizer - Maxdim is reached. Switch to one-dot core optimization\n",
      "2024-10-08 19:02:43 - INFO:pompon.optimizer - DONE TT-sweep 1/3\n",
      "2024-10-08 19:02:43 - INFO:pompon.optimizer - BEGIN TT-sweep 2/3\n",
      "2024-10-08 19:02:43 - INFO:pompon.optimizer - Maxdim=12, Cutoff=1.00e-03, Opt_tol=1.00e-03, Opt_maxiter=150\n",
      "2024-10-08 19:02:44 - INFO:pompon.optimizer - DONE TT-sweep 2/3\n",
      "2024-10-08 19:02:44 - INFO:pompon.optimizer - BEGIN TT-sweep 3/3\n",
      "2024-10-08 19:02:44 - INFO:pompon.optimizer - Maxdim=12, Cutoff=1.00e-03, Opt_tol=1.00e-03, Opt_maxiter=150\n",
      "2024-10-08 19:02:44 - INFO:pompon.optimizer - DONE TT-sweep 3/3\n"
     ]
    },
    {
     "data": {
      "application/vnd.jupyter.widget-view+json": {
       "model_id": "15b6e594dc13454c9ff681ad3237bf67",
       "version_major": 2,
       "version_minor": 0
      },
      "text/plain": [
       "0it [00:00, ?it/s]"
      ]
     },
     "metadata": {},
     "output_type": "display_data"
    },
    {
     "name": "stderr",
     "output_type": "stream",
     "text": [
      "2024-10-08 19:02:50 - INFO:pompon.optimizer - BEGIN TT-sweep 1/3\n",
      "2024-10-08 19:02:50 - INFO:pompon.optimizer - Maxdim=12, Cutoff=1.00e-03, Opt_tol=1.00e-03, Opt_maxiter=150\n",
      "2024-10-08 19:02:50 - INFO:pompon.optimizer - Maxdim is reached. Switch to one-dot core optimization\n",
      "2024-10-08 19:02:51 - INFO:pompon.optimizer - DONE TT-sweep 1/3\n",
      "2024-10-08 19:02:51 - INFO:pompon.optimizer - BEGIN TT-sweep 2/3\n",
      "2024-10-08 19:02:51 - INFO:pompon.optimizer - Maxdim=12, Cutoff=1.00e-03, Opt_tol=1.00e-03, Opt_maxiter=150\n",
      "2024-10-08 19:02:51 - INFO:pompon.optimizer - DONE TT-sweep 2/3\n",
      "2024-10-08 19:02:51 - INFO:pompon.optimizer - BEGIN TT-sweep 3/3\n",
      "2024-10-08 19:02:51 - INFO:pompon.optimizer - Maxdim=12, Cutoff=1.00e-03, Opt_tol=1.00e-03, Opt_maxiter=150\n",
      "2024-10-08 19:02:51 - INFO:pompon.optimizer - DONE TT-sweep 3/3\n"
     ]
    },
    {
     "data": {
      "application/vnd.jupyter.widget-view+json": {
       "model_id": "83e08d3fffdb4fb38f02503568fbb0a5",
       "version_major": 2,
       "version_minor": 0
      },
      "text/plain": [
       "0it [00:00, ?it/s]"
      ]
     },
     "metadata": {},
     "output_type": "display_data"
    },
    {
     "name": "stderr",
     "output_type": "stream",
     "text": [
      "2024-10-08 19:02:58 - INFO:pompon.optimizer - BEGIN TT-sweep 1/3\n",
      "2024-10-08 19:02:58 - INFO:pompon.optimizer - Maxdim=12, Cutoff=1.00e-03, Opt_tol=1.00e-03, Opt_maxiter=150\n",
      "2024-10-08 19:02:58 - INFO:pompon.optimizer - Maxdim is reached. Switch to one-dot core optimization\n",
      "2024-10-08 19:02:58 - INFO:pompon.optimizer - DONE TT-sweep 1/3\n",
      "2024-10-08 19:02:58 - INFO:pompon.optimizer - BEGIN TT-sweep 2/3\n",
      "2024-10-08 19:02:58 - INFO:pompon.optimizer - Maxdim=12, Cutoff=1.00e-03, Opt_tol=1.00e-03, Opt_maxiter=150\n",
      "2024-10-08 19:02:58 - INFO:pompon.optimizer - DONE TT-sweep 2/3\n",
      "2024-10-08 19:02:58 - INFO:pompon.optimizer - BEGIN TT-sweep 3/3\n",
      "2024-10-08 19:02:58 - INFO:pompon.optimizer - Maxdim=12, Cutoff=1.00e-03, Opt_tol=1.00e-03, Opt_maxiter=150\n",
      "2024-10-08 19:02:59 - INFO:pompon.optimizer - DONE TT-sweep 3/3\n"
     ]
    },
    {
     "data": {
      "application/vnd.jupyter.widget-view+json": {
       "model_id": "2b234ebb78e949a7b0c20519f8fae6ac",
       "version_major": 2,
       "version_minor": 0
      },
      "text/plain": [
       "0it [00:00, ?it/s]"
      ]
     },
     "metadata": {},
     "output_type": "display_data"
    },
    {
     "name": "stderr",
     "output_type": "stream",
     "text": [
      "2024-10-08 19:03:05 - INFO:pompon.optimizer - BEGIN TT-sweep 1/3\n",
      "2024-10-08 19:03:05 - INFO:pompon.optimizer - Maxdim=12, Cutoff=1.00e-03, Opt_tol=1.00e-03, Opt_maxiter=150\n",
      "2024-10-08 19:03:05 - INFO:pompon.optimizer - Maxdim is reached. Switch to one-dot core optimization\n",
      "2024-10-08 19:03:05 - INFO:pompon.optimizer - DONE TT-sweep 1/3\n",
      "2024-10-08 19:03:05 - INFO:pompon.optimizer - BEGIN TT-sweep 2/3\n",
      "2024-10-08 19:03:05 - INFO:pompon.optimizer - Maxdim=12, Cutoff=1.00e-03, Opt_tol=1.00e-03, Opt_maxiter=150\n",
      "2024-10-08 19:03:06 - INFO:pompon.optimizer - DONE TT-sweep 2/3\n",
      "2024-10-08 19:03:06 - INFO:pompon.optimizer - BEGIN TT-sweep 3/3\n",
      "2024-10-08 19:03:06 - INFO:pompon.optimizer - Maxdim=12, Cutoff=1.00e-03, Opt_tol=1.00e-03, Opt_maxiter=150\n",
      "2024-10-08 19:03:06 - INFO:pompon.optimizer - DONE TT-sweep 3/3\n"
     ]
    },
    {
     "data": {
      "application/vnd.jupyter.widget-view+json": {
       "model_id": "f6098e46ef534317ae24e72b69f06cd1",
       "version_major": 2,
       "version_minor": 0
      },
      "text/plain": [
       "0it [00:00, ?it/s]"
      ]
     },
     "metadata": {},
     "output_type": "display_data"
    },
    {
     "name": "stderr",
     "output_type": "stream",
     "text": [
      "2024-10-08 19:03:12 - INFO:pompon.optimizer - BEGIN TT-sweep 1/3\n",
      "2024-10-08 19:03:12 - INFO:pompon.optimizer - Maxdim=12, Cutoff=1.00e-03, Opt_tol=1.00e-03, Opt_maxiter=150\n",
      "2024-10-08 19:03:12 - INFO:pompon.optimizer - Maxdim is reached. Switch to one-dot core optimization\n",
      "2024-10-08 19:03:13 - INFO:pompon.optimizer - DONE TT-sweep 1/3\n",
      "2024-10-08 19:03:13 - INFO:pompon.optimizer - BEGIN TT-sweep 2/3\n",
      "2024-10-08 19:03:13 - INFO:pompon.optimizer - Maxdim=12, Cutoff=1.00e-03, Opt_tol=1.00e-03, Opt_maxiter=150\n",
      "2024-10-08 19:03:13 - INFO:pompon.optimizer - DONE TT-sweep 2/3\n",
      "2024-10-08 19:03:13 - INFO:pompon.optimizer - BEGIN TT-sweep 3/3\n",
      "2024-10-08 19:03:13 - INFO:pompon.optimizer - Maxdim=12, Cutoff=1.00e-03, Opt_tol=1.00e-03, Opt_maxiter=150\n",
      "2024-10-08 19:03:13 - INFO:pompon.optimizer - DONE TT-sweep 3/3\n"
     ]
    },
    {
     "data": {
      "application/vnd.jupyter.widget-view+json": {
       "model_id": "07e761bd23bb40fd99a941f53e7ab184",
       "version_major": 2,
       "version_minor": 0
      },
      "text/plain": [
       "0it [00:00, ?it/s]"
      ]
     },
     "metadata": {},
     "output_type": "display_data"
    },
    {
     "name": "stderr",
     "output_type": "stream",
     "text": [
      "2024-10-08 19:03:20 - INFO:pompon.optimizer - BEGIN TT-sweep 1/3\n",
      "2024-10-08 19:03:20 - INFO:pompon.optimizer - Maxdim=12, Cutoff=1.00e-03, Opt_tol=1.00e-03, Opt_maxiter=150\n",
      "2024-10-08 19:03:20 - INFO:pompon.optimizer - Maxdim is reached. Switch to one-dot core optimization\n",
      "2024-10-08 19:03:20 - INFO:pompon.optimizer - DONE TT-sweep 1/3\n",
      "2024-10-08 19:03:20 - INFO:pompon.optimizer - BEGIN TT-sweep 2/3\n",
      "2024-10-08 19:03:20 - INFO:pompon.optimizer - Maxdim=12, Cutoff=1.00e-03, Opt_tol=1.00e-03, Opt_maxiter=150\n",
      "2024-10-08 19:03:21 - INFO:pompon.optimizer - DONE TT-sweep 2/3\n",
      "2024-10-08 19:03:21 - INFO:pompon.optimizer - BEGIN TT-sweep 3/3\n",
      "2024-10-08 19:03:21 - INFO:pompon.optimizer - Maxdim=12, Cutoff=1.00e-03, Opt_tol=1.00e-03, Opt_maxiter=150\n",
      "2024-10-08 19:03:21 - INFO:pompon.optimizer - DONE TT-sweep 3/3\n"
     ]
    },
    {
     "data": {
      "application/vnd.jupyter.widget-view+json": {
       "model_id": "cf798d5624cb4863b289f0b7324136c7",
       "version_major": 2,
       "version_minor": 0
      },
      "text/plain": [
       "0it [00:00, ?it/s]"
      ]
     },
     "metadata": {},
     "output_type": "display_data"
    },
    {
     "name": "stderr",
     "output_type": "stream",
     "text": [
      "2024-10-08 19:03:27 - INFO:pompon.optimizer - BEGIN TT-sweep 1/3\n",
      "2024-10-08 19:03:27 - INFO:pompon.optimizer - Maxdim=12, Cutoff=1.00e-03, Opt_tol=1.00e-03, Opt_maxiter=150\n",
      "2024-10-08 19:03:27 - INFO:pompon.optimizer - Maxdim is reached. Switch to one-dot core optimization\n",
      "2024-10-08 19:03:28 - INFO:pompon.optimizer - DONE TT-sweep 1/3\n",
      "2024-10-08 19:03:28 - INFO:pompon.optimizer - BEGIN TT-sweep 2/3\n",
      "2024-10-08 19:03:28 - INFO:pompon.optimizer - Maxdim=12, Cutoff=1.00e-03, Opt_tol=1.00e-03, Opt_maxiter=150\n",
      "2024-10-08 19:03:28 - INFO:pompon.optimizer - DONE TT-sweep 2/3\n",
      "2024-10-08 19:03:28 - INFO:pompon.optimizer - BEGIN TT-sweep 3/3\n",
      "2024-10-08 19:03:28 - INFO:pompon.optimizer - Maxdim=12, Cutoff=1.00e-03, Opt_tol=1.00e-03, Opt_maxiter=150\n",
      "2024-10-08 19:03:28 - INFO:pompon.optimizer - DONE TT-sweep 3/3\n"
     ]
    },
    {
     "data": {
      "application/vnd.jupyter.widget-view+json": {
       "model_id": "7a05612de3a24357a35021b779b18d7d",
       "version_major": 2,
       "version_minor": 0
      },
      "text/plain": [
       "0it [00:00, ?it/s]"
      ]
     },
     "metadata": {},
     "output_type": "display_data"
    },
    {
     "name": "stderr",
     "output_type": "stream",
     "text": [
      "2024-10-08 19:03:35 - INFO:pompon.optimizer - BEGIN TT-sweep 1/3\n",
      "2024-10-08 19:03:35 - INFO:pompon.optimizer - Maxdim=12, Cutoff=1.00e-03, Opt_tol=1.00e-03, Opt_maxiter=150\n",
      "2024-10-08 19:03:35 - INFO:pompon.optimizer - Maxdim is reached. Switch to one-dot core optimization\n",
      "2024-10-08 19:03:36 - INFO:pompon.optimizer - DONE TT-sweep 1/3\n",
      "2024-10-08 19:03:36 - INFO:pompon.optimizer - BEGIN TT-sweep 2/3\n",
      "2024-10-08 19:03:36 - INFO:pompon.optimizer - Maxdim=12, Cutoff=1.00e-03, Opt_tol=1.00e-03, Opt_maxiter=150\n",
      "2024-10-08 19:03:36 - INFO:pompon.optimizer - DONE TT-sweep 2/3\n",
      "2024-10-08 19:03:36 - INFO:pompon.optimizer - BEGIN TT-sweep 3/3\n",
      "2024-10-08 19:03:36 - INFO:pompon.optimizer - Maxdim=12, Cutoff=1.00e-03, Opt_tol=1.00e-03, Opt_maxiter=150\n",
      "2024-10-08 19:03:36 - INFO:pompon.optimizer - DONE TT-sweep 3/3\n"
     ]
    },
    {
     "data": {
      "application/vnd.jupyter.widget-view+json": {
       "model_id": "075f7a736b0f4dcdaf823561fc7f8f4c",
       "version_major": 2,
       "version_minor": 0
      },
      "text/plain": [
       "0it [00:00, ?it/s]"
      ]
     },
     "metadata": {},
     "output_type": "display_data"
    },
    {
     "name": "stderr",
     "output_type": "stream",
     "text": [
      "2024-10-08 19:03:43 - INFO:pompon.optimizer - BEGIN TT-sweep 1/3\n",
      "2024-10-08 19:03:43 - INFO:pompon.optimizer - Maxdim=12, Cutoff=1.00e-03, Opt_tol=1.00e-03, Opt_maxiter=150\n",
      "2024-10-08 19:03:43 - INFO:pompon.optimizer - Maxdim is reached. Switch to one-dot core optimization\n",
      "2024-10-08 19:03:43 - INFO:pompon.optimizer - DONE TT-sweep 1/3\n",
      "2024-10-08 19:03:43 - INFO:pompon.optimizer - BEGIN TT-sweep 2/3\n",
      "2024-10-08 19:03:43 - INFO:pompon.optimizer - Maxdim=12, Cutoff=1.00e-03, Opt_tol=1.00e-03, Opt_maxiter=150\n",
      "2024-10-08 19:03:43 - INFO:pompon.optimizer - DONE TT-sweep 2/3\n",
      "2024-10-08 19:03:43 - INFO:pompon.optimizer - BEGIN TT-sweep 3/3\n",
      "2024-10-08 19:03:43 - INFO:pompon.optimizer - Maxdim=12, Cutoff=1.00e-03, Opt_tol=1.00e-03, Opt_maxiter=150\n",
      "2024-10-08 19:03:44 - INFO:pompon.optimizer - DONE TT-sweep 3/3\n"
     ]
    }
   ],
   "source": [
    "tx = optax.adam(1e-4)\n",
    "optimizer = nnx.Optimizer(model, tx)\n",
    "progress_bar = tqdm(range(1500))\n",
    "for i in progress_bar:\n",
    "    if i % 150 == 0:\n",
    "        norm, W = get_norm_W(tt)\n",
    "        concat_basis = get_concat_basis(x_train, model)\n",
    "        sweep(\n",
    "            tt=tt,\n",
    "            basis=concat_basis,\n",
    "            y=concat_y,\n",
    "            nsweeps=3,\n",
    "            maxdim=12,\n",
    "            opt_maxiter=150,\n",
    "            cutoff=1.e-03,\n",
    "            optax_solver=optax.adam(1.e-04),\n",
    "            onedot=False,\n",
    "        )\n",
    "        norm, W = get_norm_W(tt)\n",
    "    loss_train = train_step(\n",
    "        model, optimizer, x_train, y_train, f_train, W, norm\n",
    "    )\n",
    "    loss_valid = loss_fn(\n",
    "        model, x_valid, y_valid, f_valid, W, norm\n",
    "    )\n",
    "    losses_train.append(loss_train)\n",
    "    losses_valid.append(loss_valid)\n",
    "    progress_bar.set_postfix({\"train\": f\"{losses_train[-1]:.2e}\", \"valid\":f\"{losses_valid[-1]:.2e}\", \"ranks\": f\"{tt.ranks}\"})"
   ]
  },
  {
   "cell_type": "code",
   "execution_count": 25,
   "id": "12be07f3-5769-4b8b-8b4e-ca1ee9ce76bf",
   "metadata": {},
   "outputs": [
    {
     "data": {
      "application/vnd.jupyter.widget-view+json": {
       "model_id": "a9c7f33bd0504700aa315ee342ec1c11",
       "version_major": 2,
       "version_minor": 0
      },
      "text/plain": [
       "  0%|          | 0/1500 [00:00<?, ?it/s]"
      ]
     },
     "metadata": {},
     "output_type": "display_data"
    },
    {
     "data": {
      "application/vnd.jupyter.widget-view+json": {
       "model_id": "57f2caeb34494af3bdf40bfa91412080",
       "version_major": 2,
       "version_minor": 0
      },
      "text/plain": [
       "0it [00:00, ?it/s]"
      ]
     },
     "metadata": {},
     "output_type": "display_data"
    },
    {
     "name": "stderr",
     "output_type": "stream",
     "text": [
      "2024-10-08 19:03:50 - INFO:pompon.optimizer - BEGIN TT-sweep 1/3\n",
      "2024-10-08 19:03:50 - INFO:pompon.optimizer - Maxdim=12, Cutoff=1.00e-03, Opt_tol=1.00e-03, Opt_maxiter=150\n",
      "2024-10-08 19:03:50 - INFO:pompon.optimizer - Maxdim is reached. Switch to one-dot core optimization\n",
      "2024-10-08 19:03:51 - INFO:pompon.optimizer - DONE TT-sweep 1/3\n",
      "2024-10-08 19:03:51 - INFO:pompon.optimizer - BEGIN TT-sweep 2/3\n",
      "2024-10-08 19:03:51 - INFO:pompon.optimizer - Maxdim=12, Cutoff=1.00e-03, Opt_tol=1.00e-03, Opt_maxiter=150\n",
      "2024-10-08 19:03:51 - INFO:pompon.optimizer - DONE TT-sweep 2/3\n",
      "2024-10-08 19:03:51 - INFO:pompon.optimizer - BEGIN TT-sweep 3/3\n",
      "2024-10-08 19:03:51 - INFO:pompon.optimizer - Maxdim=12, Cutoff=1.00e-03, Opt_tol=1.00e-03, Opt_maxiter=150\n",
      "2024-10-08 19:03:51 - INFO:pompon.optimizer - DONE TT-sweep 3/3\n"
     ]
    },
    {
     "data": {
      "application/vnd.jupyter.widget-view+json": {
       "model_id": "b298d869d17b4151b56ec812c4ce610f",
       "version_major": 2,
       "version_minor": 0
      },
      "text/plain": [
       "0it [00:00, ?it/s]"
      ]
     },
     "metadata": {},
     "output_type": "display_data"
    },
    {
     "name": "stderr",
     "output_type": "stream",
     "text": [
      "2024-10-08 19:03:59 - INFO:pompon.optimizer - BEGIN TT-sweep 1/3\n",
      "2024-10-08 19:03:59 - INFO:pompon.optimizer - Maxdim=12, Cutoff=1.00e-03, Opt_tol=1.00e-03, Opt_maxiter=150\n",
      "2024-10-08 19:03:59 - INFO:pompon.optimizer - Maxdim is reached. Switch to one-dot core optimization\n",
      "2024-10-08 19:03:59 - INFO:pompon.optimizer - DONE TT-sweep 1/3\n",
      "2024-10-08 19:03:59 - INFO:pompon.optimizer - BEGIN TT-sweep 2/3\n",
      "2024-10-08 19:03:59 - INFO:pompon.optimizer - Maxdim=12, Cutoff=1.00e-03, Opt_tol=1.00e-03, Opt_maxiter=150\n",
      "2024-10-08 19:03:59 - INFO:pompon.optimizer - DONE TT-sweep 2/3\n",
      "2024-10-08 19:03:59 - INFO:pompon.optimizer - BEGIN TT-sweep 3/3\n",
      "2024-10-08 19:03:59 - INFO:pompon.optimizer - Maxdim=12, Cutoff=1.00e-03, Opt_tol=1.00e-03, Opt_maxiter=150\n",
      "2024-10-08 19:03:59 - INFO:pompon.optimizer - DONE TT-sweep 3/3\n"
     ]
    },
    {
     "data": {
      "application/vnd.jupyter.widget-view+json": {
       "model_id": "602056b937df42debbdf59abd2ad0959",
       "version_major": 2,
       "version_minor": 0
      },
      "text/plain": [
       "0it [00:00, ?it/s]"
      ]
     },
     "metadata": {},
     "output_type": "display_data"
    },
    {
     "name": "stderr",
     "output_type": "stream",
     "text": [
      "2024-10-08 19:04:06 - INFO:pompon.optimizer - BEGIN TT-sweep 1/3\n",
      "2024-10-08 19:04:06 - INFO:pompon.optimizer - Maxdim=12, Cutoff=1.00e-03, Opt_tol=1.00e-03, Opt_maxiter=150\n",
      "2024-10-08 19:04:06 - INFO:pompon.optimizer - Maxdim is reached. Switch to one-dot core optimization\n",
      "2024-10-08 19:04:06 - INFO:pompon.optimizer - DONE TT-sweep 1/3\n",
      "2024-10-08 19:04:06 - INFO:pompon.optimizer - BEGIN TT-sweep 2/3\n",
      "2024-10-08 19:04:06 - INFO:pompon.optimizer - Maxdim=12, Cutoff=1.00e-03, Opt_tol=1.00e-03, Opt_maxiter=150\n",
      "2024-10-08 19:04:06 - INFO:pompon.optimizer - DONE TT-sweep 2/3\n",
      "2024-10-08 19:04:06 - INFO:pompon.optimizer - BEGIN TT-sweep 3/3\n",
      "2024-10-08 19:04:06 - INFO:pompon.optimizer - Maxdim=12, Cutoff=1.00e-03, Opt_tol=1.00e-03, Opt_maxiter=150\n",
      "2024-10-08 19:04:07 - INFO:pompon.optimizer - DONE TT-sweep 3/3\n"
     ]
    },
    {
     "data": {
      "application/vnd.jupyter.widget-view+json": {
       "model_id": "e623417f19f2457583118ad90ea8a09f",
       "version_major": 2,
       "version_minor": 0
      },
      "text/plain": [
       "0it [00:00, ?it/s]"
      ]
     },
     "metadata": {},
     "output_type": "display_data"
    },
    {
     "name": "stderr",
     "output_type": "stream",
     "text": [
      "2024-10-08 19:04:13 - INFO:pompon.optimizer - BEGIN TT-sweep 1/3\n",
      "2024-10-08 19:04:13 - INFO:pompon.optimizer - Maxdim=12, Cutoff=1.00e-03, Opt_tol=1.00e-03, Opt_maxiter=150\n",
      "2024-10-08 19:04:13 - INFO:pompon.optimizer - Maxdim is reached. Switch to one-dot core optimization\n",
      "2024-10-08 19:04:13 - INFO:pompon.optimizer - DONE TT-sweep 1/3\n",
      "2024-10-08 19:04:13 - INFO:pompon.optimizer - BEGIN TT-sweep 2/3\n",
      "2024-10-08 19:04:13 - INFO:pompon.optimizer - Maxdim=12, Cutoff=1.00e-03, Opt_tol=1.00e-03, Opt_maxiter=150\n",
      "2024-10-08 19:04:13 - INFO:pompon.optimizer - DONE TT-sweep 2/3\n",
      "2024-10-08 19:04:13 - INFO:pompon.optimizer - BEGIN TT-sweep 3/3\n",
      "2024-10-08 19:04:13 - INFO:pompon.optimizer - Maxdim=12, Cutoff=1.00e-03, Opt_tol=1.00e-03, Opt_maxiter=150\n",
      "2024-10-08 19:04:14 - INFO:pompon.optimizer - DONE TT-sweep 3/3\n"
     ]
    },
    {
     "data": {
      "application/vnd.jupyter.widget-view+json": {
       "model_id": "709869e4e2ee4f61aa4b5fbea56f6265",
       "version_major": 2,
       "version_minor": 0
      },
      "text/plain": [
       "0it [00:00, ?it/s]"
      ]
     },
     "metadata": {},
     "output_type": "display_data"
    },
    {
     "name": "stderr",
     "output_type": "stream",
     "text": [
      "2024-10-08 19:04:20 - INFO:pompon.optimizer - BEGIN TT-sweep 1/3\n",
      "2024-10-08 19:04:20 - INFO:pompon.optimizer - Maxdim=12, Cutoff=1.00e-03, Opt_tol=1.00e-03, Opt_maxiter=150\n",
      "2024-10-08 19:04:20 - INFO:pompon.optimizer - Maxdim is reached. Switch to one-dot core optimization\n",
      "2024-10-08 19:04:20 - INFO:pompon.optimizer - DONE TT-sweep 1/3\n",
      "2024-10-08 19:04:20 - INFO:pompon.optimizer - BEGIN TT-sweep 2/3\n",
      "2024-10-08 19:04:20 - INFO:pompon.optimizer - Maxdim=12, Cutoff=1.00e-03, Opt_tol=1.00e-03, Opt_maxiter=150\n",
      "2024-10-08 19:04:21 - INFO:pompon.optimizer - DONE TT-sweep 2/3\n",
      "2024-10-08 19:04:21 - INFO:pompon.optimizer - BEGIN TT-sweep 3/3\n",
      "2024-10-08 19:04:21 - INFO:pompon.optimizer - Maxdim=12, Cutoff=1.00e-03, Opt_tol=1.00e-03, Opt_maxiter=150\n",
      "2024-10-08 19:04:21 - INFO:pompon.optimizer - DONE TT-sweep 3/3\n"
     ]
    },
    {
     "data": {
      "application/vnd.jupyter.widget-view+json": {
       "model_id": "e2beb7c4b5544030a460a221849ef026",
       "version_major": 2,
       "version_minor": 0
      },
      "text/plain": [
       "0it [00:00, ?it/s]"
      ]
     },
     "metadata": {},
     "output_type": "display_data"
    },
    {
     "name": "stderr",
     "output_type": "stream",
     "text": [
      "2024-10-08 19:04:27 - INFO:pompon.optimizer - BEGIN TT-sweep 1/3\n",
      "2024-10-08 19:04:27 - INFO:pompon.optimizer - Maxdim=12, Cutoff=1.00e-03, Opt_tol=1.00e-03, Opt_maxiter=150\n",
      "2024-10-08 19:04:27 - INFO:pompon.optimizer - Maxdim is reached. Switch to one-dot core optimization\n",
      "2024-10-08 19:04:27 - INFO:pompon.optimizer - DONE TT-sweep 1/3\n",
      "2024-10-08 19:04:27 - INFO:pompon.optimizer - BEGIN TT-sweep 2/3\n",
      "2024-10-08 19:04:27 - INFO:pompon.optimizer - Maxdim=12, Cutoff=1.00e-03, Opt_tol=1.00e-03, Opt_maxiter=150\n",
      "2024-10-08 19:04:28 - INFO:pompon.optimizer - DONE TT-sweep 2/3\n",
      "2024-10-08 19:04:28 - INFO:pompon.optimizer - BEGIN TT-sweep 3/3\n",
      "2024-10-08 19:04:28 - INFO:pompon.optimizer - Maxdim=12, Cutoff=1.00e-03, Opt_tol=1.00e-03, Opt_maxiter=150\n",
      "2024-10-08 19:04:28 - INFO:pompon.optimizer - DONE TT-sweep 3/3\n"
     ]
    },
    {
     "data": {
      "application/vnd.jupyter.widget-view+json": {
       "model_id": "2447c0dc5a48485a9ec4fa82dd408871",
       "version_major": 2,
       "version_minor": 0
      },
      "text/plain": [
       "0it [00:00, ?it/s]"
      ]
     },
     "metadata": {},
     "output_type": "display_data"
    },
    {
     "name": "stderr",
     "output_type": "stream",
     "text": [
      "2024-10-08 19:04:34 - INFO:pompon.optimizer - BEGIN TT-sweep 1/3\n",
      "2024-10-08 19:04:34 - INFO:pompon.optimizer - Maxdim=12, Cutoff=1.00e-03, Opt_tol=1.00e-03, Opt_maxiter=150\n",
      "2024-10-08 19:04:34 - INFO:pompon.optimizer - Maxdim is reached. Switch to one-dot core optimization\n",
      "2024-10-08 19:04:34 - INFO:pompon.optimizer - DONE TT-sweep 1/3\n",
      "2024-10-08 19:04:34 - INFO:pompon.optimizer - BEGIN TT-sweep 2/3\n",
      "2024-10-08 19:04:34 - INFO:pompon.optimizer - Maxdim=12, Cutoff=1.00e-03, Opt_tol=1.00e-03, Opt_maxiter=150\n",
      "2024-10-08 19:04:35 - INFO:pompon.optimizer - DONE TT-sweep 2/3\n",
      "2024-10-08 19:04:35 - INFO:pompon.optimizer - BEGIN TT-sweep 3/3\n",
      "2024-10-08 19:04:35 - INFO:pompon.optimizer - Maxdim=12, Cutoff=1.00e-03, Opt_tol=1.00e-03, Opt_maxiter=150\n",
      "2024-10-08 19:04:35 - INFO:pompon.optimizer - DONE TT-sweep 3/3\n"
     ]
    },
    {
     "data": {
      "application/vnd.jupyter.widget-view+json": {
       "model_id": "4dfc9348b1b4425089f22e0c0405709e",
       "version_major": 2,
       "version_minor": 0
      },
      "text/plain": [
       "0it [00:00, ?it/s]"
      ]
     },
     "metadata": {},
     "output_type": "display_data"
    },
    {
     "name": "stderr",
     "output_type": "stream",
     "text": [
      "2024-10-08 19:04:42 - INFO:pompon.optimizer - BEGIN TT-sweep 1/3\n",
      "2024-10-08 19:04:42 - INFO:pompon.optimizer - Maxdim=12, Cutoff=1.00e-03, Opt_tol=1.00e-03, Opt_maxiter=150\n",
      "2024-10-08 19:04:42 - INFO:pompon.optimizer - Maxdim is reached. Switch to one-dot core optimization\n",
      "2024-10-08 19:04:42 - INFO:pompon.optimizer - DONE TT-sweep 1/3\n",
      "2024-10-08 19:04:42 - INFO:pompon.optimizer - BEGIN TT-sweep 2/3\n",
      "2024-10-08 19:04:42 - INFO:pompon.optimizer - Maxdim=12, Cutoff=1.00e-03, Opt_tol=1.00e-03, Opt_maxiter=150\n",
      "2024-10-08 19:04:42 - INFO:pompon.optimizer - DONE TT-sweep 2/3\n",
      "2024-10-08 19:04:42 - INFO:pompon.optimizer - BEGIN TT-sweep 3/3\n",
      "2024-10-08 19:04:42 - INFO:pompon.optimizer - Maxdim=12, Cutoff=1.00e-03, Opt_tol=1.00e-03, Opt_maxiter=150\n",
      "2024-10-08 19:04:42 - INFO:pompon.optimizer - DONE TT-sweep 3/3\n"
     ]
    },
    {
     "data": {
      "application/vnd.jupyter.widget-view+json": {
       "model_id": "b33f5303d93c475791f6252e12b46039",
       "version_major": 2,
       "version_minor": 0
      },
      "text/plain": [
       "0it [00:00, ?it/s]"
      ]
     },
     "metadata": {},
     "output_type": "display_data"
    },
    {
     "name": "stderr",
     "output_type": "stream",
     "text": [
      "2024-10-08 19:04:49 - INFO:pompon.optimizer - BEGIN TT-sweep 1/3\n",
      "2024-10-08 19:04:49 - INFO:pompon.optimizer - Maxdim=12, Cutoff=1.00e-03, Opt_tol=1.00e-03, Opt_maxiter=150\n",
      "2024-10-08 19:04:49 - INFO:pompon.optimizer - Maxdim is reached. Switch to one-dot core optimization\n",
      "2024-10-08 19:04:49 - INFO:pompon.optimizer - DONE TT-sweep 1/3\n",
      "2024-10-08 19:04:49 - INFO:pompon.optimizer - BEGIN TT-sweep 2/3\n",
      "2024-10-08 19:04:49 - INFO:pompon.optimizer - Maxdim=12, Cutoff=1.00e-03, Opt_tol=1.00e-03, Opt_maxiter=150\n",
      "2024-10-08 19:04:49 - INFO:pompon.optimizer - DONE TT-sweep 2/3\n",
      "2024-10-08 19:04:49 - INFO:pompon.optimizer - BEGIN TT-sweep 3/3\n",
      "2024-10-08 19:04:49 - INFO:pompon.optimizer - Maxdim=12, Cutoff=1.00e-03, Opt_tol=1.00e-03, Opt_maxiter=150\n",
      "2024-10-08 19:04:50 - INFO:pompon.optimizer - DONE TT-sweep 3/3\n"
     ]
    },
    {
     "data": {
      "application/vnd.jupyter.widget-view+json": {
       "model_id": "e8296c193deb4fba937b6275b84d3706",
       "version_major": 2,
       "version_minor": 0
      },
      "text/plain": [
       "0it [00:00, ?it/s]"
      ]
     },
     "metadata": {},
     "output_type": "display_data"
    },
    {
     "name": "stderr",
     "output_type": "stream",
     "text": [
      "2024-10-08 19:04:56 - INFO:pompon.optimizer - BEGIN TT-sweep 1/3\n",
      "2024-10-08 19:04:56 - INFO:pompon.optimizer - Maxdim=12, Cutoff=1.00e-03, Opt_tol=1.00e-03, Opt_maxiter=150\n",
      "2024-10-08 19:04:56 - INFO:pompon.optimizer - Maxdim is reached. Switch to one-dot core optimization\n",
      "2024-10-08 19:04:56 - INFO:pompon.optimizer - DONE TT-sweep 1/3\n",
      "2024-10-08 19:04:56 - INFO:pompon.optimizer - BEGIN TT-sweep 2/3\n",
      "2024-10-08 19:04:56 - INFO:pompon.optimizer - Maxdim=12, Cutoff=1.00e-03, Opt_tol=1.00e-03, Opt_maxiter=150\n",
      "2024-10-08 19:04:57 - INFO:pompon.optimizer - DONE TT-sweep 2/3\n",
      "2024-10-08 19:04:57 - INFO:pompon.optimizer - BEGIN TT-sweep 3/3\n",
      "2024-10-08 19:04:57 - INFO:pompon.optimizer - Maxdim=12, Cutoff=1.00e-03, Opt_tol=1.00e-03, Opt_maxiter=150\n",
      "2024-10-08 19:04:57 - INFO:pompon.optimizer - DONE TT-sweep 3/3\n"
     ]
    }
   ],
   "source": [
    "tx = optax.adam(1e-5)\n",
    "optimizer = nnx.Optimizer(model, tx)\n",
    "progress_bar = tqdm(range(1500))\n",
    "for i in progress_bar:\n",
    "    if i % 150 == 0:\n",
    "        norm, W = get_norm_W(tt)\n",
    "        concat_basis = get_concat_basis(x_train, model)\n",
    "        sweep(\n",
    "            tt=tt,\n",
    "            basis=concat_basis,\n",
    "            y=concat_y,\n",
    "            nsweeps=3,\n",
    "            maxdim=12,\n",
    "            opt_maxiter=150,\n",
    "            cutoff=1.e-03,\n",
    "            optax_solver=optax.adam(1.e-05),\n",
    "            onedot=False,\n",
    "        )\n",
    "        norm, W = get_norm_W(tt)\n",
    "    loss_train = train_step(\n",
    "        model, optimizer, x_train, y_train, f_train, W, norm\n",
    "    )\n",
    "    loss_valid = loss_fn(\n",
    "        model, x_valid, y_valid, f_valid, W, norm\n",
    "    )\n",
    "    losses_train.append(loss_train)\n",
    "    losses_valid.append(loss_valid)\n",
    "    progress_bar.set_postfix({\"train\": f\"{losses_train[-1]:.2e}\", \"valid\":f\"{losses_valid[-1]:.2e}\", \"ranks\": f\"{tt.ranks}\"})"
   ]
  },
  {
   "cell_type": "code",
   "execution_count": 26,
   "id": "d513b2d8-46fd-4617-b76c-17842d298cf4",
   "metadata": {},
   "outputs": [
    {
     "data": {
      "image/png": "[encoded data removed]",
      "text/plain": [
       "<Figure size 640x480 with 1 Axes>"
      ]
     },
     "metadata": {},
     "output_type": "display_data"
    },
    {
     "data": {
      "image/png": "[encoded data removed]",
      "text/plain": [
       "<Figure size 640x480 with 1 Axes>"
      ]
     },
     "metadata": {},
     "output_type": "display_data"
    }
   ],
   "source": [
    "show_trace(losses_train, losses_valid)\n",
    "show_basis(model, tt)"
   ]
  },
  {
   "cell_type": "code",
   "execution_count": 27,
   "id": "40a83b83-157a-4315-8656-a9dd85ab8700",
   "metadata": {
    "scrolled": true
   },
   "outputs": [
    {
     "data": {
      "application/vnd.jupyter.widget-view+json": {
       "model_id": "ce29f04a664f4096bfe75fc1cb654136",
       "version_major": 2,
       "version_minor": 0
      },
      "text/plain": [
       "0it [00:00, ?it/s]"
      ]
     },
     "metadata": {},
     "output_type": "display_data"
    },
    {
     "name": "stderr",
     "output_type": "stream",
     "text": [
      "2024-10-08 19:05:04 - INFO:pompon.optimizer - BEGIN TT-sweep 1/50\n",
      "2024-10-08 19:05:04 - INFO:pompon.optimizer - Maxdim=12, Cutoff=1.00e-02, Opt_tol=1.00e-12, Opt_maxiter=100000\n",
      "2024-10-08 19:05:07 - INFO:pompon.optimizer - DONE TT-sweep 1/50\n",
      "2024-10-08 19:05:07 - INFO:pompon.optimizer - BEGIN TT-sweep 2/50\n",
      "2024-10-08 19:05:07 - INFO:pompon.optimizer - Maxdim=12, Cutoff=1.00e-02, Opt_tol=1.00e-12, Opt_maxiter=100000\n",
      "2024-10-08 19:05:09 - INFO:pompon.optimizer - DONE TT-sweep 2/50\n",
      "2024-10-08 19:05:09 - INFO:pompon.optimizer - BEGIN TT-sweep 3/50\n",
      "2024-10-08 19:05:09 - INFO:pompon.optimizer - Maxdim=12, Cutoff=1.00e-02, Opt_tol=1.00e-12, Opt_maxiter=100000\n",
      "2024-10-08 19:05:12 - INFO:pompon.optimizer - DONE TT-sweep 3/50\n",
      "2024-10-08 19:05:12 - INFO:pompon.optimizer - BEGIN TT-sweep 4/50\n",
      "2024-10-08 19:05:12 - INFO:pompon.optimizer - Maxdim=12, Cutoff=1.00e-02, Opt_tol=1.00e-12, Opt_maxiter=100000\n",
      "2024-10-08 19:05:14 - INFO:pompon.optimizer - DONE TT-sweep 4/50\n",
      "2024-10-08 19:05:14 - INFO:pompon.optimizer - BEGIN TT-sweep 5/50\n",
      "2024-10-08 19:05:14 - INFO:pompon.optimizer - Maxdim=12, Cutoff=1.00e-02, Opt_tol=1.00e-12, Opt_maxiter=100000\n",
      "2024-10-08 19:05:17 - INFO:pompon.optimizer - DONE TT-sweep 5/50\n",
      "2024-10-08 19:05:17 - INFO:pompon.optimizer - BEGIN TT-sweep 6/50\n",
      "2024-10-08 19:05:17 - INFO:pompon.optimizer - Maxdim=12, Cutoff=1.00e-02, Opt_tol=1.00e-12, Opt_maxiter=100000\n",
      "2024-10-08 19:05:20 - INFO:pompon.optimizer - DONE TT-sweep 6/50\n",
      "2024-10-08 19:05:20 - INFO:pompon.optimizer - BEGIN TT-sweep 7/50\n",
      "2024-10-08 19:05:20 - INFO:pompon.optimizer - Maxdim=12, Cutoff=1.00e-02, Opt_tol=1.00e-12, Opt_maxiter=100000\n",
      "2024-10-08 19:05:22 - INFO:pompon.optimizer - DONE TT-sweep 7/50\n",
      "2024-10-08 19:05:22 - INFO:pompon.optimizer - BEGIN TT-sweep 8/50\n",
      "2024-10-08 19:05:22 - INFO:pompon.optimizer - Maxdim=12, Cutoff=1.00e-02, Opt_tol=1.00e-12, Opt_maxiter=100000\n",
      "2024-10-08 19:05:25 - INFO:pompon.optimizer - DONE TT-sweep 8/50\n",
      "2024-10-08 19:05:25 - INFO:pompon.optimizer - BEGIN TT-sweep 9/50\n",
      "2024-10-08 19:05:25 - INFO:pompon.optimizer - Maxdim=12, Cutoff=1.00e-02, Opt_tol=1.00e-12, Opt_maxiter=100000\n",
      "2024-10-08 19:05:28 - INFO:pompon.optimizer - DONE TT-sweep 9/50\n",
      "2024-10-08 19:05:28 - INFO:pompon.optimizer - BEGIN TT-sweep 10/50\n",
      "2024-10-08 19:05:28 - INFO:pompon.optimizer - Maxdim=12, Cutoff=1.00e-02, Opt_tol=1.00e-12, Opt_maxiter=100000\n",
      "2024-10-08 19:05:31 - INFO:pompon.optimizer - DONE TT-sweep 10/50\n",
      "2024-10-08 19:05:31 - INFO:pompon.optimizer - BEGIN TT-sweep 11/50\n",
      "2024-10-08 19:05:31 - INFO:pompon.optimizer - Maxdim=12, Cutoff=1.00e-02, Opt_tol=1.00e-12, Opt_maxiter=100000\n",
      "2024-10-08 19:05:34 - INFO:pompon.optimizer - DONE TT-sweep 11/50\n",
      "2024-10-08 19:05:34 - INFO:pompon.optimizer - BEGIN TT-sweep 12/50\n",
      "2024-10-08 19:05:34 - INFO:pompon.optimizer - Maxdim=12, Cutoff=1.00e-02, Opt_tol=1.00e-12, Opt_maxiter=100000\n",
      "2024-10-08 19:05:36 - INFO:pompon.optimizer - DONE TT-sweep 12/50\n",
      "2024-10-08 19:05:36 - INFO:pompon.optimizer - BEGIN TT-sweep 13/50\n",
      "2024-10-08 19:05:36 - INFO:pompon.optimizer - Maxdim=12, Cutoff=1.00e-02, Opt_tol=1.00e-12, Opt_maxiter=100000\n",
      "2024-10-08 19:05:39 - INFO:pompon.optimizer - DONE TT-sweep 13/50\n",
      "2024-10-08 19:05:39 - INFO:pompon.optimizer - BEGIN TT-sweep 14/50\n",
      "2024-10-08 19:05:39 - INFO:pompon.optimizer - Maxdim=12, Cutoff=1.00e-02, Opt_tol=1.00e-12, Opt_maxiter=100000\n",
      "2024-10-08 19:05:42 - INFO:pompon.optimizer - DONE TT-sweep 14/50\n",
      "2024-10-08 19:05:42 - INFO:pompon.optimizer - BEGIN TT-sweep 15/50\n",
      "2024-10-08 19:05:42 - INFO:pompon.optimizer - Maxdim=12, Cutoff=1.00e-02, Opt_tol=1.00e-12, Opt_maxiter=100000\n",
      "2024-10-08 19:05:44 - INFO:pompon.optimizer - DONE TT-sweep 15/50\n",
      "2024-10-08 19:05:44 - INFO:pompon.optimizer - BEGIN TT-sweep 16/50\n",
      "2024-10-08 19:05:44 - INFO:pompon.optimizer - Maxdim=12, Cutoff=1.00e-02, Opt_tol=1.00e-12, Opt_maxiter=100000\n",
      "2024-10-08 19:05:47 - INFO:pompon.optimizer - DONE TT-sweep 16/50\n",
      "2024-10-08 19:05:47 - INFO:pompon.optimizer - BEGIN TT-sweep 17/50\n",
      "2024-10-08 19:05:47 - INFO:pompon.optimizer - Maxdim=12, Cutoff=1.00e-02, Opt_tol=1.00e-12, Opt_maxiter=100000\n",
      "2024-10-08 19:05:50 - INFO:pompon.optimizer - DONE TT-sweep 17/50\n",
      "2024-10-08 19:05:50 - INFO:pompon.optimizer - BEGIN TT-sweep 18/50\n",
      "2024-10-08 19:05:50 - INFO:pompon.optimizer - Maxdim=12, Cutoff=1.00e-02, Opt_tol=1.00e-12, Opt_maxiter=100000\n",
      "2024-10-08 19:05:52 - INFO:pompon.optimizer - DONE TT-sweep 18/50\n",
      "2024-10-08 19:05:52 - INFO:pompon.optimizer - BEGIN TT-sweep 19/50\n",
      "2024-10-08 19:05:52 - INFO:pompon.optimizer - Maxdim=12, Cutoff=1.00e-02, Opt_tol=1.00e-12, Opt_maxiter=100000\n",
      "2024-10-08 19:05:55 - INFO:pompon.optimizer - DONE TT-sweep 19/50\n",
      "2024-10-08 19:05:55 - INFO:pompon.optimizer - BEGIN TT-sweep 20/50\n",
      "2024-10-08 19:05:55 - INFO:pompon.optimizer - Maxdim=12, Cutoff=1.00e-02, Opt_tol=1.00e-12, Opt_maxiter=100000\n",
      "2024-10-08 19:05:58 - INFO:pompon.optimizer - DONE TT-sweep 20/50\n",
      "2024-10-08 19:05:58 - INFO:pompon.optimizer - BEGIN TT-sweep 21/50\n",
      "2024-10-08 19:05:58 - INFO:pompon.optimizer - Maxdim=12, Cutoff=1.00e-02, Opt_tol=1.00e-12, Opt_maxiter=100000\n",
      "2024-10-08 19:06:00 - INFO:pompon.optimizer - DONE TT-sweep 21/50\n",
      "2024-10-08 19:06:00 - INFO:pompon.optimizer - BEGIN TT-sweep 22/50\n",
      "2024-10-08 19:06:00 - INFO:pompon.optimizer - Maxdim=12, Cutoff=1.00e-02, Opt_tol=1.00e-12, Opt_maxiter=100000\n",
      "2024-10-08 19:06:03 - INFO:pompon.optimizer - DONE TT-sweep 22/50\n",
      "2024-10-08 19:06:03 - INFO:pompon.optimizer - BEGIN TT-sweep 23/50\n",
      "2024-10-08 19:06:03 - INFO:pompon.optimizer - Maxdim=12, Cutoff=1.00e-02, Opt_tol=1.00e-12, Opt_maxiter=100000\n",
      "2024-10-08 19:06:06 - INFO:pompon.optimizer - DONE TT-sweep 23/50\n",
      "2024-10-08 19:06:06 - INFO:pompon.optimizer - BEGIN TT-sweep 24/50\n",
      "2024-10-08 19:06:06 - INFO:pompon.optimizer - Maxdim=12, Cutoff=1.00e-02, Opt_tol=1.00e-12, Opt_maxiter=100000\n",
      "2024-10-08 19:06:08 - INFO:pompon.optimizer - DONE TT-sweep 24/50\n",
      "2024-10-08 19:06:08 - INFO:pompon.optimizer - BEGIN TT-sweep 25/50\n",
      "2024-10-08 19:06:08 - INFO:pompon.optimizer - Maxdim=12, Cutoff=1.00e-02, Opt_tol=1.00e-12, Opt_maxiter=100000\n",
      "2024-10-08 19:06:11 - INFO:pompon.optimizer - DONE TT-sweep 25/50\n",
      "2024-10-08 19:06:11 - INFO:pompon.optimizer - BEGIN TT-sweep 26/50\n",
      "2024-10-08 19:06:11 - INFO:pompon.optimizer - Maxdim=12, Cutoff=1.00e-02, Opt_tol=1.00e-12, Opt_maxiter=100000\n",
      "2024-10-08 19:06:13 - INFO:pompon.optimizer - DONE TT-sweep 26/50\n",
      "2024-10-08 19:06:13 - INFO:pompon.optimizer - BEGIN TT-sweep 27/50\n",
      "2024-10-08 19:06:13 - INFO:pompon.optimizer - Maxdim=12, Cutoff=1.00e-02, Opt_tol=1.00e-12, Opt_maxiter=100000\n",
      "2024-10-08 19:06:16 - INFO:pompon.optimizer - DONE TT-sweep 27/50\n",
      "2024-10-08 19:06:16 - INFO:pompon.optimizer - BEGIN TT-sweep 28/50\n",
      "2024-10-08 19:06:16 - INFO:pompon.optimizer - Maxdim=12, Cutoff=1.00e-02, Opt_tol=1.00e-12, Opt_maxiter=100000\n",
      "2024-10-08 19:06:19 - INFO:pompon.optimizer - DONE TT-sweep 28/50\n",
      "2024-10-08 19:06:19 - INFO:pompon.optimizer - BEGIN TT-sweep 29/50\n",
      "2024-10-08 19:06:19 - INFO:pompon.optimizer - Maxdim=12, Cutoff=1.00e-02, Opt_tol=1.00e-12, Opt_maxiter=100000\n",
      "2024-10-08 19:06:21 - INFO:pompon.optimizer - DONE TT-sweep 29/50\n",
      "2024-10-08 19:06:21 - INFO:pompon.optimizer - BEGIN TT-sweep 30/50\n",
      "2024-10-08 19:06:21 - INFO:pompon.optimizer - Maxdim=12, Cutoff=1.00e-02, Opt_tol=1.00e-12, Opt_maxiter=100000\n",
      "2024-10-08 19:06:24 - INFO:pompon.optimizer - DONE TT-sweep 30/50\n",
      "2024-10-08 19:06:24 - INFO:pompon.optimizer - BEGIN TT-sweep 31/50\n",
      "2024-10-08 19:06:24 - INFO:pompon.optimizer - Maxdim=12, Cutoff=1.00e-02, Opt_tol=1.00e-12, Opt_maxiter=100000\n",
      "2024-10-08 19:06:26 - INFO:pompon.optimizer - DONE TT-sweep 31/50\n",
      "2024-10-08 19:06:26 - INFO:pompon.optimizer - BEGIN TT-sweep 32/50\n",
      "2024-10-08 19:06:26 - INFO:pompon.optimizer - Maxdim=12, Cutoff=1.00e-02, Opt_tol=1.00e-12, Opt_maxiter=100000\n",
      "2024-10-08 19:06:29 - INFO:pompon.optimizer - DONE TT-sweep 32/50\n",
      "2024-10-08 19:06:29 - INFO:pompon.optimizer - BEGIN TT-sweep 33/50\n",
      "2024-10-08 19:06:29 - INFO:pompon.optimizer - Maxdim=12, Cutoff=1.00e-02, Opt_tol=1.00e-12, Opt_maxiter=100000\n",
      "2024-10-08 19:06:32 - INFO:pompon.optimizer - DONE TT-sweep 33/50\n",
      "2024-10-08 19:06:32 - INFO:pompon.optimizer - BEGIN TT-sweep 34/50\n",
      "2024-10-08 19:06:32 - INFO:pompon.optimizer - Maxdim=12, Cutoff=1.00e-02, Opt_tol=1.00e-12, Opt_maxiter=100000\n",
      "2024-10-08 19:06:34 - INFO:pompon.optimizer - DONE TT-sweep 34/50\n",
      "2024-10-08 19:06:34 - INFO:pompon.optimizer - BEGIN TT-sweep 35/50\n",
      "2024-10-08 19:06:34 - INFO:pompon.optimizer - Maxdim=12, Cutoff=1.00e-02, Opt_tol=1.00e-12, Opt_maxiter=100000\n",
      "2024-10-08 19:06:37 - INFO:pompon.optimizer - DONE TT-sweep 35/50\n",
      "2024-10-08 19:06:37 - INFO:pompon.optimizer - BEGIN TT-sweep 36/50\n",
      "2024-10-08 19:06:37 - INFO:pompon.optimizer - Maxdim=12, Cutoff=1.00e-02, Opt_tol=1.00e-12, Opt_maxiter=100000\n",
      "2024-10-08 19:06:39 - INFO:pompon.optimizer - DONE TT-sweep 36/50\n",
      "2024-10-08 19:06:39 - INFO:pompon.optimizer - BEGIN TT-sweep 37/50\n",
      "2024-10-08 19:06:39 - INFO:pompon.optimizer - Maxdim=12, Cutoff=1.00e-02, Opt_tol=1.00e-12, Opt_maxiter=100000\n",
      "2024-10-08 19:06:42 - INFO:pompon.optimizer - DONE TT-sweep 37/50\n",
      "2024-10-08 19:06:42 - INFO:pompon.optimizer - BEGIN TT-sweep 38/50\n",
      "2024-10-08 19:06:42 - INFO:pompon.optimizer - Maxdim=12, Cutoff=1.00e-02, Opt_tol=1.00e-12, Opt_maxiter=100000\n",
      "2024-10-08 19:06:44 - INFO:pompon.optimizer - DONE TT-sweep 38/50\n",
      "2024-10-08 19:06:44 - INFO:pompon.optimizer - BEGIN TT-sweep 39/50\n",
      "2024-10-08 19:06:44 - INFO:pompon.optimizer - Maxdim=12, Cutoff=1.00e-02, Opt_tol=1.00e-12, Opt_maxiter=100000\n",
      "2024-10-08 19:06:47 - INFO:pompon.optimizer - DONE TT-sweep 39/50\n",
      "2024-10-08 19:06:47 - INFO:pompon.optimizer - BEGIN TT-sweep 40/50\n",
      "2024-10-08 19:06:47 - INFO:pompon.optimizer - Maxdim=12, Cutoff=1.00e-02, Opt_tol=1.00e-12, Opt_maxiter=100000\n",
      "2024-10-08 19:06:49 - INFO:pompon.optimizer - DONE TT-sweep 40/50\n",
      "2024-10-08 19:06:49 - INFO:pompon.optimizer - BEGIN TT-sweep 41/50\n",
      "2024-10-08 19:06:49 - INFO:pompon.optimizer - Maxdim=12, Cutoff=1.00e-02, Opt_tol=1.00e-12, Opt_maxiter=100000\n",
      "2024-10-08 19:06:52 - INFO:pompon.optimizer - DONE TT-sweep 41/50\n",
      "2024-10-08 19:06:52 - INFO:pompon.optimizer - BEGIN TT-sweep 42/50\n",
      "2024-10-08 19:06:52 - INFO:pompon.optimizer - Maxdim=12, Cutoff=1.00e-02, Opt_tol=1.00e-12, Opt_maxiter=100000\n",
      "2024-10-08 19:06:55 - INFO:pompon.optimizer - DONE TT-sweep 42/50\n",
      "2024-10-08 19:06:55 - INFO:pompon.optimizer - BEGIN TT-sweep 43/50\n",
      "2024-10-08 19:06:55 - INFO:pompon.optimizer - Maxdim=12, Cutoff=1.00e-02, Opt_tol=1.00e-12, Opt_maxiter=100000\n",
      "2024-10-08 19:06:57 - INFO:pompon.optimizer - DONE TT-sweep 43/50\n",
      "2024-10-08 19:06:57 - INFO:pompon.optimizer - BEGIN TT-sweep 44/50\n",
      "2024-10-08 19:06:57 - INFO:pompon.optimizer - Maxdim=12, Cutoff=1.00e-02, Opt_tol=1.00e-12, Opt_maxiter=100000\n",
      "2024-10-08 19:07:00 - INFO:pompon.optimizer - DONE TT-sweep 44/50\n",
      "2024-10-08 19:07:00 - INFO:pompon.optimizer - BEGIN TT-sweep 45/50\n",
      "2024-10-08 19:07:00 - INFO:pompon.optimizer - Maxdim=12, Cutoff=1.00e-02, Opt_tol=1.00e-12, Opt_maxiter=100000\n",
      "2024-10-08 19:07:02 - INFO:pompon.optimizer - DONE TT-sweep 45/50\n",
      "2024-10-08 19:07:02 - INFO:pompon.optimizer - BEGIN TT-sweep 46/50\n",
      "2024-10-08 19:07:02 - INFO:pompon.optimizer - Maxdim=12, Cutoff=1.00e-02, Opt_tol=1.00e-12, Opt_maxiter=100000\n",
      "2024-10-08 19:07:05 - INFO:pompon.optimizer - DONE TT-sweep 46/50\n",
      "2024-10-08 19:07:05 - INFO:pompon.optimizer - BEGIN TT-sweep 47/50\n",
      "2024-10-08 19:07:05 - INFO:pompon.optimizer - Maxdim=12, Cutoff=1.00e-02, Opt_tol=1.00e-12, Opt_maxiter=100000\n",
      "2024-10-08 19:07:07 - INFO:pompon.optimizer - DONE TT-sweep 47/50\n",
      "2024-10-08 19:07:07 - INFO:pompon.optimizer - BEGIN TT-sweep 48/50\n",
      "2024-10-08 19:07:07 - INFO:pompon.optimizer - Maxdim=12, Cutoff=1.00e-02, Opt_tol=1.00e-12, Opt_maxiter=100000\n",
      "2024-10-08 19:07:09 - INFO:pompon.optimizer - DONE TT-sweep 48/50\n",
      "2024-10-08 19:07:09 - INFO:pompon.optimizer - BEGIN TT-sweep 49/50\n",
      "2024-10-08 19:07:09 - INFO:pompon.optimizer - Maxdim=12, Cutoff=1.00e-02, Opt_tol=1.00e-12, Opt_maxiter=100000\n",
      "2024-10-08 19:07:12 - INFO:pompon.optimizer - DONE TT-sweep 49/50\n",
      "2024-10-08 19:07:12 - INFO:pompon.optimizer - BEGIN TT-sweep 50/50\n",
      "2024-10-08 19:07:12 - INFO:pompon.optimizer - Maxdim=12, Cutoff=1.00e-02, Opt_tol=1.00e-12, Opt_maxiter=100000\n",
      "2024-10-08 19:07:14 - INFO:pompon.optimizer - DONE TT-sweep 50/50\n"
     ]
    }
   ],
   "source": [
    "concat_basis = get_concat_basis(x_train, model)\n",
    "sweep(\n",
    "            tt=tt,\n",
    "            basis=concat_basis,\n",
    "            y=concat_y,\n",
    "            nsweeps=50,\n",
    "            opt_tol=1.e-12,\n",
    "            maxdim=12,\n",
    "            opt_maxiter=100000,\n",
    "            use_CG=True,\n",
    "            onedot=True,\n",
    ")\n",
    "tx = optax.adam(0.0)\n",
    "optimizer = nnx.Optimizer(model, tx)\n",
    "norm, W = get_norm_W(tt)\n",
    "loss_train = train_step(\n",
    "        model, optimizer, x_train, y_train, f_train, W, norm\n",
    ")\n",
    "loss_valid = loss_fn(\n",
    "        model, x_valid, y_valid, f_valid, W, norm\n",
    "    )\n",
    "losses_train.append(loss_train)\n",
    "losses_valid.append(loss_valid)"
   ]
  },
  {
   "cell_type": "code",
   "execution_count": 28,
   "id": "a9479228-3c16-424c-b1a7-afc556c74d7d",
   "metadata": {},
   "outputs": [
    {
     "data": {
      "image/png": "[encoded data removed]",
      "text/plain": [
       "<Figure size 640x480 with 1 Axes>"
      ]
     },
     "metadata": {},
     "output_type": "display_data"
    }
   ],
   "source": [
    "show_trace(losses_train, losses_valid)"
   ]
  },
  {
   "cell_type": "code",
   "execution_count": 29,
   "id": "f4410ada-469f-4561-a1c2-aacde963e7aa",
   "metadata": {},
   "outputs": [
    {
     "data": {
      "image/png": "[encoded data removed]",
      "text/plain": [
       "<Figure size 640x480 with 1 Axes>"
      ]
     },
     "metadata": {},
     "output_type": "display_data"
    }
   ],
   "source": [
    "y_shift = -3112.1604302407663  # eV (mean)\n",
    "y_min = -3113.4044750979383  # eV (eq. position)\n",
    "\n",
    "fig, ax = plt.subplots(dpi=100)\n",
    "y_pred = model(jnp.array(x_test), W, norm)\n",
    "\n",
    "ax.scatter(\n",
    "    (y_test + y_shift - y_min) * 8.065544e3,\n",
    "    (y_pred + y_shift - y_min) * 8.065544e3,\n",
    "    s=1,\n",
    ")\n",
    "plt.gca().set_aspect(\"equal\", adjustable=\"box\")\n",
    "plt.xlabel(\"Test [cm$^{-1}$]\")\n",
    "plt.ylabel(\"Prediction [cm$^{-1}$]\")\n",
    "plt.xlim(0, 20000)\n",
    "plt.ylim(0, 20000)\n",
    "plt.title(\"Energy accuracy\")\n",
    "plt.tight_layout()\n",
    "plt.show()"
   ]
  },
  {
   "cell_type": "code",
   "execution_count": 30,
   "id": "bc0fa08a-8d92-4e03-bea9-42b6daaa4209",
   "metadata": {},
   "outputs": [
    {
     "data": {
      "text/plain": [
       "np.float64(33.0846775538686)"
      ]
     },
     "execution_count": 30,
     "metadata": {},
     "output_type": "execute_result"
    }
   ],
   "source": [
    "np.mean(np.abs(y_test - y_pred)) * 8.065544e3"
   ]
  }
 ],
 "metadata": {
  "kernelspec": {
   "display_name": "Python 3 (ipykernel)",
   "language": "python",
   "name": "python3"
  },
  "language_info": {
   "codemirror_mode": {
    "name": "ipython",
    "version": 3
   },
   "file_extension": ".py",
   "mimetype": "text/x-python",
   "name": "python",
   "nbconvert_exporter": "python",
   "pygments_lexer": "ipython3",
   "version": "3.12.2"
  }
 },
 "nbformat": 4,
 "nbformat_minor": 5
}
