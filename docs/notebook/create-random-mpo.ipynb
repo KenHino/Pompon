{
 "cells": [
  {
   "cell_type": "markdown",
   "id": "031c6901-9501-4254-a08d-92fe8bcbd3d4",
   "metadata": {},
   "source": [
    "# Create empty-mpo"
   ]
  },
  {
   "cell_type": "markdown",
   "id": "715423b5-db46-4788-a4f5-9ea065d3e33e",
   "metadata": {},
   "source": [
    "**Note that this notebook is executed by Julia!!!**"
   ]
  },
  {
   "cell_type": "code",
   "execution_count": 1,
   "id": "1fcc395e",
   "metadata": {},
   "outputs": [
    {
     "name": "stdout",
     "output_type": "stream",
     "text": [
      "Julia Version 1.10.5\n",
      "Commit 6f3fdf7b362 (2024-08-27 14:19 UTC)\n",
      "Build Info:\n",
      "  Official https://julialang.org/ release\n",
      "Platform Info:\n",
      "  OS: macOS (arm64-apple-darwin22.4.0)\n",
      "  CPU: 8 × Apple M2\n",
      "  WORD_SIZE: 64\n",
      "  LIBM: libopenlibm\n",
      "  LLVM: libLLVM-15.0.7 (ORCJIT, apple-m1)\n",
      "Threads: 1 default, 0 interactive, 1 GC (on 4 virtual cores)\n"
     ]
    }
   ],
   "source": [
    "versioninfo()"
   ]
  },
  {
   "cell_type": "code",
   "execution_count": 2,
   "id": "d3159424-8bc1-4eda-b01b-cf2d32ae572f",
   "metadata": {},
   "outputs": [
    {
     "data": {
      "text/plain": [
       "v\"0.6.11\""
      ]
     },
     "execution_count": 2,
     "metadata": {},
     "output_type": "execute_result"
    }
   ],
   "source": [
    "using ITensors\n",
    "using HDF5\n",
    "\n",
    "ITensors.version()"
   ]
  },
  {
   "cell_type": "code",
   "execution_count": 3,
   "id": "bafc62ec",
   "metadata": {},
   "outputs": [],
   "source": [
    "N = 6\n",
    "sites = siteinds(\"Boson\", N, dim=9)\n",
    "f = h5open(\"random-mpo.h5\",\"w\")\n",
    "write(f, \"H\", randomMPO(sites))\n",
    "close(f)"
   ]
  },
  {
   "cell_type": "code",
   "execution_count": 4,
   "id": "520c15aa-b4e5-49de-a0a1-3f6706578e52",
   "metadata": {},
   "outputs": [
    {
     "data": {
      "text/plain": [
       "6-element Vector{Index{Int64}}:\n",
       " (dim=9|id=748|\"Boson,Site,n=1\")\n",
       " (dim=9|id=990|\"Boson,Site,n=2\")\n",
       " (dim=9|id=365|\"Boson,Site,n=3\")\n",
       " (dim=9|id=838|\"Boson,Site,n=4\")\n",
       " (dim=9|id=662|\"Boson,Site,n=5\")\n",
       " (dim=9|id=117|\"Boson,Site,n=6\")"
      ]
     },
     "execution_count": 4,
     "metadata": {},
     "output_type": "execute_result"
    }
   ],
   "source": [
    "sites"
   ]
  }
 ],
 "metadata": {
  "kernelspec": {
   "display_name": "Julia 1.10.5 1.10.5",
   "language": "julia",
   "name": "julia-1.10.5-1.10"
  },
  "language_info": {
   "file_extension": ".jl",
   "mimetype": "application/julia",
   "name": "julia",
   "version": "1.10.5"
  }
 },
 "nbformat": 4,
 "nbformat_minor": 5
}
